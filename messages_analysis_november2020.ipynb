{
 "cells": [
  {
   "cell_type": "code",
   "execution_count": 392,
   "metadata": {},
   "outputs": [],
   "source": [
    "# Importing packages\n",
    "import cx_Oracle\n",
    "import pandas as pd\n",
    "from datetime import timedelta\n",
    "from datetime import datetime\n",
    "import numpy as np\n",
    "import matplotlib.pyplot as plt\n",
    "import seaborn as sns"
   ]
  },
  {
   "cell_type": "code",
   "execution_count": 393,
   "metadata": {},
   "outputs": [],
   "source": [
    "# Variable declaration\n",
    "a = timedelta(seconds=300)\n",
    "\n",
    "# Show all rows\n",
    "pd.set_option('display.max_rows', None)"
   ]
  },
  {
   "cell_type": "code",
   "execution_count": 394,
   "metadata": {},
   "outputs": [],
   "source": [
    "# Importing data from Oracle database\n",
    "con = cx_Oracle.connect('STC_SETRAG/art@localhost/XE')\n",
    "cur = con.cursor()\n",
    "\n",
    "# First Query\n",
    "query=cur.execute('select * from historico_mensagens')\n",
    "df = pd.DataFrame(query)\n",
    "# Second Query\n",
    "query=cur.execute('select EV_NOM_MAC from ELEM_VIA where TE_ID_TP = 3')\n",
    "df_sb = pd.DataFrame(query)\n",
    "\n",
    "cur.close()\n",
    "con.close()"
   ]
  },
  {
   "cell_type": "code",
   "execution_count": 395,
   "metadata": {},
   "outputs": [],
   "source": [
    "# Formatting dataframe\n",
    "\n",
    "# Adding names to the columns of the dataframes\n",
    "df.columns=['HM_ID_HM','HM_LOCO_MSG','HM_PRF_TRM','HM_OBC_MSG','HM_NUM_MSG','HM_TP_MSG','HM_DAT_OBC','HM_DAT_STC',\n",
    "            'HM_TXT_MSG','HM_TXT_TW','HM_LAT_HM','HM_LON_HM','HM_ENV_RCB','HM_MSG_VOZ','HM_NUM_FUN','HM_ID_AUX','HM_SIT_ENV','MT_ID_MT']\n",
    "df_sb.columns=['NAME']\n",
    "# Dropping tables with no use\n",
    "df = df.drop(['HM_TP_MSG','HM_TXT_TW','MT_ID_MT','HM_ID_AUX','HM_OBC_MSG','HM_LAT_HM','HM_LON_HM'], axis=1)"
   ]
  },
  {
   "cell_type": "code",
   "execution_count": 396,
   "metadata": {},
   "outputs": [],
   "source": [
    "# Splitting dataframe in 'Sent' and 'Received' messages\n",
    "df_sent = df.loc[df['HM_ENV_RCB']=='E']\n",
    "df_received = df.loc[df['HM_ENV_RCB']=='R']\n",
    "\n",
    "# Removing the original dataframe\n",
    "df = pd.DataFrame(None)"
   ]
  },
  {
   "cell_type": "code",
   "execution_count": 397,
   "metadata": {},
   "outputs": [],
   "source": [
    "# Filter Part I \n",
    "\n",
    "# Sent DataFrame\n",
    "# 1) Filter messages from november 2020\n",
    "df_sent = df_sent.loc[df_sent['HM_DAT_STC']>'2020-11-01']\n",
    "# 2) Filter all messages that contain OBC time\n",
    "df_sent = df_sent.loc[df_sent['HM_DAT_OBC'].notnull()]\n",
    "\n",
    "# Received DataFrame\n",
    "# 1) Filter all messages that did not expired\n",
    "df_received = df_received.loc[df_received['HM_SIT_ENV']=='E']\n",
    "# 2) Filter messages from november 2020\n",
    "df_received = df_received.loc[df_received['HM_DAT_STC']>'2020-11-01']\n",
    "# 3) Filter all messages that contain OBC time\n",
    "df_received = df_received.loc[df_received['HM_DAT_OBC'].notnull()]\n",
    "# 4) Filter all messages that have a date later than needed\n",
    "df_received = df_received.loc[df_received['HM_DAT_OBC']<'2020-12-01']"
   ]
  },
  {
   "cell_type": "code",
   "execution_count": 398,
   "metadata": {},
   "outputs": [
    {
     "data": {
      "text/plain": [
       "((54017, 11), (76358, 11))"
      ]
     },
     "execution_count": 398,
     "metadata": {},
     "output_type": "execute_result"
    }
   ],
   "source": [
    "# Returns amount of messages after the first filtering\n",
    "df_sent.shape, df_received.shape"
   ]
  },
  {
   "cell_type": "code",
   "execution_count": 399,
   "metadata": {},
   "outputs": [
    {
     "data": {
      "text/plain": [
       "(54017, 76358)"
      ]
     },
     "execution_count": 399,
     "metadata": {},
     "output_type": "execute_result"
    }
   ],
   "source": [
    "# Storing the total of messages in a variable after first filtering for both Sent and Received messages\n",
    "\n",
    "# Sent\n",
    "totalSentMessages = len(df_sent['HM_ID_HM'])\n",
    "\n",
    "# Received\n",
    "totalReceivedMessages = len(df_received['HM_ID_HM'])\n",
    "\n",
    "totalSentMessages, totalReceivedMessages"
   ]
  },
  {
   "cell_type": "code",
   "execution_count": 400,
   "metadata": {},
   "outputs": [
    {
     "data": {
      "text/plain": [
       "('0:02:58', '0:00:49')"
      ]
     },
     "execution_count": 400,
     "metadata": {},
     "output_type": "execute_result"
    }
   ],
   "source": [
    "# Return the average delivery time of Sent and Received messages\n",
    "\n",
    "# Sent\n",
    "df_sent['DELIVERY_TIME'] = df_sent['HM_DAT_OBC']-df_sent['HM_DAT_STC']\n",
    "# Converting to string in order to execute a mathematic operation\n",
    "df_sent['DELIVERY_TIME'] = df_sent['DELIVERY_TIME']/np.timedelta64(1, 's')\n",
    "totalSent = sum(df_sent.iloc[:,11])\n",
    "averageSentDelivery = round(totalSent/totalSentMessages,0)\n",
    "# Converting from float to mm:ss\n",
    "averageSentDelivery = timedelta(seconds=averageSentDelivery)\n",
    "averageSentDelivery=str(averageSentDelivery)\n",
    "\n",
    "# Received\n",
    "df_received['DELIVERY_TIME'] = df_received['HM_DAT_STC']-df_received['HM_DAT_OBC']\n",
    "# Converting to string in order to execute a mathematic operation\n",
    "df_received['DELIVERY_TIME'] = df_received['DELIVERY_TIME']/np.timedelta64(1, 's')\n",
    "totalReceived = sum(df_received.iloc[:,11])\n",
    "averageReceivedDelivery = round(totalReceived/totalReceivedMessages,0)\n",
    "# Converting from float to mm:ss\n",
    "averageReceivedDelivery = timedelta(seconds=averageReceivedDelivery)\n",
    "averageReceivedDelivery = str(averageReceivedDelivery)\n",
    "\n",
    "averageSentDelivery, averageReceivedDelivery"
   ]
  },
  {
   "cell_type": "code",
   "execution_count": 401,
   "metadata": {},
   "outputs": [
    {
     "data": {
      "text/plain": [
       "'0:01:42'"
      ]
     },
     "execution_count": 401,
     "metadata": {},
     "output_type": "execute_result"
    }
   ],
   "source": [
    "# Return the average delivery time of Sent and Received messages combined\n",
    "averageDelivery = round((totalSent + totalReceived)/(totalSentMessages + totalReceivedMessages),0)\n",
    "# Converting from float to mm:ss\n",
    "averageDelivery = timedelta(seconds=averageDelivery)\n",
    "averageDelivery = str(averageDelivery)\n",
    "\n",
    "averageDelivery"
   ]
  },
  {
   "cell_type": "code",
   "execution_count": 402,
   "metadata": {},
   "outputs": [
    {
     "name": "stderr",
     "output_type": "stream",
     "text": [
      "D:\\anaconda\\lib\\site-packages\\seaborn\\distributions.py:2551: FutureWarning: `distplot` is a deprecated function and will be removed in a future version. Please adapt your code to use either `displot` (a figure-level function with similar flexibility) or `kdeplot` (an axes-level function for kernel density plots).\n",
      "  warnings.warn(msg, FutureWarning)\n",
      "D:\\anaconda\\lib\\site-packages\\seaborn\\distributions.py:2551: FutureWarning: `distplot` is a deprecated function and will be removed in a future version. Please adapt your code to use either `displot` (a figure-level function with similar flexibility) or `kdeplot` (an axes-level function for kernel density plots).\n",
      "  warnings.warn(msg, FutureWarning)\n"
     ]
    },
    {
     "data": {
      "image/png": "[encoded data removed]",
      "text/plain": [
       "<Figure size 432x288 with 1 Axes>"
      ]
     },
     "metadata": {
      "needs_background": "light"
     },
     "output_type": "display_data"
    }
   ],
   "source": [
    "# Density graph\n",
    "sns.distplot(df_sent['DELIVERY_TIME'],hist=False,kde=True,color = 'cornflowerblue', label = 'Sent')\n",
    "sns.distplot(df_received['DELIVERY_TIME'],hist=False,kde=True, color = 'tab:red', label = 'Received')\n",
    "plt.xlabel(\"Delivery Times (in seconds)\") \n",
    "plt.legend(loc='best')\n",
    "plt.xlim(0, 500)\n",
    "plt.show()"
   ]
  },
  {
   "cell_type": "code",
   "execution_count": 403,
   "metadata": {},
   "outputs": [
    {
     "data": {
      "text/plain": [
       "('6.99%', 3777, '3.01%', 2295)"
      ]
     },
     "execution_count": 403,
     "metadata": {},
     "output_type": "execute_result"
    }
   ],
   "source": [
    "# Return % and total amount of messages that took more than 5min for both Sent and Received messages.\n",
    "\n",
    "# Sent\n",
    "totalSentDelay= df_sent.loc[(df_sent['HM_DAT_OBC']-df_sent['HM_DAT_STC']) >= a]\n",
    "totalSentDelay = len(totalSentDelay)\n",
    "averageSentDelay=(totalSentDelay/totalSentMessages)*100\n",
    "averageSentDelay = round(averageSentDelay,2)\n",
    "averageSentDelay = str(averageSentDelay)+ \"%\"\n",
    "\n",
    "# Received\n",
    "totalReceivedDelay= df_received.loc[(df_received['HM_DAT_STC']-df_received['HM_DAT_OBC']) >= a]\n",
    "totalReceivedDelay = len(totalReceivedDelay)\n",
    "averageReceivedDelay=(totalReceivedDelay/totalReceivedMessages)*100\n",
    "averageReceivedDelay = round(averageReceivedDelay,2)\n",
    "averageReceivedDelay = str(averageReceivedDelay)+ \"%\"\n",
    "\n",
    "averageSentDelay, totalSentDelay, averageReceivedDelay, totalReceivedDelay"
   ]
  },
  {
   "cell_type": "code",
   "execution_count": 404,
   "metadata": {},
   "outputs": [
    {
     "data": {
      "text/plain": [
       "('4.66%', 6072)"
      ]
     },
     "execution_count": 404,
     "metadata": {},
     "output_type": "execute_result"
    }
   ],
   "source": [
    "# Return the total and % of messages that took more than 5 min with Sent and Received combined.\n",
    "totalDelay = totalSentDelay + totalReceivedDelay\n",
    "totalMessages = totalSentMessages + totalReceivedMessages\n",
    "averageTotalDelay = (totalDelay/totalMessages)*100\n",
    "averageTotalDelay = round(averageTotalDelay,2)\n",
    "averageTotalDelay = str(averageTotalDelay)+\"%\"\n",
    "\n",
    "averageTotalDelay, totalDelay"
   ]
  },
  {
   "cell_type": "code",
   "execution_count": 406,
   "metadata": {},
   "outputs": [],
   "source": [
    "!! FIND A WAY TO REMOVE THE TIME FROM THE HM_DAT_STC COLUMN IN ORDER TO PERFORM TIME SERIES\n",
    "\n",
    "# Time Series of the month\n",
    "\n",
    "# Sent\n",
    "# Creating new dataframe for formatting\n",
    "ts_df_sent = df_sent\n",
    "# Removing time from 'HM_DAT_STC'\n",
    "#ts_df_sent.iloc[:,5] = ts_df_sent.iloc[:,5].apply(lambda ts_df_sent: ts_df_sent.strftime('%Y-%m-%d'))\n",
    "# Grouping number of messages per day\n",
    "ts_sent = ts_df_sent.groupby(['HM_DAT_STC']).size()\n",
    "\n",
    "# Received\n",
    "# Creating a new dataframe for formatting\n",
    "ts_df_received = df_received\n",
    "#Removing time from 'HM_DAT_STC'\n",
    "#ts_df_received.iloc[:,5] = ts_df_received.iloc[:,5].apply(lambda ts_df_received: ts_df_received.strftime('%Y-%m-%d'))\n",
    "# Grouping number of messages per day\n",
    "ts_received = ts_df_received.groupby(['HM_DAT_STC']).size()\n",
    "\n",
    "# !! TEST if the number of messages with delays are correct\n",
    "#count_sent = sum(ts_df_sent.groupby(['HM_DAT_STC']).size())\n",
    "#count_received = sum(ts_df_received.groupby(['HM_DAT_STC']).size())\n",
    "#count_sent, count_received"
   ]
  },
  {
   "cell_type": "code",
   "execution_count": 409,
   "metadata": {},
   "outputs": [
    {
     "data": {
      "text/html": [
       "<div>\n",
       "<style scoped>\n",
       "    .dataframe tbody tr th:only-of-type {\n",
       "        vertical-align: middle;\n",
       "    }\n",
       "\n",
       "    .dataframe tbody tr th {\n",
       "        vertical-align: top;\n",
       "    }\n",
       "\n",
       "    .dataframe thead th {\n",
       "        text-align: right;\n",
       "    }\n",
       "</style>\n",
       "<table border=\"1\" class=\"dataframe\">\n",
       "  <thead>\n",
       "    <tr style=\"text-align: right;\">\n",
       "      <th></th>\n",
       "      <th>HM_ID_HM</th>\n",
       "      <th>HM_LOCO_MSG</th>\n",
       "      <th>HM_PRF_TRM</th>\n",
       "      <th>HM_NUM_MSG</th>\n",
       "      <th>HM_DAT_OBC</th>\n",
       "      <th>HM_DAT_STC</th>\n",
       "      <th>HM_TXT_MSG</th>\n",
       "      <th>HM_ENV_RCB</th>\n",
       "      <th>HM_MSG_VOZ</th>\n",
       "      <th>HM_NUM_FUN</th>\n",
       "      <th>HM_SIT_ENV</th>\n",
       "      <th>DELIVERY_TIME</th>\n",
       "    </tr>\n",
       "  </thead>\n",
       "  <tbody>\n",
       "    <tr>\n",
       "      <th>1740440</th>\n",
       "      <td>1748894</td>\n",
       "      <td>4313</td>\n",
       "      <td>7611</td>\n",
       "      <td>1016</td>\n",
       "      <td>2020-11-01 12:41:14</td>\n",
       "      <td>2020-11-01</td>\n",
       "      <td>information de Occupations  Au tour  \\n  \\nAct...</td>\n",
       "      <td>E</td>\n",
       "      <td>F</td>\n",
       "      <td>41</td>\n",
       "      <td>E</td>\n",
       "      <td>3.0</td>\n",
       "    </tr>\n",
       "    <tr>\n",
       "      <th>1740442</th>\n",
       "      <td>1748896</td>\n",
       "      <td>4313</td>\n",
       "      <td>7611</td>\n",
       "      <td>1016</td>\n",
       "      <td>2020-11-01 12:44:30</td>\n",
       "      <td>2020-11-01</td>\n",
       "      <td>information de Occupations  Au tour  \\n  \\nAct...</td>\n",
       "      <td>E</td>\n",
       "      <td>F</td>\n",
       "      <td>41</td>\n",
       "      <td>E</td>\n",
       "      <td>0.0</td>\n",
       "    </tr>\n",
       "    <tr>\n",
       "      <th>1740443</th>\n",
       "      <td>1748897</td>\n",
       "      <td>4311</td>\n",
       "      <td>4616</td>\n",
       "      <td>1016</td>\n",
       "      <td>2020-11-01 12:44:34</td>\n",
       "      <td>2020-11-01</td>\n",
       "      <td>information de Occupations  Au tour  \\n  \\nAct...</td>\n",
       "      <td>E</td>\n",
       "      <td>F</td>\n",
       "      <td>41</td>\n",
       "      <td>E</td>\n",
       "      <td>4.0</td>\n",
       "    </tr>\n",
       "    <tr>\n",
       "      <th>1740444</th>\n",
       "      <td>1748898</td>\n",
       "      <td>402</td>\n",
       "      <td>6460</td>\n",
       "      <td>1000</td>\n",
       "      <td>2020-11-01 12:47:48</td>\n",
       "      <td>2020-11-01</td>\n",
       "      <td>Texte libre  \\n  \\nTexte: FAITES LE F2  \\n</td>\n",
       "      <td>E</td>\n",
       "      <td>F</td>\n",
       "      <td>3</td>\n",
       "      <td>E</td>\n",
       "      <td>53.0</td>\n",
       "    </tr>\n",
       "    <tr>\n",
       "      <th>1740445</th>\n",
       "      <td>1748899</td>\n",
       "      <td>4301</td>\n",
       "      <td>3461</td>\n",
       "      <td>1000</td>\n",
       "      <td>2020-11-01 12:48:29</td>\n",
       "      <td>2020-11-01</td>\n",
       "      <td>Texte libre  \\n  \\nTexte: SVP METTEZ LE BYPASS...</td>\n",
       "      <td>E</td>\n",
       "      <td>F</td>\n",
       "      <td>3</td>\n",
       "      <td>E</td>\n",
       "      <td>37.0</td>\n",
       "    </tr>\n",
       "  </tbody>\n",
       "</table>\n",
       "</div>"
      ],
      "text/plain": [
       "         HM_ID_HM HM_LOCO_MSG HM_PRF_TRM  HM_NUM_MSG          HM_DAT_OBC  \\\n",
       "1740440   1748894        4313       7611        1016 2020-11-01 12:41:14   \n",
       "1740442   1748896        4313       7611        1016 2020-11-01 12:44:30   \n",
       "1740443   1748897        4311       4616        1016 2020-11-01 12:44:34   \n",
       "1740444   1748898         402       6460        1000 2020-11-01 12:47:48   \n",
       "1740445   1748899        4301       3461        1000 2020-11-01 12:48:29   \n",
       "\n",
       "         HM_DAT_STC                                         HM_TXT_MSG  \\\n",
       "1740440  2020-11-01  information de Occupations  Au tour  \\n  \\nAct...   \n",
       "1740442  2020-11-01  information de Occupations  Au tour  \\n  \\nAct...   \n",
       "1740443  2020-11-01  information de Occupations  Au tour  \\n  \\nAct...   \n",
       "1740444  2020-11-01         Texte libre  \\n  \\nTexte: FAITES LE F2  \\n   \n",
       "1740445  2020-11-01  Texte libre  \\n  \\nTexte: SVP METTEZ LE BYPASS...   \n",
       "\n",
       "        HM_ENV_RCB HM_MSG_VOZ  HM_NUM_FUN HM_SIT_ENV  DELIVERY_TIME  \n",
       "1740440          E          F          41          E            3.0  \n",
       "1740442          E          F          41          E            0.0  \n",
       "1740443          E          F          41          E            4.0  \n",
       "1740444          E          F           3          E           53.0  \n",
       "1740445          E          F           3          E           37.0  "
      ]
     },
     "execution_count": 409,
     "metadata": {},
     "output_type": "execute_result"
    }
   ],
   "source": [
    "df_sent.head()"
   ]
  },
  {
   "cell_type": "code",
   "execution_count": 407,
   "metadata": {},
   "outputs": [
    {
     "data": {
      "text/plain": [
       "Text(0.5, 1.0, 'Delays per Day')"
      ]
     },
     "execution_count": 407,
     "metadata": {},
     "output_type": "execute_result"
    },
    {
     "data": {
      "image/png": "[encoded data removed]",
      "text/plain": [
       "<Figure size 432x288 with 1 Axes>"
      ]
     },
     "metadata": {
      "needs_background": "light"
     },
     "output_type": "display_data"
    }
   ],
   "source": [
    "# Time series Graphs for Sent messages\n",
    "\n",
    "plt.plot(ts_sent,color ='cornflowerblue')\n",
    "plt.xticks(rotation=90)\n",
    "#plt.yticks(range(0,max(ts_sent)+5,5))\n",
    "#for i in range(0,max(ts_sent)+5,5):\n",
    "#    plt.axhline(y=i, color='black', linestyle='--',linewidth=0.5)\n",
    "plt.title(\"Delays per Day\")"
   ]
  },
  {
   "cell_type": "code",
   "execution_count": 308,
   "metadata": {},
   "outputs": [
    {
     "ename": "TypeError",
     "evalue": "unsupported operand type(s) for -: 'Timestamp' and 'str'",
     "output_type": "error",
     "traceback": [
      "\u001b[1;31m---------------------------------------------------------------------------\u001b[0m",
      "\u001b[1;31mTypeError\u001b[0m                                 Traceback (most recent call last)",
      "\u001b[1;32m<ipython-input-308-290ee320e5c4>\u001b[0m in \u001b[0;36m<module>\u001b[1;34m\u001b[0m\n\u001b[0;32m      5\u001b[0m \u001b[0mdf_sent\u001b[0m \u001b[1;33m=\u001b[0m \u001b[0mdf_sent\u001b[0m\u001b[1;33m.\u001b[0m\u001b[0mloc\u001b[0m\u001b[1;33m[\u001b[0m\u001b[1;33m(\u001b[0m\u001b[0mdf_sent\u001b[0m\u001b[1;33m[\u001b[0m\u001b[1;34m'HM_NUM_MSG'\u001b[0m\u001b[1;33m]\u001b[0m\u001b[1;33m==\u001b[0m\u001b[1;36m1001\u001b[0m\u001b[1;33m)\u001b[0m\u001b[1;33m|\u001b[0m\u001b[1;33m(\u001b[0m\u001b[0mdf_sent\u001b[0m\u001b[1;33m[\u001b[0m\u001b[1;34m'HM_NUM_MSG'\u001b[0m\u001b[1;33m]\u001b[0m\u001b[1;33m==\u001b[0m\u001b[1;36m1002\u001b[0m\u001b[1;33m)\u001b[0m\u001b[1;33m|\u001b[0m\u001b[1;33m(\u001b[0m\u001b[0mdf_sent\u001b[0m\u001b[1;33m[\u001b[0m\u001b[1;34m'HM_NUM_MSG'\u001b[0m\u001b[1;33m]\u001b[0m\u001b[1;33m==\u001b[0m\u001b[1;36m1003\u001b[0m\u001b[1;33m)\u001b[0m\u001b[1;33m]\u001b[0m\u001b[1;33m\u001b[0m\u001b[1;33m\u001b[0m\u001b[0m\n\u001b[0;32m      6\u001b[0m \u001b[1;31m# 4) Filter messages that took longer than 5 minutes\u001b[0m\u001b[1;33m\u001b[0m\u001b[1;33m\u001b[0m\u001b[1;33m\u001b[0m\u001b[0m\n\u001b[1;32m----> 7\u001b[1;33m \u001b[0mdf_sent\u001b[0m \u001b[1;33m=\u001b[0m \u001b[0mdf_sent\u001b[0m\u001b[1;33m.\u001b[0m\u001b[0mloc\u001b[0m\u001b[1;33m[\u001b[0m\u001b[1;33m(\u001b[0m\u001b[0mdf_sent\u001b[0m\u001b[1;33m[\u001b[0m\u001b[1;34m'HM_DAT_OBC'\u001b[0m\u001b[1;33m]\u001b[0m\u001b[1;33m-\u001b[0m\u001b[0mdf_sent\u001b[0m\u001b[1;33m[\u001b[0m\u001b[1;34m'HM_DAT_STC'\u001b[0m\u001b[1;33m]\u001b[0m\u001b[1;33m)\u001b[0m \u001b[1;33m>=\u001b[0m \u001b[0ma\u001b[0m\u001b[1;33m]\u001b[0m\u001b[1;33m\u001b[0m\u001b[1;33m\u001b[0m\u001b[0m\n\u001b[0m\u001b[0;32m      8\u001b[0m \u001b[1;31m# 5) Order the dataframe by HM_ID_HM\u001b[0m\u001b[1;33m\u001b[0m\u001b[1;33m\u001b[0m\u001b[1;33m\u001b[0m\u001b[0m\n\u001b[0;32m      9\u001b[0m \u001b[0mdf_sent\u001b[0m\u001b[1;33m.\u001b[0m\u001b[0msort_values\u001b[0m\u001b[1;33m(\u001b[0m\u001b[0mby\u001b[0m\u001b[1;33m=\u001b[0m\u001b[1;33m[\u001b[0m\u001b[1;34m'HM_ID_HM'\u001b[0m\u001b[1;33m]\u001b[0m\u001b[1;33m)\u001b[0m\u001b[1;33m\u001b[0m\u001b[1;33m\u001b[0m\u001b[0m\n",
      "\u001b[1;32mD:\\anaconda\\lib\\site-packages\\pandas\\core\\ops\\common.py\u001b[0m in \u001b[0;36mnew_method\u001b[1;34m(self, other)\u001b[0m\n\u001b[0;32m     62\u001b[0m         \u001b[0mother\u001b[0m \u001b[1;33m=\u001b[0m \u001b[0mitem_from_zerodim\u001b[0m\u001b[1;33m(\u001b[0m\u001b[0mother\u001b[0m\u001b[1;33m)\u001b[0m\u001b[1;33m\u001b[0m\u001b[1;33m\u001b[0m\u001b[0m\n\u001b[0;32m     63\u001b[0m \u001b[1;33m\u001b[0m\u001b[0m\n\u001b[1;32m---> 64\u001b[1;33m         \u001b[1;32mreturn\u001b[0m \u001b[0mmethod\u001b[0m\u001b[1;33m(\u001b[0m\u001b[0mself\u001b[0m\u001b[1;33m,\u001b[0m \u001b[0mother\u001b[0m\u001b[1;33m)\u001b[0m\u001b[1;33m\u001b[0m\u001b[1;33m\u001b[0m\u001b[0m\n\u001b[0m\u001b[0;32m     65\u001b[0m \u001b[1;33m\u001b[0m\u001b[0m\n\u001b[0;32m     66\u001b[0m     \u001b[1;32mreturn\u001b[0m \u001b[0mnew_method\u001b[0m\u001b[1;33m\u001b[0m\u001b[1;33m\u001b[0m\u001b[0m\n",
      "\u001b[1;32mD:\\anaconda\\lib\\site-packages\\pandas\\core\\ops\\__init__.py\u001b[0m in \u001b[0;36mwrapper\u001b[1;34m(left, right)\u001b[0m\n\u001b[0;32m    501\u001b[0m         \u001b[0mlvalues\u001b[0m \u001b[1;33m=\u001b[0m \u001b[0mextract_array\u001b[0m\u001b[1;33m(\u001b[0m\u001b[0mleft\u001b[0m\u001b[1;33m,\u001b[0m \u001b[0mextract_numpy\u001b[0m\u001b[1;33m=\u001b[0m\u001b[1;32mTrue\u001b[0m\u001b[1;33m)\u001b[0m\u001b[1;33m\u001b[0m\u001b[1;33m\u001b[0m\u001b[0m\n\u001b[0;32m    502\u001b[0m         \u001b[0mrvalues\u001b[0m \u001b[1;33m=\u001b[0m \u001b[0mextract_array\u001b[0m\u001b[1;33m(\u001b[0m\u001b[0mright\u001b[0m\u001b[1;33m,\u001b[0m \u001b[0mextract_numpy\u001b[0m\u001b[1;33m=\u001b[0m\u001b[1;32mTrue\u001b[0m\u001b[1;33m)\u001b[0m\u001b[1;33m\u001b[0m\u001b[1;33m\u001b[0m\u001b[0m\n\u001b[1;32m--> 503\u001b[1;33m         \u001b[0mresult\u001b[0m \u001b[1;33m=\u001b[0m \u001b[0marithmetic_op\u001b[0m\u001b[1;33m(\u001b[0m\u001b[0mlvalues\u001b[0m\u001b[1;33m,\u001b[0m \u001b[0mrvalues\u001b[0m\u001b[1;33m,\u001b[0m \u001b[0mop\u001b[0m\u001b[1;33m,\u001b[0m \u001b[0mstr_rep\u001b[0m\u001b[1;33m)\u001b[0m\u001b[1;33m\u001b[0m\u001b[1;33m\u001b[0m\u001b[0m\n\u001b[0m\u001b[0;32m    504\u001b[0m \u001b[1;33m\u001b[0m\u001b[0m\n\u001b[0;32m    505\u001b[0m         \u001b[1;32mreturn\u001b[0m \u001b[0m_construct_result\u001b[0m\u001b[1;33m(\u001b[0m\u001b[0mleft\u001b[0m\u001b[1;33m,\u001b[0m \u001b[0mresult\u001b[0m\u001b[1;33m,\u001b[0m \u001b[0mindex\u001b[0m\u001b[1;33m=\u001b[0m\u001b[0mleft\u001b[0m\u001b[1;33m.\u001b[0m\u001b[0mindex\u001b[0m\u001b[1;33m,\u001b[0m \u001b[0mname\u001b[0m\u001b[1;33m=\u001b[0m\u001b[0mres_name\u001b[0m\u001b[1;33m)\u001b[0m\u001b[1;33m\u001b[0m\u001b[1;33m\u001b[0m\u001b[0m\n",
      "\u001b[1;32mD:\\anaconda\\lib\\site-packages\\pandas\\core\\ops\\array_ops.py\u001b[0m in \u001b[0;36marithmetic_op\u001b[1;34m(left, right, op, str_rep)\u001b[0m\n\u001b[0;32m    191\u001b[0m         \u001b[1;31m#  by dispatch_to_extension_op.\u001b[0m\u001b[1;33m\u001b[0m\u001b[1;33m\u001b[0m\u001b[1;33m\u001b[0m\u001b[0m\n\u001b[0;32m    192\u001b[0m         \u001b[1;31m# Timedelta is included because numexpr will fail on it, see GH#31457\u001b[0m\u001b[1;33m\u001b[0m\u001b[1;33m\u001b[0m\u001b[1;33m\u001b[0m\u001b[0m\n\u001b[1;32m--> 193\u001b[1;33m         \u001b[0mres_values\u001b[0m \u001b[1;33m=\u001b[0m \u001b[0mdispatch_to_extension_op\u001b[0m\u001b[1;33m(\u001b[0m\u001b[0mop\u001b[0m\u001b[1;33m,\u001b[0m \u001b[0mlvalues\u001b[0m\u001b[1;33m,\u001b[0m \u001b[0mrvalues\u001b[0m\u001b[1;33m)\u001b[0m\u001b[1;33m\u001b[0m\u001b[1;33m\u001b[0m\u001b[0m\n\u001b[0m\u001b[0;32m    194\u001b[0m \u001b[1;33m\u001b[0m\u001b[0m\n\u001b[0;32m    195\u001b[0m     \u001b[1;32melse\u001b[0m\u001b[1;33m:\u001b[0m\u001b[1;33m\u001b[0m\u001b[1;33m\u001b[0m\u001b[0m\n",
      "\u001b[1;32mD:\\anaconda\\lib\\site-packages\\pandas\\core\\ops\\dispatch.py\u001b[0m in \u001b[0;36mdispatch_to_extension_op\u001b[1;34m(op, left, right)\u001b[0m\n\u001b[0;32m    123\u001b[0m     \u001b[1;31m# The op calls will raise TypeError if the op is not defined\u001b[0m\u001b[1;33m\u001b[0m\u001b[1;33m\u001b[0m\u001b[1;33m\u001b[0m\u001b[0m\n\u001b[0;32m    124\u001b[0m     \u001b[1;31m# on the ExtensionArray\u001b[0m\u001b[1;33m\u001b[0m\u001b[1;33m\u001b[0m\u001b[1;33m\u001b[0m\u001b[0m\n\u001b[1;32m--> 125\u001b[1;33m     \u001b[0mres_values\u001b[0m \u001b[1;33m=\u001b[0m \u001b[0mop\u001b[0m\u001b[1;33m(\u001b[0m\u001b[0mleft\u001b[0m\u001b[1;33m,\u001b[0m \u001b[0mright\u001b[0m\u001b[1;33m)\u001b[0m\u001b[1;33m\u001b[0m\u001b[1;33m\u001b[0m\u001b[0m\n\u001b[0m\u001b[0;32m    126\u001b[0m     \u001b[1;32mreturn\u001b[0m \u001b[0mres_values\u001b[0m\u001b[1;33m\u001b[0m\u001b[1;33m\u001b[0m\u001b[0m\n",
      "\u001b[1;32mD:\\anaconda\\lib\\site-packages\\pandas\\core\\ops\\common.py\u001b[0m in \u001b[0;36mnew_method\u001b[1;34m(self, other)\u001b[0m\n\u001b[0;32m     62\u001b[0m         \u001b[0mother\u001b[0m \u001b[1;33m=\u001b[0m \u001b[0mitem_from_zerodim\u001b[0m\u001b[1;33m(\u001b[0m\u001b[0mother\u001b[0m\u001b[1;33m)\u001b[0m\u001b[1;33m\u001b[0m\u001b[1;33m\u001b[0m\u001b[0m\n\u001b[0;32m     63\u001b[0m \u001b[1;33m\u001b[0m\u001b[0m\n\u001b[1;32m---> 64\u001b[1;33m         \u001b[1;32mreturn\u001b[0m \u001b[0mmethod\u001b[0m\u001b[1;33m(\u001b[0m\u001b[0mself\u001b[0m\u001b[1;33m,\u001b[0m \u001b[0mother\u001b[0m\u001b[1;33m)\u001b[0m\u001b[1;33m\u001b[0m\u001b[1;33m\u001b[0m\u001b[0m\n\u001b[0m\u001b[0;32m     65\u001b[0m \u001b[1;33m\u001b[0m\u001b[0m\n\u001b[0;32m     66\u001b[0m     \u001b[1;32mreturn\u001b[0m \u001b[0mnew_method\u001b[0m\u001b[1;33m\u001b[0m\u001b[1;33m\u001b[0m\u001b[0m\n",
      "\u001b[1;32mD:\\anaconda\\lib\\site-packages\\pandas\\core\\arrays\\datetimelike.py\u001b[0m in \u001b[0;36m__sub__\u001b[1;34m(self, other)\u001b[0m\n\u001b[0;32m   1401\u001b[0m         \u001b[1;32melif\u001b[0m \u001b[0mis_object_dtype\u001b[0m\u001b[1;33m(\u001b[0m\u001b[0mother\u001b[0m\u001b[1;33m)\u001b[0m\u001b[1;33m:\u001b[0m\u001b[1;33m\u001b[0m\u001b[1;33m\u001b[0m\u001b[0m\n\u001b[0;32m   1402\u001b[0m             \u001b[1;31m# e.g. Array/Index of DateOffset objects\u001b[0m\u001b[1;33m\u001b[0m\u001b[1;33m\u001b[0m\u001b[1;33m\u001b[0m\u001b[0m\n\u001b[1;32m-> 1403\u001b[1;33m             \u001b[0mresult\u001b[0m \u001b[1;33m=\u001b[0m \u001b[0mself\u001b[0m\u001b[1;33m.\u001b[0m\u001b[0m_addsub_object_array\u001b[0m\u001b[1;33m(\u001b[0m\u001b[0mother\u001b[0m\u001b[1;33m,\u001b[0m \u001b[0moperator\u001b[0m\u001b[1;33m.\u001b[0m\u001b[0msub\u001b[0m\u001b[1;33m)\u001b[0m\u001b[1;33m\u001b[0m\u001b[1;33m\u001b[0m\u001b[0m\n\u001b[0m\u001b[0;32m   1404\u001b[0m         \u001b[1;32melif\u001b[0m \u001b[0mis_datetime64_dtype\u001b[0m\u001b[1;33m(\u001b[0m\u001b[0mother\u001b[0m\u001b[1;33m)\u001b[0m \u001b[1;32mor\u001b[0m \u001b[0mis_datetime64tz_dtype\u001b[0m\u001b[1;33m(\u001b[0m\u001b[0mother\u001b[0m\u001b[1;33m)\u001b[0m\u001b[1;33m:\u001b[0m\u001b[1;33m\u001b[0m\u001b[1;33m\u001b[0m\u001b[0m\n\u001b[0;32m   1405\u001b[0m             \u001b[1;31m# DatetimeIndex, ndarray[datetime64]\u001b[0m\u001b[1;33m\u001b[0m\u001b[1;33m\u001b[0m\u001b[1;33m\u001b[0m\u001b[0m\n",
      "\u001b[1;32mD:\\anaconda\\lib\\site-packages\\pandas\\core\\arrays\\datetimelike.py\u001b[0m in \u001b[0;36m_addsub_object_array\u001b[1;34m(self, other, op)\u001b[0m\n\u001b[0;32m   1272\u001b[0m         \u001b[0mleft\u001b[0m \u001b[1;33m=\u001b[0m \u001b[0mself\u001b[0m\u001b[1;33m.\u001b[0m\u001b[0mastype\u001b[0m\u001b[1;33m(\u001b[0m\u001b[1;34m\"O\"\u001b[0m\u001b[1;33m)\u001b[0m\u001b[1;33m\u001b[0m\u001b[1;33m\u001b[0m\u001b[0m\n\u001b[0;32m   1273\u001b[0m \u001b[1;33m\u001b[0m\u001b[0m\n\u001b[1;32m-> 1274\u001b[1;33m         \u001b[0mres_values\u001b[0m \u001b[1;33m=\u001b[0m \u001b[0mop\u001b[0m\u001b[1;33m(\u001b[0m\u001b[0mleft\u001b[0m\u001b[1;33m,\u001b[0m \u001b[0mnp\u001b[0m\u001b[1;33m.\u001b[0m\u001b[0marray\u001b[0m\u001b[1;33m(\u001b[0m\u001b[0mother\u001b[0m\u001b[1;33m)\u001b[0m\u001b[1;33m)\u001b[0m\u001b[1;33m\u001b[0m\u001b[1;33m\u001b[0m\u001b[0m\n\u001b[0m\u001b[0;32m   1275\u001b[0m         \u001b[0mkwargs\u001b[0m \u001b[1;33m=\u001b[0m \u001b[1;33m{\u001b[0m\u001b[1;33m}\u001b[0m\u001b[1;33m\u001b[0m\u001b[1;33m\u001b[0m\u001b[0m\n\u001b[0;32m   1276\u001b[0m         \u001b[1;32mif\u001b[0m \u001b[1;32mnot\u001b[0m \u001b[0mis_period_dtype\u001b[0m\u001b[1;33m(\u001b[0m\u001b[0mself\u001b[0m\u001b[1;33m)\u001b[0m\u001b[1;33m:\u001b[0m\u001b[1;33m\u001b[0m\u001b[1;33m\u001b[0m\u001b[0m\n",
      "\u001b[1;31mTypeError\u001b[0m: unsupported operand type(s) for -: 'Timestamp' and 'str'"
     ]
    }
   ],
   "source": [
    "# Filter Part II\n",
    "\n",
    "# Sent\n",
    "# 3) Filter messages with macros 1001, 1002 and 1003\n",
    "df_sent = df_sent.loc[(df_sent['HM_NUM_MSG']==1001)|(df_sent['HM_NUM_MSG']==1002)|(df_sent['HM_NUM_MSG']==1003)]\n",
    "# 4) Filter messages that took longer than 5 minutes\n",
    "df_sent = df_sent.loc[(df_sent['HM_DAT_OBC']-df_sent['HM_DAT_STC']) >= a]\n",
    "# 5) Order the dataframe by HM_ID_HM\n",
    "df_sent.sort_values(by=['HM_ID_HM'])\n",
    "\n",
    "#Received\n",
    "# 5) Filter messages with macros 2006, 2011, 2012, 2015, 2017, 2020, 2021 and 2029\n",
    "df_received = df_received.loc[(df_received['HM_NUM_MSG']==2006)|(df_received['HM_NUM_MSG']==2011)|(df_received['HM_NUM_MSG']==2012)|(df_received['HM_NUM_MSG']==2015)|(df_received['HM_NUM_MSG']==2017)|(df_received['HM_NUM_MSG']==2020)|(df_received['HM_NUM_MSG']==2021)|(df_received['HM_NUM_MSG']==2029)]\n",
    "# 6) Filter messages that took longer than 5 minutes\n",
    "df_received = df_received.loc[(df_received['HM_DAT_STC']-df_received['HM_DAT_OBC']) >= a]\n",
    "# 7) Order the dataframe by HM_ID_HM\n",
    "df_received.sort_values(by=['HM_ID_HM'])\n",
    "# 8) Remove messages that don't contain data\n",
    "df_received = df_received.loc[df_received['HM_TXT_MSG'].notnull()]\n",
    "\n",
    "df_sent.shape, df_received.shape"
   ]
  },
  {
   "cell_type": "code",
   "execution_count": null,
   "metadata": {},
   "outputs": [],
   "source": [
    "# Store and return the amount of messages after filtering\n",
    "\n",
    "# Sent\n",
    "totalSentMessageDelay = len(df_sent['HM_ID_HM'])\n",
    "\n",
    "# Received\n",
    "totalReceivedMessageDelay = len(df_received['HM_ID_HM'])\n",
    "\n",
    "totalSentMessageDelay, totalReceivedMessageDelay"
   ]
  },
  {
   "cell_type": "code",
   "execution_count": null,
   "metadata": {},
   "outputs": [],
   "source": [
    "# Return the average delivery time of Sent and Received messages with delay (longer than 5 min.)\n",
    "\n",
    "# Sent\n",
    "df_sent['DELIVERY_TIME'] = df_sent['HM_DAT_OBC']-df_sent['HM_DAT_STC']\n",
    "df_sent['DELIVERY_TIME'] = df_sent['DELIVERY_TIME']/np.timedelta64(1, 's')\n",
    "totalSentDelay = sum(df_sent.iloc[:,11])\n",
    "averageSentDeliveryDelay = round(totalSentDelay/totalSentMessageDelay,0)\n",
    "# Converting from float to mm:ss\n",
    "averageSentDeliveryDelay = timedelta(seconds=averageSentDeliveryDelay)\n",
    "averageSentDeliveryDelay=str(averageSentDeliveryDelay)\n",
    "\n",
    "# Received\n",
    "df_received['DELIVERY_TIME'] = df_received['HM_DAT_STC']-df_received['HM_DAT_OBC']\n",
    "df_received['DELIVERY_TIME'] = df_received['DELIVERY_TIME']/np.timedelta64(1, 's')\n",
    "totalReceivedDelay = sum(df_received.iloc[:,11])\n",
    "averageReceivedDeliveryDelay = round(totalReceivedDelay/totalReceivedMessageDelay,0)\n",
    "# Converting from float to mm:ss\n",
    "averageReceivedDeliveryDelay = timedelta(seconds=averageReceivedDeliveryDelay)\n",
    "averageReceivedDeliveryDelay=str(averageReceivedDeliveryDelay)\n",
    "\n",
    "averageSentDeliveryDelay, averageReceivedDeliveryDelay"
   ]
  },
  {
   "cell_type": "code",
   "execution_count": null,
   "metadata": {},
   "outputs": [],
   "source": [
    "# Return the average delivery time of Sent and Received messages with delay (longer than 5 min.) combined\n",
    "averageDeliveryDelay = round((totalSentDelay+totalReceivedDelay)/(totalSentMessageDelay+totalReceivedMessageDelay),0)\n",
    "# Converting from float to mm:ss\n",
    "averageDeliveryDelay = timedelta(seconds=averageDeliveryDelay)\n",
    "averageDeliveryDelay = str(averageDeliveryDelay)\n",
    "\n",
    "averageDeliveryDelay"
   ]
  },
  {
   "cell_type": "code",
   "execution_count": null,
   "metadata": {},
   "outputs": [],
   "source": [
    "# Adding new columns to dataframe df_sb\n",
    "\n",
    "for i in range(0,len(df_sb['NAME']),1):\n",
    "    df_sb['SECTION_DEBUT'] = \"Section Début: \" + df_sb.loc[:,'NAME'] + \" \"\n",
    "    df_sb['CANTON'] = \"Canton: \" + df_sb.loc[:,'NAME'] + \" \"\n",
    "    df_sb['SECTION_TETE'] = \"Section da Tête: \" + df_sb.loc[:,'NAME'] + \" \"\n",
    "\n",
    "df_sb['COUNTS_SENT'] = 0\n",
    "df_sb['COUNTS_RECEIVED'] = 0\n",
    "df_sb['COUNTS_TOTAL'] = 0\n",
    "df_sb['TOTAL_TIME_SENT'] = 0.0\n",
    "df_sb['TOTAL_TIME_RECEIVED'] = 0.0\n",
    "df_sb['TOTAL_TIME'] = 0.0\n",
    "df_sb['AVERAGE_TIME_SENT'] = 0.0\n",
    "df_sb['AVERAGE_TIME_RECEIVED'] = 0.0\n",
    "df_sb['AVERAGE_TIME'] = 0.0\n",
    "df_sb['%_SENT'] = 0\n",
    "df_sb['%_RECEIVED'] = 0\n",
    "df_sb['%_TOTAL'] = 0"
   ]
  },
  {
   "cell_type": "code",
   "execution_count": null,
   "metadata": {},
   "outputs": [],
   "source": [
    "# Total of delays per SB and total delivery time per SB for Sent and Received messages\n",
    "\n",
    "# Sent\n",
    "for i in range(0,len(df_sb['NAME']),1):\n",
    "    for j in range(0,totalSentMessageDelay,1):\n",
    "        if df_sent.iloc[j,3] == 1002 and df_sb.iloc[i,1] in df_sent.iloc[j,6]:\n",
    "            df_sb.iloc[i,4] += 1\n",
    "            df_sb.iloc[i,7] += df_sent.iloc[j,11]\n",
    "\n",
    "        if df_sent.iloc[j,3] != 1002 and df_sb.iloc[i,2] in df_sent.iloc[j,6]:\n",
    "            df_sb.iloc[i,4] +=1\n",
    "            df_sb.iloc[i,7] += df_sent.iloc[j,11]\n",
    "\n",
    "# Received\n",
    "for i in range(0,len(df_sb['NAME']),1):\n",
    "    for j in range(0,totalReceivedMessageDelay,1):\n",
    "        if df_sb.iloc[i,1] in df_received.iloc[j,6]:\n",
    "            df_sb.iloc[i,5] += 1\n",
    "            df_sb.iloc[i,8] += df_received.iloc[j,11]\n",
    "            \n",
    "        if df_sb.iloc[i,2] in df_received.iloc[j,6]:\n",
    "            df_sb.iloc[i,5] += 1\n",
    "            df_sb.iloc[i,8] += df_received.iloc[j,11]\n",
    "            \n",
    "        if df_sb.iloc[i,3] in df_received.iloc[j,6]:\n",
    "            df_sb.iloc[i,5] += 1\n",
    "            df_sb.iloc[i,8] += df_received.iloc[j,11]\n",
    "            \n",
    "# !! There may be a slight difference between totalReceivedMessageDelay and the sum of df_sb['COUNTS'].\n",
    "# This is because the script does not consider messages on switches \n",
    "# There are also some messages that have 'Canton:' but don't contain an actual location !!\n",
    "\n",
    "# Total\n",
    "for i in range(0, len(df_sb['NAME']),1):\n",
    "    df_sb.iloc[i,6] = df_sb.iloc[i,4] + df_sb.iloc[i,5]\n",
    "    df_sb.iloc[i,9] = df_sb.iloc[i,7] + df_sb.iloc[i,8]"
   ]
  },
  {
   "cell_type": "code",
   "execution_count": null,
   "metadata": {},
   "outputs": [],
   "source": [
    "# Fix for Received Messages Count\n",
    "x=0\n",
    "for i in range(0,len(df_sb['NAME']),1):\n",
    "    x = x + df_sb.iloc[i,5]\n",
    "    \n",
    "# A new value is returned to 'totalReceivedMessageDelay' to correctly count the % column.\n",
    "# Please refer to the difference in the comments of the previous section. (Between '!!...!!')\n",
    "totalReceivedMessageDelay = x\n",
    "totalReceivedMessageDelay"
   ]
  },
  {
   "cell_type": "code",
   "execution_count": null,
   "metadata": {},
   "outputs": [],
   "source": [
    "# Calculate the average delay per SB\n",
    "\n",
    "# Sent\n",
    "for i in range(0,len(df_sb['NAME']),1):\n",
    "    if df_sb.iloc[i,4] != 0:\n",
    "        df_sb.iloc[i,10] = df_sb.iloc[i,7]/df_sb.iloc[i,4]\n",
    "        df_sb.iloc[i,10] = round(df_sb.iloc[i,10],0)    # Have to round the values to Integer to avoid having milliseconds\n",
    "        df_sb.iloc[i,10] = str(timedelta(seconds=df_sb.iloc[i,10])) # Converting to String time format\n",
    "        df_sb.iloc[i,7] = str(timedelta(seconds=df_sb.iloc[i,7]))\n",
    "    else:\n",
    "        df_sb.iloc[i,10] = 0      \n",
    "        df_sb.iloc[i,10] = str(timedelta(seconds=df_sb.iloc[i,10]))\n",
    "        df_sb.iloc[i,7] = str(timedelta(seconds=df_sb.iloc[i,7]))\n",
    "        \n",
    "# Received\n",
    "for i in range(0,len(df_sb['NAME']),1):\n",
    "    if df_sb.iloc[i,5] != 0:\n",
    "        df_sb.iloc[i,11] = df_sb.iloc[i,8]/df_sb.iloc[i,5]\n",
    "        df_sb.iloc[i,11] = round(df_sb.iloc[i,11],0)    # Have to round the values to Integer to avoid having milliseconds\n",
    "        df_sb.iloc[i,11] = str(timedelta(seconds=df_sb.iloc[i,11])) # Converting to String time format\n",
    "        df_sb.iloc[i,8] = str(timedelta(seconds=df_sb.iloc[i,8]))\n",
    "    else:\n",
    "        df_sb.iloc[i,11] = 0      \n",
    "        df_sb.iloc[i,11] = str(timedelta(seconds=df_sb.iloc[i,11]))\n",
    "        df_sb.iloc[i,8] = str(timedelta(seconds=df_sb.iloc[i,8]))\n",
    "        \n",
    "# Total\n",
    "for i in range(0,len(df_sb['NAME']),1):\n",
    "    if df_sb.iloc[i,6] != 0:\n",
    "        df_sb.iloc[i,12] = df_sb.iloc[i,9]/df_sb.iloc[i,6]\n",
    "        df_sb.iloc[i,12] = round(df_sb.iloc[i,12],0)    # Have to round the values to Integer to avoid having milliseconds\n",
    "        df_sb.iloc[i,12] = str(timedelta(seconds=df_sb.iloc[i,12])) # Converting to String time format\n",
    "        df_sb.iloc[i,9] = str(timedelta(seconds=df_sb.iloc[i,9]))\n",
    "    else:\n",
    "        df_sb.iloc[i,12] = 0      \n",
    "        df_sb.iloc[i,12] = str(timedelta(seconds=df_sb.iloc[i,12]))\n",
    "        df_sb.iloc[i,9] = str(timedelta(seconds=df_sb.iloc[i,9]))"
   ]
  },
  {
   "cell_type": "code",
   "execution_count": null,
   "metadata": {},
   "outputs": [],
   "source": [
    "# Calculate the % of total delays per SB\n",
    "\n",
    "# Sent\n",
    "for i in range(0,len(df_sb['NAME']),1):\n",
    "    df_sb.iloc[i,13] = round((df_sb.iloc[i,4]/totalSentMessageDelay)*100,2)\n",
    "    df_sb.iloc[i,13] = str(df_sb.iloc[i,13])+'%'\n",
    "    \n",
    "# Received\n",
    "for i in range(0,len(df_sb['NAME']),1):\n",
    "    df_sb.iloc[i,14] = round((df_sb.iloc[i,5]/totalReceivedMessageDelay)*100,2)\n",
    "    df_sb.iloc[i,14] = str(df_sb.iloc[i,14])+'%'\n",
    "    \n",
    "# Total\n",
    "for i in range(0,len(df_sb['NAME']),1):\n",
    "    df_sb.iloc[i,15] = round((df_sb.iloc[i,6]/(totalSentMessageDelay+totalReceivedMessageDelay))*100,2)\n",
    "    df_sb.iloc[i,15] = str(df_sb.iloc[i,15])+'%'"
   ]
  },
  {
   "cell_type": "code",
   "execution_count": null,
   "metadata": {},
   "outputs": [],
   "source": [
    "# Dispersion graph that represents all SBs em dots en shows the number of delays\n",
    "plt.figure(1)\n",
    "plt.subplot(2,2,1)\n",
    "plt.scatter(df_sb.iloc[:,0],df_sb.iloc[:,4], color='cornflowerblue', marker='.')\n",
    "plt.xticks([])\n",
    "for i in range(0,max(df_sb.iloc[:,4]),10):\n",
    "    plt.axhline(y=i, color='black', linestyle='--',linewidth=0.5)\n",
    "plt.title(\"Sent Messages\")\n",
    "plt.subplot(2,2,2)\n",
    "plt.scatter(df_sb.iloc[:,0],df_sb.iloc[:,5], color='tab:red', marker='.')\n",
    "plt.xticks([])\n",
    "for i in range(0,max(df_sb.iloc[:,5]),10):\n",
    "    plt.axhline(y=i, color='black', linestyle='--',linewidth=0.5)\n",
    "plt.title(\"Received Messages\") \n",
    "plt.subplot(2,2,3)\n",
    "plt.scatter(df_sb.iloc[:,0],df_sb.iloc[:,6], color='olivedrab', marker='.')\n",
    "plt.xticks([])\n",
    "for i in range(0,max(df_sb.iloc[:,6]),10):\n",
    "    plt.axhline(y=i, color='black', linestyle='--',linewidth=0.5)\n",
    "plt.title(\"All Messages\")    "
   ]
  },
  {
   "cell_type": "code",
   "execution_count": null,
   "metadata": {},
   "outputs": [],
   "source": [
    "# Another dispersion graph, this time as one graph\n",
    "plt.scatter(df_sb.iloc[:,0],df_sb.iloc[:,4], color='cornflowerblue', marker='.', label='Sent')\n",
    "plt.xticks([])\n",
    "for i in range(0,max(df_sb.iloc[:,4]),10):\n",
    "    plt.axhline(y=i, color='black', linestyle='--',linewidth=0.5)\n",
    "    \n",
    "plt.scatter(df_sb.iloc[:,0],df_sb.iloc[:,5], color='tab:red', marker='.', label='Received')\n",
    "plt.xticks([])\n",
    "for i in range(0,max(df_sb.iloc[:,5]),10):\n",
    "    plt.axhline(y=i, color='black', linestyle='--',linewidth=0.5)\n",
    "plt.legend(loc='best')\n",
    "plt.title(\"Delivery of >5 min. per Section Block\")"
   ]
  },
  {
   "cell_type": "code",
   "execution_count": null,
   "metadata": {},
   "outputs": [],
   "source": [
    "# Dispersion graph of SENT and RECEIVED messages (TOTAL) combined\n",
    "plt.scatter(df_sb.iloc[:,0],df_sb.iloc[:,6], color='olivedrab', marker='.')\n",
    "plt.xticks([])\n",
    "for i in range(0,max(df_sb.iloc[:,6]),10):\n",
    "    plt.axhline(y=i, color='black', linestyle='--',linewidth=0.5)\n",
    "plt.title(\"Delivery of >5 min. per Section Block\") "
   ]
  },
  {
   "cell_type": "code",
   "execution_count": null,
   "metadata": {},
   "outputs": [],
   "source": [
    "# Reordering dataframe and selecting TOP 10 for barplot graph\n",
    "ordered_Sent = df_sb.sort_values(by=['COUNTS_SENT'], ascending=False)\n",
    "ordered_Received = df_sb.sort_values(by=['COUNTS_RECEIVED'], ascending=False)\n",
    "ordered_Total = df_sb.sort_values(by=['COUNTS_TOTAL'], ascending=False)\n",
    "\n",
    "top10_Sent = ordered_Sent.head(n=10)\n",
    "top10_Received = ordered_Received.head(n=10)\n",
    "top10_Total = ordered_Total.head(n=10)\n",
    "\n",
    "top10_Sent = top10_Sent.sort_values(by=['COUNTS_SENT'], ascending=True)\n",
    "top10_Received = top10_Received.sort_values(by=['COUNTS_RECEIVED'], ascending=True)\n",
    "top10_Total = top10_Total.sort_values(by=['COUNTS_TOTAL'], ascending=True)"
   ]
  },
  {
   "cell_type": "code",
   "execution_count": null,
   "metadata": {},
   "outputs": [],
   "source": [
    "# Horizontal Barplot \n",
    "plt.figure(1)\n",
    "plt.subplot(2,2,1)\n",
    "plt.barh(top10_Sent.iloc[:,0],top10_Sent.iloc[:,4], color ='cornflowerblue',align='center')\n",
    "plt.xlim(0,max(df_sb.iloc[:,4])+10)\n",
    "plt.xlabel(\"Number of messages\") \n",
    "plt.ylabel(\"Top 10 Section Blocks\")\n",
    "plt.title(\"Sent Messages\") \n",
    "# Adding percentage values of '%' column to the bars\n",
    "#for index, value in enumerate(top10_Sent.iloc[:,4]):\n",
    "#    plt.text(value, index, str(top10_Sent.iloc[index,13]))\n",
    "plt.subplot(2,2,2)\n",
    "plt.barh(top10_Received.iloc[:,0],top10_Received.iloc[:,5], color ='tab:red',align='center')\n",
    "plt.xlim(0,max(df_sb.iloc[:,5])+10)\n",
    "plt.title(\"Received Messages\")\n",
    "plt.subplot(2,2,3)\n",
    "plt.barh(top10_Total.iloc[:,0],top10_Total.iloc[:,6], color ='olivedrab',align='center')\n",
    "plt.xlim(0,max(df_sb.iloc[:,6])+10)\n",
    "plt.title(\"All Messages\") "
   ]
  },
  {
   "cell_type": "code",
   "execution_count": null,
   "metadata": {},
   "outputs": [],
   "source": [
    "# Horizontal Barplot for Sent Messages\n",
    "plt.barh(top10_Sent.iloc[:,0],top10_Sent.iloc[:,4], color ='cornflowerblue',align='center')\n",
    "plt.xlim(0,max(df_sb.iloc[:,4])+10)\n",
    "plt.xlabel(\"Number of messages\") \n",
    "plt.ylabel(\"Section Blocks\")\n",
    "plt.title(\"Sent messages with >5min. delivery time\") \n",
    "# Adding percentage values of '%' column to the bars\n",
    "for index, value in enumerate(top10_Sent.iloc[:,4]):\n",
    "    plt.text(value, index, str(top10_Sent.iloc[index,13]))"
   ]
  },
  {
   "cell_type": "code",
   "execution_count": null,
   "metadata": {},
   "outputs": [],
   "source": [
    "# Horizontal Barplot for Received Messages\n",
    "plt.barh(top10_Received.iloc[:,0],top10_Received.iloc[:,5], color ='tab:red',align='center')\n",
    "plt.xlim(0,max(df_sb.iloc[:,5])+10)\n",
    "plt.xlabel(\"Number of messages\") \n",
    "plt.ylabel(\"Section Blocks\")\n",
    "plt.title(\"Received messages with >5min. delivery time\") \n",
    "# Adding percentage values of '%' column to the bars\n",
    "for index, value in enumerate(top10_Received.iloc[:,5]):\n",
    "    plt.text(value, index, str(top10_Received.iloc[index,14]))"
   ]
  },
  {
   "cell_type": "code",
   "execution_count": null,
   "metadata": {},
   "outputs": [],
   "source": [
    "# Horizontal Barplot for Total Messages\n",
    "plt.barh(top10_Total.iloc[:,0],top10_Total.iloc[:,6], color ='olivedrab',align='center')\n",
    "plt.xlim(0,max(df_sb.iloc[:,6])+10)\n",
    "plt.xlabel(\"Number of messages\") \n",
    "plt.ylabel(\"Section Blocks\")\n",
    "plt.title(\"Total messages with >5min. delivery time\") \n",
    "# Adding percentage values of '%' column to the bars\n",
    "for index, value in enumerate(top10_Total.iloc[:,6]):\n",
    "    plt.text(value, index, str(top10_Total.iloc[index,15]))"
   ]
  }
 ],
 "metadata": {
  "kernelspec": {
   "display_name": "Python 3",
   "language": "python",
   "name": "python3"
  },
  "language_info": {
   "codemirror_mode": {
    "name": "ipython",
    "version": 3
   },
   "file_extension": ".py",
   "mimetype": "text/x-python",
   "name": "python",
   "nbconvert_exporter": "python",
   "pygments_lexer": "ipython3",
   "version": "3.8.3"
  }
 },
 "nbformat": 4,
 "nbformat_minor": 4
}
