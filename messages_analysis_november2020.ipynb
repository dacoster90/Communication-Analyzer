{
 "cells": [
  {
   "cell_type": "code",
   "execution_count": 1,
   "metadata": {},
   "outputs": [],
   "source": [
    "# Importing packages\n",
    "import cx_Oracle\n",
    "import pandas as pd\n",
    "from datetime import timedelta\n",
    "from datetime import datetime\n",
    "import numpy as np\n",
    "import matplotlib.pyplot as plt\n",
    "import seaborn as sns\n",
    "from statsmodels.tsa.seasonal import seasonal_decompose"
   ]
  },
  {
   "cell_type": "code",
   "execution_count": 2,
   "metadata": {},
   "outputs": [],
   "source": [
    "# Variable declaration\n",
    "a = timedelta(seconds=300)\n",
    "month = 11\n",
    "year = 2020\n",
    "# Show all rows\n",
    "pd.set_option('display.max_rows', None)"
   ]
  },
  {
   "cell_type": "code",
   "execution_count": 3,
   "metadata": {},
   "outputs": [],
   "source": [
    "# Importing data from Oracle database\n",
    "con = cx_Oracle.connect('STC_SETRAG/art@localhost/XE')\n",
    "cur = con.cursor()\n",
    "\n",
    "# First Query\n",
    "query=cur.execute('select * from historico_mensagens')\n",
    "df = pd.DataFrame(query)\n",
    "# Second Query\n",
    "query=cur.execute('select EV_NOM_MAC from ELEM_VIA where TE_ID_TP = 3')\n",
    "df_sb = pd.DataFrame(query)\n",
    "\n",
    "cur.close()\n",
    "con.close()"
   ]
  },
  {
   "cell_type": "code",
   "execution_count": 4,
   "metadata": {},
   "outputs": [],
   "source": [
    "# Formatting dataframe\n",
    "\n",
    "# Adding names to the columns of the dataframes\n",
    "df.columns=['HM_ID_HM','HM_LOCO_MSG','HM_PRF_TRM','HM_OBC_MSG','HM_NUM_MSG','HM_TP_MSG','HM_DAT_OBC','HM_DAT_STC',\n",
    "            'HM_TXT_MSG','HM_TXT_TW','HM_LAT_HM','HM_LON_HM','HM_ENV_RCB','HM_MSG_VOZ','HM_NUM_FUN','HM_ID_AUX','HM_SIT_ENV','MT_ID_MT']\n",
    "df_sb.columns=['NAME']\n",
    "# Dropping tables with no use\n",
    "df = df.drop(['HM_TP_MSG','HM_TXT_TW','MT_ID_MT','HM_ID_AUX','HM_OBC_MSG','HM_LAT_HM','HM_LON_HM'], axis=1)"
   ]
  },
  {
   "cell_type": "code",
   "execution_count": 5,
   "metadata": {},
   "outputs": [],
   "source": [
    "# Splitting dataframe in 'Sent' and 'Received' messages\n",
    "df_sent = df.loc[df['HM_ENV_RCB']=='E']\n",
    "df_received = df.loc[df['HM_ENV_RCB']=='R']\n",
    "\n",
    "# Removing the original dataframe\n",
    "df = pd.DataFrame(None)"
   ]
  },
  {
   "cell_type": "code",
   "execution_count": 6,
   "metadata": {},
   "outputs": [],
   "source": [
    "# Filter Part I \n",
    "\n",
    "# Sent DataFrame\n",
    "# 1) Filter messages from november 2020\n",
    "df_sent = df_sent.loc[df_sent['HM_DAT_STC']>='2020-11-01']\n",
    "df_sent = df_sent.loc[df_sent['HM_DAT_STC']<='2020-11-30']\n",
    "# 2) Filter all messages that contain OBC time\n",
    "df_sent = df_sent.loc[df_sent['HM_DAT_OBC'].notnull()]\n",
    "\n",
    "# Received DataFrame\n",
    "# 1) Filter all messages that did not expired\n",
    "df_received = df_received.loc[df_received['HM_SIT_ENV']=='E']\n",
    "# 2) Filter messages from november 2020\n",
    "df_received = df_received.loc[df_received['HM_DAT_STC']>='2020-11-01']\n",
    "df_received = df_received.loc[df_received['HM_DAT_STC']<='2020-11-30']\n",
    "# 3) Filter all messages that contain OBC time\n",
    "df_received = df_received.loc[df_received['HM_DAT_OBC'].notnull()]\n",
    "# 4) Filter all messages that have a date later than needed (avoiding future date messages)\n",
    "df_received = df_received.loc[df_received['HM_DAT_OBC']<'2020-12-02']"
   ]
  },
  {
   "cell_type": "code",
   "execution_count": 7,
   "metadata": {},
   "outputs": [
    {
     "data": {
      "text/plain": [
       "((54019, 11), (76358, 11))"
      ]
     },
     "execution_count": 7,
     "metadata": {},
     "output_type": "execute_result"
    }
   ],
   "source": [
    "# Returns amount of messages after the first filtering\n",
    "df_sent.shape, df_received.shape"
   ]
  },
  {
   "cell_type": "code",
   "execution_count": 8,
   "metadata": {},
   "outputs": [
    {
     "data": {
      "text/plain": [
       "(54019, 76358, 130377)"
      ]
     },
     "execution_count": 8,
     "metadata": {},
     "output_type": "execute_result"
    }
   ],
   "source": [
    "# Storing the total of messages in a variable after first filtering for both Sent and Received messages\n",
    "\n",
    "# Sent\n",
    "totalSentMessages = len(df_sent['HM_ID_HM'])\n",
    "\n",
    "# Received\n",
    "totalReceivedMessages = len(df_received['HM_ID_HM'])\n",
    "\n",
    "# Total\n",
    "totalMessages = totalSentMessages + totalReceivedMessages\n",
    "\n",
    "totalSentMessages, totalReceivedMessages, totalMessages"
   ]
  },
  {
   "cell_type": "code",
   "execution_count": 9,
   "metadata": {},
   "outputs": [
    {
     "data": {
      "text/plain": [
       "('0:02:58', '0:00:49')"
      ]
     },
     "execution_count": 9,
     "metadata": {},
     "output_type": "execute_result"
    }
   ],
   "source": [
    "# Return the average delivery time of Sent and Received messages\n",
    "\n",
    "# Sent\n",
    "df_sent['DELIVERY_TIME'] = df_sent['HM_DAT_OBC']-df_sent['HM_DAT_STC']\n",
    "# Converting to string in order to execute a mathematic operation\n",
    "df_sent['DELIVERY_TIME'] = df_sent['DELIVERY_TIME']/np.timedelta64(1, 's')\n",
    "totalSent = sum(df_sent.iloc[:,11])\n",
    "averageSentDelivery = round(totalSent/totalSentMessages,0)\n",
    "# Converting from float to mm:ss\n",
    "averageSentDelivery = timedelta(seconds=averageSentDelivery)\n",
    "averageSentDelivery=str(averageSentDelivery)\n",
    "\n",
    "# Received\n",
    "df_received['DELIVERY_TIME'] = df_received['HM_DAT_STC']-df_received['HM_DAT_OBC']\n",
    "# Converting to string in order to execute a mathematic operation\n",
    "df_received['DELIVERY_TIME'] = df_received['DELIVERY_TIME']/np.timedelta64(1, 's')\n",
    "totalReceived = sum(df_received.iloc[:,11])\n",
    "averageReceivedDelivery = round(totalReceived/totalReceivedMessages,0)\n",
    "# Converting from float to mm:ss\n",
    "averageReceivedDelivery = timedelta(seconds=averageReceivedDelivery)\n",
    "averageReceivedDelivery = str(averageReceivedDelivery)\n",
    "\n",
    "averageSentDelivery, averageReceivedDelivery"
   ]
  },
  {
   "cell_type": "code",
   "execution_count": 10,
   "metadata": {},
   "outputs": [
    {
     "data": {
      "text/plain": [
       "'0:01:42'"
      ]
     },
     "execution_count": 10,
     "metadata": {},
     "output_type": "execute_result"
    }
   ],
   "source": [
    "# Return the average delivery time of Sent and Received messages combined\n",
    "averageDelivery = round((totalSent + totalReceived)/(totalSentMessages + totalReceivedMessages),0)\n",
    "# Converting from float to mm:ss\n",
    "averageDelivery = timedelta(seconds=averageDelivery)\n",
    "averageDelivery = str(averageDelivery)\n",
    "\n",
    "averageDelivery"
   ]
  },
  {
   "cell_type": "code",
   "execution_count": 11,
   "metadata": {},
   "outputs": [
    {
     "name": "stderr",
     "output_type": "stream",
     "text": [
      "D:\\anaconda\\lib\\site-packages\\seaborn\\distributions.py:2551: FutureWarning: `distplot` is a deprecated function and will be removed in a future version. Please adapt your code to use either `displot` (a figure-level function with similar flexibility) or `kdeplot` (an axes-level function for kernel density plots).\n",
      "  warnings.warn(msg, FutureWarning)\n",
      "D:\\anaconda\\lib\\site-packages\\seaborn\\distributions.py:2551: FutureWarning: `distplot` is a deprecated function and will be removed in a future version. Please adapt your code to use either `displot` (a figure-level function with similar flexibility) or `kdeplot` (an axes-level function for kernel density plots).\n",
      "  warnings.warn(msg, FutureWarning)\n"
     ]
    },
    {
     "data": {
      "image/png": "[encoded data removed]",
      "text/plain": [
       "<Figure size 432x288 with 1 Axes>"
      ]
     },
     "metadata": {
      "needs_background": "light"
     },
     "output_type": "display_data"
    }
   ],
   "source": [
    "# Density graph\n",
    "sns.distplot(df_sent['DELIVERY_TIME'],hist=False,kde=True,color = 'cornflowerblue', label = 'Sent')\n",
    "sns.distplot(df_received['DELIVERY_TIME'],hist=False,kde=True, color = 'tab:red', label = 'Received')\n",
    "plt.xlabel(\"Delivery Times (in seconds)\") \n",
    "plt.legend(loc='best')\n",
    "plt.xlim(0, 500)\n",
    "plt.show()"
   ]
  },
  {
   "cell_type": "code",
   "execution_count": 12,
   "metadata": {},
   "outputs": [
    {
     "data": {
      "text/plain": [
       "('7.0%', 3779, '3.01%', 2295)"
      ]
     },
     "execution_count": 12,
     "metadata": {},
     "output_type": "execute_result"
    }
   ],
   "source": [
    "# Return % and total amount of messages that took more than 5min for both Sent and Received messages.\n",
    "\n",
    "# Sent\n",
    "totalSentDelay= df_sent.loc[(df_sent['HM_DAT_OBC']-df_sent['HM_DAT_STC']) >= a]\n",
    "totalSentDelay = len(totalSentDelay)\n",
    "averageSentDelay=(totalSentDelay/totalSentMessages)*100\n",
    "averageSentDelay = round(averageSentDelay,2)\n",
    "averageSentDelay = str(averageSentDelay)+ \"%\"\n",
    "\n",
    "# Received\n",
    "totalReceivedDelay= df_received.loc[(df_received['HM_DAT_STC']-df_received['HM_DAT_OBC']) >= a]\n",
    "totalReceivedDelay = len(totalReceivedDelay)\n",
    "averageReceivedDelay=(totalReceivedDelay/totalReceivedMessages)*100\n",
    "averageReceivedDelay = round(averageReceivedDelay,2)\n",
    "averageReceivedDelay = str(averageReceivedDelay)+ \"%\"\n",
    "\n",
    "averageSentDelay, totalSentDelay, averageReceivedDelay, totalReceivedDelay"
   ]
  },
  {
   "cell_type": "code",
   "execution_count": 13,
   "metadata": {},
   "outputs": [
    {
     "data": {
      "text/plain": [
       "('4.66%', 6074)"
      ]
     },
     "execution_count": 13,
     "metadata": {},
     "output_type": "execute_result"
    }
   ],
   "source": [
    "# Return the total and % of messages that took more than 5 min with Sent and Received combined.\n",
    "totalDelay = totalSentDelay + totalReceivedDelay\n",
    "totalMessages = totalSentMessages + totalReceivedMessages\n",
    "averageTotalDelay = (totalDelay/totalMessages)*100\n",
    "averageTotalDelay = round(averageTotalDelay,2)\n",
    "averageTotalDelay = str(averageTotalDelay)+\"%\"\n",
    "\n",
    "averageTotalDelay, totalDelay"
   ]
  },
  {
   "cell_type": "code",
   "execution_count": null,
   "metadata": {},
   "outputs": [],
   "source": [
    "# Time Series of the month\n",
    "\n",
    "# Sent\n",
    "# Adding a new column 'ADD' to dataframe to convert and slice the time from the date. \n",
    "df_sent['DATE'] = df_sent.iloc[:,5]\n",
    "for i in range(0,len(df_sent['HM_ID_HM']),1):\n",
    "    df_sent.iloc[i,12] = str(df_sent.iloc[i,12]) # Converting to String\n",
    "    df_sent.iloc[i,12] = df_sent.iloc[i,12][:10] # Slicing - removing the time from the format\n",
    "    \n",
    "# Grouping number of messages per day\n",
    "ts_sent = df_sent.groupby(['DATE']).size()\n",
    "\n",
    "\n",
    "# Received\n",
    "# Adding a new column 'ADD' to dataframe to convert and slice the time from the date. \n",
    "df_received['DATE'] = df_received.iloc[:,5]\n",
    "for i in range(0,len(df_received['HM_ID_HM']),1):\n",
    "    df_received.iloc[i,12] = str(df_received.iloc[i,12]) # Converting to String\n",
    "    df_received.iloc[i,12] = df_received.iloc[i,12][:10] # Slicing - removing the time from the format\n",
    "    \n",
    "# Grouping number of messages per day\n",
    "ts_received = df_received.groupby(['DATE']).size()"
   ]
  },
  {
   "cell_type": "code",
   "execution_count": null,
   "metadata": {},
   "outputs": [],
   "source": [
    "# Time series Graphs for Sent and received messages\n",
    "# Sent\n",
    "plt.plot(ts_sent,color ='cornflowerblue', label='Sent')\n",
    "plt.xticks(rotation=90)\n",
    "#for i in range(1000,max(ts_sent),200):\n",
    "#    plt.axhline(y=i, color='black', linestyle='--',linewidth=0.5)\n",
    "plt.title(\"Delays per Day\")\n",
    "\n",
    "# Received\n",
    "plt.plot(ts_received,color ='tab:red', label='Received')\n",
    "plt.xticks(rotation=90)\n",
    "#for i in range(1000,max(ts_sent),200):\n",
    "#    plt.axhline(y=i, color='black', linestyle='--',linewidth=0.5)\n",
    "plt.title(\"Delays per Day\")\n",
    "\n",
    "plt.legend(loc='best')"
   ]
  },
  {
   "cell_type": "code",
   "execution_count": null,
   "metadata": {},
   "outputs": [],
   "source": [
    "# Time Series TREND, SEASONAL and RANDOM for Sent and Received messages\n",
    "\n",
    "# Creating the decomposition variable\n",
    "decomp_sent = seasonal_decompose(ts_sent, period=14) # Periods can be thought of as special cases of intervals\n",
    "decomp_received = seasonal_decompose(ts_received, period=14)\n",
    "\n",
    "# Trend\n",
    "tend_sent = decomp_sent.trend\n",
    "tend_received = decomp_received.trend\n",
    "# Seasonal\n",
    "seas_sent = decomp_sent.seasonal\n",
    "seas_received = decomp_received.seasonal\n",
    "# Random\n",
    "rand_sent = decomp_sent.resid\n",
    "rand_received = decomp_received.resid\n",
    "\n",
    "plt.figure(1)\n",
    "plt.subplot(2,2,1)\n",
    "plt.plot(ts_sent,color ='cornflowerblue', label='Sent')\n",
    "plt.plot(ts_received,color ='tab:red',label='Received')\n",
    "plt.title('Time Series')\n",
    "plt.xticks([])\n",
    "plt.yticks([])\n",
    "plt.subplot(2,2,2)\n",
    "plt.plot(tend_sent,color ='cornflowerblue')\n",
    "plt.plot(tend_received,color ='tab:red')\n",
    "plt.xticks([])\n",
    "plt.yticks([])\n",
    "plt.title('Trend')\n",
    "plt.subplot(2,2,3)\n",
    "plt.plot(seas_sent,color ='cornflowerblue')\n",
    "plt.plot(seas_received,color ='tab:red')\n",
    "plt.xticks([])\n",
    "#plt.yticks([])\n",
    "plt.title('Seasonality')\n",
    "#plt.subplot(2,2,4)\n",
    "#plt.plot(rand_sent,color ='cornflowerblue')\n",
    "#plt.plot(rand_received,color ='tab:red')\n",
    "#plt.xticks([])\n",
    "#plt.yticks([])\n",
    "#plt.title('Resid')"
   ]
  },
  {
   "cell_type": "code",
   "execution_count": 14,
   "metadata": {},
   "outputs": [
    {
     "data": {
      "text/plain": [
       "((319, 12), (1044, 12))"
      ]
     },
     "execution_count": 14,
     "metadata": {},
     "output_type": "execute_result"
    }
   ],
   "source": [
    "# Filter Part II\n",
    "\n",
    "# Sent\n",
    "# 3) Filter messages with macros 1001, 1002 and 1003\n",
    "df_sent = df_sent.loc[(df_sent['HM_NUM_MSG']==1001)|(df_sent['HM_NUM_MSG']==1002)|(df_sent['HM_NUM_MSG']==1003)]\n",
    "# 4) Filter messages that took longer than 5 minutes\n",
    "df_sent = df_sent.loc[(df_sent['HM_DAT_OBC']-df_sent['HM_DAT_STC']) >= a]\n",
    "# 5) Order the dataframe by HM_ID_HM\n",
    "df_sent.sort_values(by=['HM_ID_HM'])\n",
    "\n",
    "#Received\n",
    "# 5) Filter messages with macros 2006, 2011, 2012, 2015, 2017, 2020, 2021 and 2029\n",
    "df_received = df_received.loc[(df_received['HM_NUM_MSG']==2006)|(df_received['HM_NUM_MSG']==2011)|(df_received['HM_NUM_MSG']==2012)|(df_received['HM_NUM_MSG']==2015)|(df_received['HM_NUM_MSG']==2017)|(df_received['HM_NUM_MSG']==2020)|(df_received['HM_NUM_MSG']==2021)|(df_received['HM_NUM_MSG']==2029)]\n",
    "# 6) Filter messages that took longer than 5 minutes\n",
    "df_received = df_received.loc[(df_received['HM_DAT_STC']-df_received['HM_DAT_OBC']) >= a]\n",
    "# 7) Order the dataframe by HM_ID_HM\n",
    "df_received.sort_values(by=['HM_ID_HM'])\n",
    "# 8) Remove messages that don't contain data\n",
    "df_received = df_received.loc[df_received['HM_TXT_MSG'].notnull()]\n",
    "\n",
    "df_sent.shape, df_received.shape"
   ]
  },
  {
   "cell_type": "code",
   "execution_count": 15,
   "metadata": {},
   "outputs": [
    {
     "data": {
      "text/plain": [
       "(319, 1044)"
      ]
     },
     "execution_count": 15,
     "metadata": {},
     "output_type": "execute_result"
    }
   ],
   "source": [
    "# Store and return the amount of messages after filtering\n",
    "\n",
    "# Sent\n",
    "totalSentMessageDelay = len(df_sent['HM_ID_HM'])\n",
    "\n",
    "# Received\n",
    "totalReceivedMessageDelay = len(df_received['HM_ID_HM'])\n",
    "\n",
    "totalSentMessageDelay, totalReceivedMessageDelay"
   ]
  },
  {
   "cell_type": "code",
   "execution_count": 16,
   "metadata": {},
   "outputs": [
    {
     "data": {
      "text/plain": [
       "('0:16:57', '0:12:33')"
      ]
     },
     "execution_count": 16,
     "metadata": {},
     "output_type": "execute_result"
    }
   ],
   "source": [
    "# Return the average delivery time of Sent and Received messages with delay (longer than 5 min.)\n",
    "\n",
    "# Sent\n",
    "df_sent['DELIVERY_TIME'] = df_sent['HM_DAT_OBC']-df_sent['HM_DAT_STC']\n",
    "df_sent['DELIVERY_TIME'] = df_sent['DELIVERY_TIME']/np.timedelta64(1, 's')\n",
    "Sent_Calc = sum(df_sent.iloc[:,11])\n",
    "averageSentDeliveryDelay = round(Sent_Calc/totalSentMessageDelay,0)\n",
    "# Converting from float to mm:ss\n",
    "averageSentDeliveryDelay = timedelta(seconds=averageSentDeliveryDelay)\n",
    "averageSentDeliveryDelay=str(averageSentDeliveryDelay)\n",
    "\n",
    "# Received\n",
    "df_received['DELIVERY_TIME'] = df_received['HM_DAT_STC']-df_received['HM_DAT_OBC']\n",
    "df_received['DELIVERY_TIME'] = df_received['DELIVERY_TIME']/np.timedelta64(1, 's')\n",
    "Received_Calc = sum(df_received.iloc[:,11])\n",
    "averageReceivedDeliveryDelay = round(Received_Calc/totalReceivedMessageDelay,0)\n",
    "# Converting from float to mm:ss\n",
    "averageReceivedDeliveryDelay = timedelta(seconds=averageReceivedDeliveryDelay)\n",
    "averageReceivedDeliveryDelay=str(averageReceivedDeliveryDelay)\n",
    "\n",
    "averageSentDeliveryDelay, averageReceivedDeliveryDelay"
   ]
  },
  {
   "cell_type": "code",
   "execution_count": 17,
   "metadata": {},
   "outputs": [
    {
     "data": {
      "text/plain": [
       "'0:00:04'"
      ]
     },
     "execution_count": 17,
     "metadata": {},
     "output_type": "execute_result"
    }
   ],
   "source": [
    "# Return the average delivery time of Sent and Received messages with delay (longer than 5 min.) combined\n",
    "averageDeliveryDelay = round((Sent_Calc+Received_Calc)/(totalSentMessageDelay+totalReceivedMessageDelay),0)\n",
    "# Converting from float to mm:ss\n",
    "averageDeliveryDelay = timedelta(seconds=averageDeliveryDelay)\n",
    "averageDeliveryDelay = str(averageDeliveryDelay)\n",
    "\n",
    "averageDeliveryDelay"
   ]
  },
  {
   "cell_type": "code",
   "execution_count": 18,
   "metadata": {},
   "outputs": [],
   "source": [
    "# Adding new columns to dataframe df_sb\n",
    "\n",
    "for i in range(0,len(df_sb['NAME']),1):\n",
    "    df_sb['SECTION_DEBUT'] = \"Section Début: \" + df_sb.loc[:,'NAME'] + \" \"\n",
    "    df_sb['CANTON'] = \"Canton: \" + df_sb.loc[:,'NAME'] + \" \"\n",
    "    df_sb['SECTION_TETE'] = \"Section da Tête: \" + df_sb.loc[:,'NAME'] + \" \"\n",
    "\n",
    "df_sb['COUNTS_SENT'] = 0\n",
    "df_sb['COUNTS_RECEIVED'] = 0\n",
    "df_sb['COUNTS_TOTAL'] = 0\n",
    "df_sb['TOTAL_TIME_SENT'] = 0.0\n",
    "df_sb['TOTAL_TIME_RECEIVED'] = 0.0\n",
    "df_sb['TOTAL_TIME'] = 0.0\n",
    "df_sb['AVERAGE_TIME_SENT'] = 0.0\n",
    "df_sb['AVERAGE_TIME_RECEIVED'] = 0.0\n",
    "df_sb['AVERAGE_TIME'] = 0.0\n",
    "df_sb['%_SENT'] = 0\n",
    "df_sb['%_RECEIVED'] = 0\n",
    "df_sb['%_TOTAL'] = 0"
   ]
  },
  {
   "cell_type": "code",
   "execution_count": 19,
   "metadata": {},
   "outputs": [],
   "source": [
    "# Total of delays per SB and total delivery time per SB for Sent and Received messages\n",
    "\n",
    "# Sent\n",
    "for i in range(0,len(df_sb['NAME']),1):\n",
    "    for j in range(0,totalSentMessageDelay,1):\n",
    "        if df_sent.iloc[j,3] == 1002 and df_sb.iloc[i,1] in df_sent.iloc[j,6]:\n",
    "            df_sb.iloc[i,4] += 1\n",
    "            df_sb.iloc[i,7] += df_sent.iloc[j,11]\n",
    "\n",
    "        if df_sent.iloc[j,3] != 1002 and df_sb.iloc[i,2] in df_sent.iloc[j,6]:\n",
    "            df_sb.iloc[i,4] +=1\n",
    "            df_sb.iloc[i,7] += df_sent.iloc[j,11]\n",
    "\n",
    "# Received\n",
    "for i in range(0,len(df_sb['NAME']),1):\n",
    "    for j in range(0,totalReceivedMessageDelay,1):\n",
    "        if df_sb.iloc[i,1] in df_received.iloc[j,6]:\n",
    "            df_sb.iloc[i,5] += 1\n",
    "            df_sb.iloc[i,8] += df_received.iloc[j,11]\n",
    "            \n",
    "        if df_sb.iloc[i,2] in df_received.iloc[j,6]:\n",
    "            df_sb.iloc[i,5] += 1\n",
    "            df_sb.iloc[i,8] += df_received.iloc[j,11]\n",
    "            \n",
    "        if df_sb.iloc[i,3] in df_received.iloc[j,6]:\n",
    "            df_sb.iloc[i,5] += 1\n",
    "            df_sb.iloc[i,8] += df_received.iloc[j,11]\n",
    "            \n",
    "# !! There may be a slight difference between totalReceivedMessageDelay and the sum of df_sb['COUNTS'].\n",
    "# This is because the script does not consider messages on switches \n",
    "# There are also some messages that have 'Canton:' but don't contain an actual location !!\n",
    "\n",
    "# Total\n",
    "for i in range(0, len(df_sb['NAME']),1):\n",
    "    df_sb.iloc[i,6] = df_sb.iloc[i,4] + df_sb.iloc[i,5]\n",
    "    df_sb.iloc[i,9] = df_sb.iloc[i,7] + df_sb.iloc[i,8]"
   ]
  },
  {
   "cell_type": "code",
   "execution_count": 20,
   "metadata": {},
   "outputs": [
    {
     "data": {
      "text/plain": [
       "1014"
      ]
     },
     "execution_count": 20,
     "metadata": {},
     "output_type": "execute_result"
    }
   ],
   "source": [
    "# Fix for Received Messages Count\n",
    "x=0\n",
    "for i in range(0,len(df_sb['NAME']),1):\n",
    "    x = x + df_sb.iloc[i,5]\n",
    "    \n",
    "# A new value is returned to 'totalReceivedMessageDelay' to correctly count the % column.\n",
    "# Please refer to the difference in the comments of the previous section. (Between '!!...!!')\n",
    "totalReceivedMessageDelay = int(x)\n",
    "totalReceivedMessageDelay"
   ]
  },
  {
   "cell_type": "code",
   "execution_count": 21,
   "metadata": {},
   "outputs": [],
   "source": [
    "# Calculate the average delay per SB\n",
    "\n",
    "# Sent\n",
    "for i in range(0,len(df_sb['NAME']),1):\n",
    "    if df_sb.iloc[i,4] != 0:\n",
    "        df_sb.iloc[i,10] = df_sb.iloc[i,7]/df_sb.iloc[i,4]\n",
    "        df_sb.iloc[i,10] = round(df_sb.iloc[i,10],0)    # Have to round the values to Integer to avoid having milliseconds\n",
    "        df_sb.iloc[i,10] = str(timedelta(seconds=df_sb.iloc[i,10])) # Converting to String time format\n",
    "        df_sb.iloc[i,7] = str(timedelta(seconds=df_sb.iloc[i,7]))\n",
    "    else:\n",
    "        df_sb.iloc[i,10] = 0      \n",
    "        df_sb.iloc[i,10] = str(timedelta(seconds=df_sb.iloc[i,10]))\n",
    "        df_sb.iloc[i,7] = str(timedelta(seconds=df_sb.iloc[i,7]))\n",
    "        \n",
    "# Received\n",
    "for i in range(0,len(df_sb['NAME']),1):\n",
    "    if df_sb.iloc[i,5] != 0:\n",
    "        df_sb.iloc[i,11] = df_sb.iloc[i,8]/df_sb.iloc[i,5]\n",
    "        df_sb.iloc[i,11] = round(df_sb.iloc[i,11],0)    # Have to round the values to Integer to avoid having milliseconds\n",
    "        df_sb.iloc[i,11] = str(timedelta(seconds=df_sb.iloc[i,11])) # Converting to String time format\n",
    "        df_sb.iloc[i,8] = str(timedelta(seconds=df_sb.iloc[i,8]))\n",
    "    else:\n",
    "        df_sb.iloc[i,11] = 0      \n",
    "        df_sb.iloc[i,11] = str(timedelta(seconds=df_sb.iloc[i,11]))\n",
    "        df_sb.iloc[i,8] = str(timedelta(seconds=df_sb.iloc[i,8]))\n",
    "        \n",
    "# Total\n",
    "for i in range(0,len(df_sb['NAME']),1):\n",
    "    if df_sb.iloc[i,6] != 0:\n",
    "        df_sb.iloc[i,12] = df_sb.iloc[i,9]/df_sb.iloc[i,6]\n",
    "        df_sb.iloc[i,12] = round(df_sb.iloc[i,12],0)    # Have to round the values to Integer to avoid having milliseconds\n",
    "        df_sb.iloc[i,12] = str(timedelta(seconds=df_sb.iloc[i,12])) # Converting to String time format\n",
    "        df_sb.iloc[i,9] = str(timedelta(seconds=df_sb.iloc[i,9]))\n",
    "    else:\n",
    "        df_sb.iloc[i,12] = 0      \n",
    "        df_sb.iloc[i,12] = str(timedelta(seconds=df_sb.iloc[i,12]))\n",
    "        df_sb.iloc[i,9] = str(timedelta(seconds=df_sb.iloc[i,9]))"
   ]
  },
  {
   "cell_type": "code",
   "execution_count": 22,
   "metadata": {},
   "outputs": [],
   "source": [
    "# Calculate the % of total delays per SB\n",
    "\n",
    "# Sent\n",
    "for i in range(0,len(df_sb['NAME']),1):\n",
    "    df_sb.iloc[i,13] = round((df_sb.iloc[i,4]/totalSentMessageDelay)*100,2)\n",
    "    df_sb.iloc[i,13] = str(df_sb.iloc[i,13])+'%'\n",
    "    \n",
    "# Received\n",
    "for i in range(0,len(df_sb['NAME']),1):\n",
    "    df_sb.iloc[i,14] = round((df_sb.iloc[i,5]/totalReceivedMessageDelay)*100,2)\n",
    "    df_sb.iloc[i,14] = str(df_sb.iloc[i,14])+'%'\n",
    "    \n",
    "# Total\n",
    "for i in range(0,len(df_sb['NAME']),1):\n",
    "    df_sb.iloc[i,15] = round((df_sb.iloc[i,6]/(totalSentMessageDelay+totalReceivedMessageDelay))*100,2)\n",
    "    df_sb.iloc[i,15] = str(df_sb.iloc[i,15])+'%'"
   ]
  },
  {
   "cell_type": "code",
   "execution_count": 23,
   "metadata": {},
   "outputs": [
    {
     "data": {
      "text/plain": [
       "Text(0.5, 1.0, 'All Messages')"
      ]
     },
     "execution_count": 23,
     "metadata": {},
     "output_type": "execute_result"
    },
    {
     "data": {
      "image/png": "[encoded data removed]",
      "text/plain": [
       "<Figure size 432x288 with 3 Axes>"
      ]
     },
     "metadata": {
      "needs_background": "light"
     },
     "output_type": "display_data"
    }
   ],
   "source": [
    "# Dispersion graph that represents all SBs em dots en shows the number of delays\n",
    "plt.figure(1)\n",
    "plt.subplot(2,2,1)\n",
    "plt.scatter(df_sb.iloc[:,0],df_sb.iloc[:,4], color='cornflowerblue', marker='.')\n",
    "plt.xticks([])\n",
    "for i in range(0,max(df_sb.iloc[:,4]),10):\n",
    "    plt.axhline(y=i, color='black', linestyle='--',linewidth=0.5)\n",
    "plt.title(\"Sent Messages\")\n",
    "plt.subplot(2,2,2)\n",
    "plt.scatter(df_sb.iloc[:,0],df_sb.iloc[:,5], color='tab:red', marker='.')\n",
    "plt.xticks([])\n",
    "for i in range(0,max(df_sb.iloc[:,5]),10):\n",
    "    plt.axhline(y=i, color='black', linestyle='--',linewidth=0.5)\n",
    "plt.title(\"Received Messages\") \n",
    "plt.subplot(2,2,3)\n",
    "plt.scatter(df_sb.iloc[:,0],df_sb.iloc[:,6], color='olivedrab', marker='.')\n",
    "plt.xticks([])\n",
    "for i in range(0,max(df_sb.iloc[:,6]),10):\n",
    "    plt.axhline(y=i, color='black', linestyle='--',linewidth=0.5)\n",
    "plt.title(\"All Messages\")    "
   ]
  },
  {
   "cell_type": "code",
   "execution_count": 24,
   "metadata": {},
   "outputs": [
    {
     "data": {
      "text/plain": [
       "Text(0.5, 1.0, 'Delivery of >5 min. per Section Block')"
      ]
     },
     "execution_count": 24,
     "metadata": {},
     "output_type": "execute_result"
    },
    {
     "data": {
      "image/png": "[encoded data removed]",
      "text/plain": [
       "<Figure size 432x288 with 1 Axes>"
      ]
     },
     "metadata": {
      "needs_background": "light"
     },
     "output_type": "display_data"
    }
   ],
   "source": [
    "# Another dispersion graph, this time as one graph\n",
    "plt.scatter(df_sb.iloc[:,0],df_sb.iloc[:,4], color='cornflowerblue', marker='.', label='Sent')\n",
    "plt.xticks([])\n",
    "for i in range(0,max(df_sb.iloc[:,4]),10):\n",
    "    plt.axhline(y=i, color='black', linestyle='--',linewidth=0.5)\n",
    "    \n",
    "plt.scatter(df_sb.iloc[:,0],df_sb.iloc[:,5], color='tab:red', marker='.', label='Received')\n",
    "plt.xticks([])\n",
    "for i in range(0,max(df_sb.iloc[:,5]),10):\n",
    "    plt.axhline(y=i, color='black', linestyle='--',linewidth=0.5)\n",
    "plt.legend(loc='best')\n",
    "plt.title(\"Delivery of >5 min. per Section Block\")"
   ]
  },
  {
   "cell_type": "code",
   "execution_count": 25,
   "metadata": {},
   "outputs": [
    {
     "data": {
      "text/plain": [
       "Text(0.5, 1.0, 'Delivery of >5 min. per Section Block')"
      ]
     },
     "execution_count": 25,
     "metadata": {},
     "output_type": "execute_result"
    },
    {
     "data": {
      "image/png": "[encoded data removed]",
      "text/plain": [
       "<Figure size 432x288 with 1 Axes>"
      ]
     },
     "metadata": {
      "needs_background": "light"
     },
     "output_type": "display_data"
    }
   ],
   "source": [
    "# Dispersion graph of SENT and RECEIVED messages (TOTAL) combined\n",
    "plt.scatter(df_sb.iloc[:,0],df_sb.iloc[:,6], color='olivedrab', marker='.')\n",
    "plt.xticks([])\n",
    "for i in range(0,max(df_sb.iloc[:,6]),10):\n",
    "    plt.axhline(y=i, color='black', linestyle='--',linewidth=0.5)\n",
    "plt.title(\"Delivery of >5 min. per Section Block\") "
   ]
  },
  {
   "cell_type": "code",
   "execution_count": 26,
   "metadata": {},
   "outputs": [],
   "source": [
    "# Reordering dataframe and selecting TOP 10 for barplot graph\n",
    "ordered_Sent = df_sb.sort_values(by=['COUNTS_SENT'], ascending=False)\n",
    "ordered_Received = df_sb.sort_values(by=['COUNTS_RECEIVED'], ascending=False)\n",
    "ordered_Total = df_sb.sort_values(by=['COUNTS_TOTAL'], ascending=False)\n",
    "\n",
    "top10_Sent = ordered_Sent.head(n=10)\n",
    "top10_Received = ordered_Received.head(n=10)\n",
    "top10_Total = ordered_Total.head(n=10)\n",
    "\n",
    "top10_Sent = top10_Sent.sort_values(by=['COUNTS_SENT'], ascending=True)\n",
    "top10_Received = top10_Received.sort_values(by=['COUNTS_RECEIVED'], ascending=True)\n",
    "top10_Total = top10_Total.sort_values(by=['COUNTS_TOTAL'], ascending=True)"
   ]
  },
  {
   "cell_type": "code",
   "execution_count": 27,
   "metadata": {},
   "outputs": [
    {
     "data": {
      "text/plain": [
       "Text(0.5, 1.0, 'All Messages')"
      ]
     },
     "execution_count": 27,
     "metadata": {},
     "output_type": "execute_result"
    },
    {
     "data": {
      "image/png": "[encoded data removed]",
      "text/plain": [
       "<Figure size 432x288 with 3 Axes>"
      ]
     },
     "metadata": {
      "needs_background": "light"
     },
     "output_type": "display_data"
    }
   ],
   "source": [
    "# Horizontal Barplot \n",
    "plt.figure(1)\n",
    "plt.subplot(2,2,1)\n",
    "plt.barh(top10_Sent.iloc[:,0],top10_Sent.iloc[:,4], color ='cornflowerblue',align='center')\n",
    "plt.xlim(0,max(df_sb.iloc[:,4])+10)\n",
    "plt.xlabel(\"Number of messages\") \n",
    "plt.ylabel(\"Top 10 Section Blocks\")\n",
    "plt.title(\"Sent Messages\") \n",
    "# Adding percentage values of '%' column to the bars\n",
    "#for index, value in enumerate(top10_Sent.iloc[:,4]):\n",
    "#    plt.text(value, index, str(top10_Sent.iloc[index,13]))\n",
    "plt.subplot(2,2,2)\n",
    "plt.barh(top10_Received.iloc[:,0],top10_Received.iloc[:,5], color ='tab:red',align='center')\n",
    "plt.xlim(0,max(df_sb.iloc[:,5])+10)\n",
    "plt.title(\"Received Messages\")\n",
    "plt.subplot(2,2,3)\n",
    "plt.barh(top10_Total.iloc[:,0],top10_Total.iloc[:,6], color ='olivedrab',align='center')\n",
    "plt.xlim(0,max(df_sb.iloc[:,6])+10)\n",
    "plt.title(\"All Messages\") "
   ]
  },
  {
   "cell_type": "code",
   "execution_count": 28,
   "metadata": {},
   "outputs": [
    {
     "data": {
      "image/png": "[encoded data removed]",
      "text/plain": [
       "<Figure size 432x288 with 1 Axes>"
      ]
     },
     "metadata": {
      "needs_background": "light"
     },
     "output_type": "display_data"
    }
   ],
   "source": [
    "# Horizontal Barplot for Sent Messages\n",
    "plt.barh(top10_Sent.iloc[:,0],top10_Sent.iloc[:,4], color ='cornflowerblue',align='center')\n",
    "plt.xlim(0,max(df_sb.iloc[:,4])+10)\n",
    "plt.xlabel(\"Number of messages\") \n",
    "plt.ylabel(\"Section Blocks\")\n",
    "plt.title(\"Sent messages with >5min. delivery time\") \n",
    "# Adding percentage values of '%' column to the bars\n",
    "for index, value in enumerate(top10_Sent.iloc[:,4]):\n",
    "    plt.text(value, index, str(top10_Sent.iloc[index,13]))"
   ]
  },
  {
   "cell_type": "code",
   "execution_count": 29,
   "metadata": {},
   "outputs": [
    {
     "data": {
      "image/png": "[encoded data removed]",
      "text/plain": [
       "<Figure size 432x288 with 1 Axes>"
      ]
     },
     "metadata": {
      "needs_background": "light"
     },
     "output_type": "display_data"
    }
   ],
   "source": [
    "# Horizontal Barplot for Received Messages\n",
    "plt.barh(top10_Received.iloc[:,0],top10_Received.iloc[:,5], color ='tab:red',align='center')\n",
    "plt.xlim(0,max(df_sb.iloc[:,5])+10)\n",
    "plt.xlabel(\"Number of messages\") \n",
    "plt.ylabel(\"Section Blocks\")\n",
    "plt.title(\"Received messages with >5min. delivery time\") \n",
    "# Adding percentage values of '%' column to the bars\n",
    "for index, value in enumerate(top10_Received.iloc[:,5]):\n",
    "    plt.text(value, index, str(top10_Received.iloc[index,14]))"
   ]
  },
  {
   "cell_type": "code",
   "execution_count": 30,
   "metadata": {},
   "outputs": [
    {
     "data": {
      "image/png": "[encoded data removed]",
      "text/plain": [
       "<Figure size 432x288 with 1 Axes>"
      ]
     },
     "metadata": {
      "needs_background": "light"
     },
     "output_type": "display_data"
    }
   ],
   "source": [
    "# Horizontal Barplot for Total Messages\n",
    "plt.barh(top10_Total.iloc[:,0],top10_Total.iloc[:,6], color ='olivedrab',align='center')\n",
    "plt.xlim(0,max(df_sb.iloc[:,6])+10)\n",
    "plt.xlabel(\"Number of messages\") \n",
    "plt.ylabel(\"Section Blocks\")\n",
    "plt.title(\"Total messages with >5min. delivery time\") \n",
    "# Adding percentage values of '%' column to the bars\n",
    "for index, value in enumerate(top10_Total.iloc[:,6]):\n",
    "    plt.text(value, index, str(top10_Total.iloc[index,15]))"
   ]
  },
  {
   "cell_type": "code",
   "execution_count": 31,
   "metadata": {},
   "outputs": [],
   "source": [
    "con = cx_Oracle.connect('DATA_ANALYSIS/art@localhost/XE')\n",
    "cur = con.cursor()\n",
    "\n",
    "cur.execute(\"insert into SENT (ID_SENT, MONTH, YEAR, TOTALSENTMESSAGES, AVERAGESENTDELIVERY, AVERAGESENTDELAY, TOTALSENTDELAY, TOTALSENTMESSAGEDELAY, averageSentDeliveryDelay, regtimestamp) values (SENT_ID_SEQ.NEXTVAL, :month, :year, :totalSentMessages, :averageSentDelivery, :averageSentDelay, :totalSentDelay, :totalSentMessageDelay, :averageSentDeliveryDelay, sysdate)\", [month, year, totalSentMessages, averageSentDelivery, averageSentDelay, totalSentDelay, totalSentMessageDelay, averageSentDeliveryDelay])\n",
    "cur.execute(\"insert into RECEIVED (ID_RECEIVED, MONTH, YEAR, TOTALRECEIVEDMESSAGES, AVERAGERECEIVEDDELIVERY, AVERAGERECEIVEDDELAY, TOTALRECEIVEDDELAY, TOTALRECEIVEDMESSAGEDELAY, averageReceivedDeliveryDelay, regtimestamp) values (RECEIVED_ID_SEQ.NEXTVAL, :month, :year, :totalReceivedMessages, :averageReceivedDelivery, :averageReceivedDelay, :totalReceivedDelay, :totalReceivedMessageDelay, :averageReceivedDeliveryDelay, sysdate)\", [month, year, totalReceivedMessages, averageReceivedDelivery, averageReceivedDelay, totalReceivedDelay, totalReceivedMessageDelay, averageReceivedDeliveryDelay])\n",
    "cur.execute(\"insert into TOTAL (ID_TOTAL, MONTH, YEAR, TOTALMESSAGES, AVERAGEDELIVERY, AVERAGETOTALDELAY, TOTALDELAY, averageDeliveryDelay, regtimestamp) values (TOTAL_ID_SEQ.NEXTVAL, :month, :year, :totalMessages, :averageDelivery, :averageTotalDelay, :totalDelay, :averageDeliveryDelay, sysdate)\", [month, year, totalMessages, averageDelivery, averageTotalDelay, totalDelay, averageDeliveryDelay])\n",
    "\n",
    "con.commit()\n",
    "\n",
    "\n",
    "cur.close()\n",
    "con.close()"
   ]
  },
  {
   "cell_type": "code",
   "execution_count": null,
   "metadata": {},
   "outputs": [],
   "source": []
  }
 ],
 "metadata": {
  "kernelspec": {
   "display_name": "Python 3",
   "language": "python",
   "name": "python3"
  },
  "language_info": {
   "codemirror_mode": {
    "name": "ipython",
    "version": 3
   },
   "file_extension": ".py",
   "mimetype": "text/x-python",
   "name": "python",
   "nbconvert_exporter": "python",
   "pygments_lexer": "ipython3",
   "version": "3.8.3"
  }
 },
 "nbformat": 4,
 "nbformat_minor": 4
}
