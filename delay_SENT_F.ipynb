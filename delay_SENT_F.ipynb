{
 "metadata": {
  "language_info": {
   "codemirror_mode": {
    "name": "ipython",
    "version": 3
   },
   "file_extension": ".py",
   "mimetype": "text/x-python",
   "name": "python",
   "nbconvert_exporter": "python",
   "pygments_lexer": "ipython3",
   "version": "3.8.1"
  },
  "orig_nbformat": 2,
  "kernelspec": {
   "name": "python3",
   "display_name": "Python 3.8.1 64-bit",
   "metadata": {
    "interpreter": {
     "hash": "82e4d6bc4303fa934e3418497c91e681f3d49f64519438e75761be396f2eaee1"
    }
   }
  }
 },
 "nbformat": 4,
 "nbformat_minor": 2,
 "cells": [
  {
   "cell_type": "code",
   "execution_count": 1,
   "metadata": {},
   "outputs": [],
   "source": [
    "# TO DO: Create validation report"
   ]
  },
  {
   "cell_type": "code",
   "execution_count": 2,
   "metadata": {},
   "outputs": [],
   "source": [
    "import cx_Oracle\n",
    "import pandas as pd\n",
    "from datetime import timedelta\n",
    "from datetime import datetime   \n",
    "import numpy as np\n",
    "import os\n",
    "import re"
   ]
  },
  {
   "cell_type": "code",
   "execution_count": 3,
   "metadata": {},
   "outputs": [],
   "source": [
    "# Initializing database connection\n",
    "con = cx_Oracle.connect('STC_SETRAG/art@localhost/orcl.eng.engesis.com')\n",
    "cur = con.cursor()\n",
    "\n",
    "    # First Query\n",
    "query=cur.execute('SELECT * FROM HISTORICO_MENSAGENS')\n",
    "df = pd.DataFrame(query)\n",
    "    # Second Query\n",
    "\n",
    "cur.close()\n",
    "con.close()"
   ]
  },
  {
   "cell_type": "code",
   "execution_count": 4,
   "metadata": {},
   "outputs": [],
   "source": [
    "df.columns=['HM_ID_HM','HM_LOCO_MSG','HM_PRF_TRM','HM_OBC_MSG','HM_NUM_MSG','HM_TP_MSG','HM_DAT_OBC','HM_DAT_STC', 'HM_TXT_MSG','HM_TXT_TW','HM_LAT_HM','HM_LON_HM','HM_ENV_RCB','HM_MSG_VOZ','HM_NUM_FUN','HM_ID_AUX','HM_SIT_ENV','MT_ID_MT']\n",
    "df = df.drop(['HM_TP_MSG','HM_TXT_TW','HM_ID_AUX','HM_OBC_MSG','HM_LAT_HM','HM_LON_HM'], axis=1)\n",
    "\n",
    "df_sent = df.loc[df['HM_ENV_RCB']=='E']\n",
    "\n",
    "df_received = df.loc[df['HM_ENV_RCB']=='R']\n",
    "\n",
    "    # Removing the original dataframe\n",
    "df = pd.DataFrame(None)"
   ]
  },
  {
   "cell_type": "code",
   "execution_count": 5,
   "metadata": {},
   "outputs": [],
   "source": [
    "month = '2'\n",
    "year = '2021'\n",
    "a = timedelta(seconds=300)"
   ]
  },
  {
   "cell_type": "code",
   "execution_count": 6,
   "metadata": {},
   "outputs": [],
   "source": [
    "df_sent = df_sent.loc[df_sent['HM_DAT_STC']>= year + '-' + month +'-12']\n",
    "if(month == '12'):     # December\n",
    "    df_sent = df_sent.loc[df_sent['HM_DAT_STC']< str(int(year)+1) + '-1-01']\n",
    "else:                  # Other months\n",
    "    df_sent = df_sent.loc[df_sent['HM_DAT_STC']< year + '-' + str(int(month)) +'-13']\n",
    "    # 2) Filter all messages that contain OBC time\n",
    "df_sent = df_sent.loc[df_sent['HM_DAT_OBC'].notnull()]\n",
    "    # 3) Filter messages to ensure that the STC time is smaller (or igual) to the OBC time (avoid negative values)\n",
    "df_sent = df_sent.loc[df_sent['HM_DAT_STC']<=df_sent['HM_DAT_OBC']]\n",
    "    # 4) Filter messages that contain locomotive ID\n",
    "df_sent = df_sent[df_sent['HM_LOCO_MSG'].notnull()]\n",
    "\n",
    "    # Received DataFrame\n",
    "    # 1) Filter all messages that did not expired\n",
    "df_received = df_received.loc[df_received['HM_SIT_ENV']=='E']\n",
    "    # 2) Filter messages from within the date set by user\n",
    "df_received = df_received.loc[df_received['HM_DAT_STC']>= year + '-' + month +'-01']\n",
    "if(month == '12'):     # December\n",
    "    df_received = df_received.loc[df_received['HM_DAT_STC']< str(int(year)+1) + '-1-01']\n",
    "else:                  # Other months\n",
    "    df_received = df_received.loc[df_received['HM_DAT_STC']< year + '-' + str(int(month)+1) +'-01']\n",
    "    # 3) Filter all messages that contain OBC time\n",
    "df_received = df_received.loc[df_received['HM_DAT_OBC'].notnull()]\n",
    "    # 4) Filter all messages that have a date later than needed (avoiding future date messages)\n",
    "if(month == '12'):\n",
    "    df_received = df_received.loc[df_received['HM_DAT_OBC']< str(int(year)+1) +'-1-02']\n",
    "else:\n",
    "    df_received = df_received.loc[df_received['HM_DAT_OBC']< year + '-' + str(int(month)+1) +'-02']\n",
    "    # 5) Filter messages to ensure that the OBC time is smaller (or igual) to the STC time (avoid negative values)\n",
    "df_received = df_received.loc[df_received['HM_DAT_OBC']<=df_received['HM_DAT_STC']]\n",
    "    # 6) Filter messages that contain locomotive ID\n",
    "df_received = df_received[df_received['HM_LOCO_MSG'].notnull()]"
   ]
  },
  {
   "cell_type": "code",
   "execution_count": 7,
   "metadata": {},
   "outputs": [],
   "source": [
    "totalSentMessages = len(df_sent['HM_ID_HM'])\n",
    "    # Received\n",
    "totalReceivedMessages = len(df_received['HM_ID_HM'])\n",
    "    # Total\n",
    "totalMessages = totalSentMessages + totalReceivedMessages"
   ]
  },
  {
   "cell_type": "code",
   "execution_count": 8,
   "metadata": {},
   "outputs": [],
   "source": [
    "    # Sent\n",
    "df_sent['DELIVERY_TIME'] = df_sent['HM_DAT_OBC']-df_sent['HM_DAT_STC']\n",
    "    # Converting to string in order to execute a mathematic operation\n",
    "df_sent['DELIVERY_TIME'] = df_sent['DELIVERY_TIME']/np.timedelta64(1, 's')\n",
    "totalSent = sum(df_sent.iloc[:,12])\n",
    "averageSentDelivery = round(totalSent/totalSentMessages,0)\n",
    "    # Converting from float to mm:ss\n",
    "averageSentDelivery = timedelta(seconds=averageSentDelivery)\n",
    "averageSentDelivery=str(averageSentDelivery)\n",
    "\n",
    "    # Received\n",
    "df_received['DELIVERY_TIME'] = df_received['HM_DAT_STC']-df_received['HM_DAT_OBC']\n",
    "    # Converting to string in order to execute a mathematic operation\n",
    "df_received['DELIVERY_TIME'] = df_received['DELIVERY_TIME']/np.timedelta64(1, 's')\n",
    "totalReceived = sum(df_received.iloc[:,12])\n",
    "averageReceivedDelivery = round(totalReceived/totalReceivedMessages,0)\n"
   ]
  },
  {
   "cell_type": "code",
   "execution_count": 9,
   "metadata": {},
   "outputs": [],
   "source": [
    "    # Sent\n",
    "    # 3) Filter messages that took longer than 5 minutes\n",
    "df_sent = df_sent.loc[(df_sent['HM_DAT_OBC']-df_sent['HM_DAT_STC']) >= a]\n",
    "    # 4) Order the dataframe by HM_ID_HM\n",
    "df_sent = df_sent.sort_values(by=['HM_ID_HM'])\n",
    "\n",
    "    #Received\n",
    "    # 5) Filter messages that took longer than 5 minutes\n",
    "df_received = df_received.loc[(df_received['HM_DAT_STC']-df_received['HM_DAT_OBC']) >= a]\n",
    "    # 6) Order the dataframe by HM_ID_HM\n",
    "df_received = df_received.sort_values(by=['HM_ID_HM'])"
   ]
  },
  {
   "cell_type": "code",
   "execution_count": 10,
   "metadata": {},
   "outputs": [
    {
     "output_type": "execute_result",
     "data": {
      "text/plain": [
       "'4304'"
      ]
     },
     "metadata": {},
     "execution_count": 10
    }
   ],
   "source": [
    "prefix = hex(int(df_sent.iloc[33,1]))\n",
    "df_sent.iloc[33,1]"
   ]
  },
  {
   "cell_type": "code",
   "execution_count": null,
   "metadata": {},
   "outputs": [],
   "source": []
  },
  {
   "cell_type": "code",
   "execution_count": 43,
   "metadata": {},
   "outputs": [],
   "source": []
  },
  {
   "cell_type": "code",
   "execution_count": null,
   "metadata": {},
   "outputs": [],
   "source": []
  },
  {
   "cell_type": "code",
   "execution_count": null,
   "metadata": {},
   "outputs": [],
   "source": []
  },
  {
   "cell_type": "code",
   "execution_count": 11,
   "metadata": {},
   "outputs": [],
   "source": [
    "import logging\n",
    "# For logging\n",
    "logging.basicConfig(level=logging.INFO, filename=\"data.log\", format=\"%(asctime)-15s %(levelname)-8s %(message)s\")"
   ]
  },
  {
   "cell_type": "code",
   "execution_count": 12,
   "metadata": {},
   "outputs": [],
   "source": [
    "# Adding new columns to count channels\n",
    "df_sent['GPRS'] = 0\n",
    "df_sent['SAT'] = 0\n",
    "df_sent['QUEUE_DELAY'] = 0\n",
    "\n",
    "df_received['GSM'] = 0\n",
    "df_received['SAT'] = 0"
   ]
  },
  {
   "cell_type": "code",
   "execution_count": 13,
   "metadata": {},
   "outputs": [],
   "source": [
    "#converting it from float to INT\n",
    "df_sent['MT_ID_MT']=df_sent['MT_ID_MT'].astype('int')"
   ]
  },
  {
   "cell_type": "code",
   "execution_count": 14,
   "metadata": {},
   "outputs": [],
   "source": [
    "# Importing files\n",
    "myfile = open(\"D:\\\\kenneth\\Documents\\\\Clients\\\\SETRAG\\\\Tickets\\\\SDSTG_561_Server\\\\SDSTG_561\\\\MM\\\\STCMessageManager.log\", errors=\"ignore\")\n",
    "mm_log = myfile.read().splitlines()\n",
    "myfile.close()\n",
    "\n",
    "myfile = open(\"D:\\\\kenneth\\\\Documents\\\\Clients\\\\SETRAG\\\\Tickets\\\\SDSTG_561_Server\\\\SDSTG_561\\\\app_ABR.log\")\n",
    "abr_log = myfile.read().splitlines()\n",
    "myfile.close()"
   ]
  },
  {
   "cell_type": "code",
   "execution_count": 15,
   "metadata": {},
   "outputs": [],
   "source": [
    "####\n",
    "####\n",
    "# HERE HAS TO BE REPEATED FOR ALL ROWS"
   ]
  },
  {
   "cell_type": "code",
   "execution_count": 16,
   "metadata": {},
   "outputs": [],
   "source": [
    "def func1(i, df_sent):    \n",
    "    # Converting string to MM date format\n",
    "    new_format=str(df_sent.iloc[i,5])\n",
    "    temp=\"\"\n",
    "\n",
    "    for i in new_format: \n",
    "        if i.isalnum(): # Strips all special characters\n",
    "            temp += i\n",
    "\n",
    "    new_format=temp[4:6]+'/'+temp[6:8]+'/'+temp[0:4]+' '+temp[8:10]+':'+temp[10:12]+':' # Seconds is not included because there may be a difference between DB and MM\n",
    "\n",
    "    # To cover in case of difference in minutes (08:30 -> 08:29)\n",
    "    if temp[10] != '0':\n",
    "        new_format_I = temp[4:6]+'/'+temp[6:8]+'/'+temp[0:4]+' '+temp[8:10]+':'+str(int(temp[10:12])-1)+':'\n",
    "    else:\n",
    "        new_format_I = temp[4:6]+'/'+temp[6:8]+'/'+temp[0:4]+' '+temp[8:10]+':0'+str(int(temp[10:12])-1)+':' # To cover in case of difference in minutes (08:30 -> 08:29)\n",
    "\n",
    "    # To cover in case of difference in hour (08:00 -> 07:59)\n",
    "    if temp[8] != '0':\n",
    "        new_format_II = temp[4:6]+'/'+temp[6:8]+'/'+temp[0:4]+' '+str(int(temp[8:10])-1)+':'+'59'+':' \n",
    "    elif temp[8] == '0' and temp[9] != '0':\n",
    "        new_format_II = temp[4:6]+'/'+temp[6:8]+'/'+temp[0:4]+' 0'+str(int(temp[8:10])-1)+':'+'59'+':' # Without this it will change an hour '08' into '7', which doesn't work\n",
    "    else:\n",
    "        new_format_II = temp[4:6]+'/'+str(int(temp[6:8])-1)+'/'+temp[0:4]+' 23:59:' # In case the hour is 00:00:00\n",
    "\n",
    "\n",
    "    return (new_format, new_format_I, new_format_II)"
   ]
  },
  {
   "cell_type": "code",
   "execution_count": 17,
   "metadata": {},
   "outputs": [],
   "source": [
    "def func2(i, df_sent, new_format, mm_log, new_format_I, new_format_II):\n",
    "    # Regex used to match relevant loglines \n",
    "    line_regex = re.compile(new_format + r'.*?' + \" Mensagem Enviada - Locomotiva: \"+df_sent.iloc[i,1]+\" Tipo de comunicação: 1 Número Mensagem: \"+str(df_sent.iloc[i,3])+\" Hex: *\")\n",
    "    file_line = 0\n",
    "    for line in mm_log:\n",
    "        if (line_regex.search(line)):\n",
    "            file_line = line\n",
    "            break\n",
    "         \n",
    "         # Alternative flow  -  In case line is not found, look at previous minute (08:30 -> 08:29)\n",
    "    if file_line == 0:\n",
    "        line_regex_alternative_I = re.compile(new_format_I + r'.*?' + \" Mensagem Enviada - Locomotiva: \"+df_sent.iloc[i,1]+\" Tipo de comunicação: 1 Número Mensagem: \"+str(df_sent.iloc[i,3])+\" Hex: *\")\n",
    "        for line in mm_log:        \n",
    "            if (line_regex_alternative_I.search(line)):\n",
    "                file_line = line\n",
    "                logging.info('Alternative Flow I: '+str(line_regex_alternative_I))\n",
    "                break\n",
    "\n",
    "    if file_line == 0:\n",
    "        # Alternative flow  -  In case line is not found, look at previous hour (08:00 -> 07:59)\n",
    "        line_regex_alternative_II = re.compile(new_format_II + r'.*?' + \" Mensagem Enviada - Locomotiva: \"+df_sent.iloc[i,1]+\" Tipo de comunicação: 1 Número Mensagem: \"+str(df_sent.iloc[i,3])+\" Hex: *\")\n",
    "        for line in mm_log:         \n",
    "            if (line_regex_alternative_II.search(line)):\n",
    "                file_line = line\n",
    "                logging.info('Alternative Flow II: '+str(line_regex_alternative_II))\n",
    "                break\n",
    "       \n",
    "    return(file_line) "
   ]
  },
  {
   "cell_type": "code",
   "execution_count": 18,
   "metadata": {},
   "outputs": [],
   "source": [
    "def func3(i, mm_log, file_line):\n",
    "    # Get the line number in the MM log\n",
    "    line_number = mm_log.index(file_line)\n",
    "\n",
    "    return(line_number)"
   ]
  },
  {
   "cell_type": "code",
   "execution_count": 19,
   "metadata": {},
   "outputs": [],
   "source": [
    "def func4(i, mm_log, line_number):\n",
    "    # Remove the line from the log that was used. This will avoid duplicated lines (with same macro, same loco and timestamp)\n",
    "    mm_log.pop(line_number)\n",
    "    "
   ]
  },
  {
   "cell_type": "code",
   "execution_count": 20,
   "metadata": {},
   "outputs": [],
   "source": [
    "def func5(file_line):\n",
    "    # Get the Hex from the MM message\n",
    "    file_line = file_line[file_line.find('Hex: ')+5:]\n",
    "    # Removing any duplicated 'FF'\n",
    "    file_line = file_line.replace(\"-FF\",\"-\")\n",
    "    # Removing any spaces\n",
    "    file_line = file_line.strip()\n",
    "    return(file_line)"
   ]
  },
  {
   "cell_type": "code",
   "execution_count": 21,
   "metadata": {},
   "outputs": [],
   "source": [
    "def func6(i, df_sent):\n",
    "    # Transform the prefix from decimal to hexadecimal\n",
    "    prefix = hex(int(df_sent.iloc[i,1]))\n",
    "    prefix = prefix[2:10]\n",
    "    prefix = prefix.upper()\n",
    "    temp = ''              #empty string delcaration for temporary variable\n",
    "\n",
    "    if len(prefix) == 2:\n",
    "        prefix_hex = '-' + prefix + '-'\n",
    "    elif len(prefix) == 1:\n",
    "        prefix_hex = '-0' + prefix + '-'\n",
    "\n",
    "    while len(prefix) > 2:     \n",
    "        if len(prefix)%2 == 1:\n",
    "            temp = temp + '-0' +  prefix[0] # take first character\n",
    "            prefix = prefix[1:10] # take the rest\n",
    "            prefix_hex =  temp + '-' + prefix + '-'\n",
    "        elif len(prefix)%2 == 0:\n",
    "            temp = temp + '-' + prefix[0:2] # take first two characters\n",
    "            prefix = prefix[2:10] # take the rest\n",
    "            prefix_hex = temp + '-' + prefix + '-'\n",
    "    return(prefix_hex)"
   ]
  },
  {
   "cell_type": "code",
   "execution_count": 22,
   "metadata": {},
   "outputs": [],
   "source": [
    " def func7(prefix_hex, file_line):\n",
    "    # Regex used to match relevant loglines \n",
    "    inmarsat_regex = re.compile(\"INMARSAT CHANNEL - Message submitted to gateway\" + r'.*?' + prefix_hex + r'.*?' + file_line)\n",
    "    gprs_regex = re.compile(\"TCP CHANNEL CONNECTION - Sending packet\" + r'.*?' + prefix_hex + r'.*?' + file_line)\n",
    "    \n",
    "    gprs_attempt = 0\n",
    "    inmarsat_attempt = 0\n",
    "\n",
    "    # Loop over each log line\n",
    "    for line in abr_log:\n",
    "    # If log line matches our regex\n",
    "        if (gprs_regex.search(line)):\n",
    "            gprs_attempt += 1\n",
    "            logging.info('ABR GPRS: '+str(line))\n",
    "        elif (inmarsat_regex.search(line)):    \n",
    "            inmarsat_attempt += 1\n",
    "            logging.info('ABR INMARSAT: '+str(line))\n",
    "\n",
    "    return(gprs_attempt, inmarsat_attempt)"
   ]
  },
  {
   "cell_type": "code",
   "execution_count": 23,
   "metadata": {},
   "outputs": [],
   "source": [
    "def func8(i, df_sent, gprs_attempt, inmarsat_attempt):\n",
    "    # Counts the amount of attempts to determine if the delay was caused by GPRS or INMARSAT channel\n",
    "    if gprs_attempt > inmarsat_attempt:\n",
    "        df_sent.iloc[i,13] += 1\n",
    "    elif inmarsat_attempt > gprs_attempt: \n",
    "        df_sent.iloc[i,14] += 1\n",
    "    elif inmarsat_attempt == gprs_attempt and (inmarsat_attempt+gprs_attempt) != 0:\n",
    "        df_sent.iloc[i,13] += 1  \n",
    "        df_sent.iloc[i,14] += 1 \n",
    "\n",
    "    if inmarsat_attempt == 0 and gprs_attempt == 0:\n",
    "        df_sent.iloc[i,13] = None  \n",
    "        df_sent.iloc[i,14] = None\n",
    "    elif (inmarsat_attempt == 1 and gprs_attempt == 0) or (inmarsat_attempt == 0 and gprs_attempt == 1):\n",
    "        df_sent.iloc[i,15] += 1\n",
    "\n",
    "    \n",
    "    return(df_sent)"
   ]
  },
  {
   "cell_type": "code",
   "execution_count": 24,
   "metadata": {
    "tags": []
   },
   "outputs": [
    {
     "output_type": "error",
     "ename": "KeyboardInterrupt",
     "evalue": "",
     "traceback": [
      "\u001b[1;31m---------------------------------------------------------------------------\u001b[0m",
      "\u001b[1;31mKeyboardInterrupt\u001b[0m                         Traceback (most recent call last)",
      "\u001b[1;32m<ipython-input-24-d9f17bf8c9cb>\u001b[0m in \u001b[0;36m<module>\u001b[1;34m\u001b[0m\n\u001b[0;32m      9\u001b[0m     \u001b[1;33m(\u001b[0m\u001b[0mfile_line\u001b[0m\u001b[1;33m)\u001b[0m \u001b[1;33m=\u001b[0m \u001b[0mfunc5\u001b[0m\u001b[1;33m(\u001b[0m\u001b[0mfile_line\u001b[0m\u001b[1;33m)\u001b[0m\u001b[1;33m\u001b[0m\u001b[1;33m\u001b[0m\u001b[0m\n\u001b[0;32m     10\u001b[0m     \u001b[1;33m(\u001b[0m\u001b[0mprefix_hex\u001b[0m\u001b[1;33m)\u001b[0m \u001b[1;33m=\u001b[0m \u001b[0mfunc6\u001b[0m\u001b[1;33m(\u001b[0m\u001b[0mi\u001b[0m\u001b[1;33m,\u001b[0m \u001b[0mdf_sent\u001b[0m\u001b[1;33m)\u001b[0m\u001b[1;33m\u001b[0m\u001b[1;33m\u001b[0m\u001b[0m\n\u001b[1;32m---> 11\u001b[1;33m     \u001b[1;33m(\u001b[0m\u001b[0mgprs_attempt\u001b[0m\u001b[1;33m,\u001b[0m \u001b[0minmarsat_attempt\u001b[0m\u001b[1;33m)\u001b[0m \u001b[1;33m=\u001b[0m \u001b[0mfunc7\u001b[0m\u001b[1;33m(\u001b[0m\u001b[0mprefix_hex\u001b[0m\u001b[1;33m,\u001b[0m \u001b[0mfile_line\u001b[0m\u001b[1;33m)\u001b[0m\u001b[1;33m\u001b[0m\u001b[1;33m\u001b[0m\u001b[0m\n\u001b[0m\u001b[0;32m     12\u001b[0m     \u001b[1;33m(\u001b[0m\u001b[0mdf_sent\u001b[0m\u001b[1;33m)\u001b[0m\u001b[1;33m=\u001b[0m \u001b[0mfunc8\u001b[0m\u001b[1;33m(\u001b[0m\u001b[0mi\u001b[0m\u001b[1;33m,\u001b[0m \u001b[0mdf_sent\u001b[0m\u001b[1;33m,\u001b[0m \u001b[0mgprs_attempt\u001b[0m\u001b[1;33m,\u001b[0m \u001b[0minmarsat_attempt\u001b[0m\u001b[1;33m)\u001b[0m\u001b[1;33m\u001b[0m\u001b[1;33m\u001b[0m\u001b[0m\n\u001b[0;32m     13\u001b[0m     \u001b[1;31m# logging\u001b[0m\u001b[1;33m\u001b[0m\u001b[1;33m\u001b[0m\u001b[1;33m\u001b[0m\u001b[0m\n",
      "\u001b[1;32m<ipython-input-22-f42e45011a51>\u001b[0m in \u001b[0;36mfunc7\u001b[1;34m(prefix_hex, file_line)\u001b[0m\n\u001b[0;32m     13\u001b[0m            \u001b[0mgprs_attempt\u001b[0m \u001b[1;33m+=\u001b[0m \u001b[1;36m1\u001b[0m\u001b[1;33m\u001b[0m\u001b[1;33m\u001b[0m\u001b[0m\n\u001b[0;32m     14\u001b[0m            \u001b[0mlogging\u001b[0m\u001b[1;33m.\u001b[0m\u001b[0minfo\u001b[0m\u001b[1;33m(\u001b[0m\u001b[1;34m'ABR GPRS: '\u001b[0m\u001b[1;33m+\u001b[0m\u001b[0mstr\u001b[0m\u001b[1;33m(\u001b[0m\u001b[0mline\u001b[0m\u001b[1;33m)\u001b[0m\u001b[1;33m)\u001b[0m\u001b[1;33m\u001b[0m\u001b[1;33m\u001b[0m\u001b[0m\n\u001b[1;32m---> 15\u001b[1;33m        \u001b[1;32melif\u001b[0m \u001b[1;33m(\u001b[0m\u001b[0minmarsat_regex\u001b[0m\u001b[1;33m.\u001b[0m\u001b[0msearch\u001b[0m\u001b[1;33m(\u001b[0m\u001b[0mline\u001b[0m\u001b[1;33m)\u001b[0m\u001b[1;33m)\u001b[0m\u001b[1;33m:\u001b[0m\u001b[1;33m\u001b[0m\u001b[1;33m\u001b[0m\u001b[0m\n\u001b[0m\u001b[0;32m     16\u001b[0m            \u001b[0minmarsat_attempt\u001b[0m \u001b[1;33m+=\u001b[0m \u001b[1;36m1\u001b[0m\u001b[1;33m\u001b[0m\u001b[1;33m\u001b[0m\u001b[0m\n\u001b[0;32m     17\u001b[0m            \u001b[0mlogging\u001b[0m\u001b[1;33m.\u001b[0m\u001b[0minfo\u001b[0m\u001b[1;33m(\u001b[0m\u001b[1;34m'ABR INMARSAT: '\u001b[0m\u001b[1;33m+\u001b[0m\u001b[0mstr\u001b[0m\u001b[1;33m(\u001b[0m\u001b[0mline\u001b[0m\u001b[1;33m)\u001b[0m\u001b[1;33m)\u001b[0m\u001b[1;33m\u001b[0m\u001b[1;33m\u001b[0m\u001b[0m\n",
      "\u001b[1;31mKeyboardInterrupt\u001b[0m: "
     ]
    }
   ],
   "source": [
    "\n",
    "for i in range(0,len(df_sent['HM_ID_HM']),1):    \n",
    "  try:\n",
    "    logging.info('MESSAGE:'+str(i))\n",
    "    logging.info('ID:'+str(df_sent.iloc[i,11]))\n",
    "    (new_format, new_format_I, new_format_II) = func1(i,df_sent)\n",
    "    (file_line) = func2(i, df_sent, new_format, mm_log, new_format_I, new_format_II)\n",
    "    (line_number) = func3(i, mm_log, file_line)\n",
    "    func4(i, mm_log, line_number)\n",
    "    (file_line) = func5(file_line)\n",
    "    (prefix_hex) = func6(i, df_sent)\n",
    "    (gprs_attempt, inmarsat_attempt) = func7(prefix_hex, file_line)\n",
    "    (df_sent)= func8(i, df_sent, gprs_attempt, inmarsat_attempt)\n",
    "    # logging\n",
    "    logging.info('FILE LINE: '+str(file_line))\n",
    "    logging.info('PREFIX HEX: '+str(prefix_hex))\n",
    "    logging.info('TCP: '+str(gprs_attempt)+' INMARSAT: '+str(inmarsat_attempt))\n",
    "    logging.info('----------------------------------------------------------------')\n",
    "\n",
    "  except Exception as e:\n",
    "      logging.ERROR(e)\n",
    "      print('ERROR OCCURED')  # If an error occurs, the channel values are being set as NULL.\n",
    "      df_sent.iloc[i,13] = None  \n",
    "      df_sent.iloc[i,14] = None\n",
    "      break\n",
    "\n"
   ]
  },
  {
   "cell_type": "code",
   "execution_count": 34,
   "metadata": {},
   "outputs": [],
   "source": [
    "logging.info('FILE LINE: '+str(prefix_hex))"
   ]
  },
  {
   "cell_type": "code",
   "execution_count": 18,
   "metadata": {},
   "outputs": [
    {
     "output_type": "execute_result",
     "data": {
      "text/plain": [
       "'03-F8-60-3C-1A-E3-02-01-04-36-34-36-30-00-00-00-00-05-4D-42-45-31-45-00'"
      ]
     },
     "metadata": {},
     "execution_count": 18
    }
   ],
   "source": [
    "file_line"
   ]
  },
  {
   "cell_type": "code",
   "execution_count": 32,
   "metadata": {},
   "outputs": [
    {
     "output_type": "execute_result",
     "data": {
      "text/plain": [
       "'-01-3E-'"
      ]
     },
     "metadata": {},
     "execution_count": 32
    }
   ],
   "source": [
    "prefix_hex"
   ]
  },
  {
   "cell_type": "code",
   "execution_count": 25,
   "metadata": {},
   "outputs": [],
   "source": [
    "df_sent.to_excel(\"testabr2.xlsx\""
   ]
  },
  {
   "cell_type": "code",
   "execution_count": 20,
   "metadata": {},
   "outputs": [
    {
     "output_type": "execute_result",
     "data": {
      "text/plain": [
       "HM_ID_HM                                                   2215160\n",
       "HM_LOCO_MSG                                                    318\n",
       "HM_PRF_TRM                                                    2470\n",
       "HM_NUM_MSG                                                    1016\n",
       "HM_DAT_OBC                                     2021-02-12 01:25:28\n",
       "HM_DAT_STC                                     2021-02-12 00:41:19\n",
       "HM_TXT_MSG       information de Occupations  Au tour  \\n  \\nAct...\n",
       "HM_ENV_RCB                                                       E\n",
       "HM_MSG_VOZ                                                       F\n",
       "HM_NUM_FUN                                                      41\n",
       "HM_SIT_ENV                                                       F\n",
       "MT_ID_MT                                                   1857315\n",
       "DELIVERY_TIME                                               2649.0\n",
       "GSM                                                            NaN\n",
       "SAT                                                              0\n",
       "Name: 2230316, dtype: object"
      ]
     },
     "metadata": {},
     "execution_count": 20
    }
   ],
   "source": [
    "df_sent.iloc[1467]"
   ]
  },
  {
   "cell_type": "code",
   "execution_count": 25,
   "metadata": {},
   "outputs": [
    {
     "output_type": "execute_result",
     "data": {
      "text/plain": [
       "         HM_ID_HM HM_LOCO_MSG HM_PRF_TRM  HM_NUM_MSG          HM_DAT_OBC  \\\n",
       "2229409   2214999        4304       1461        1014 2021-02-12 00:21:45   \n",
       "2229411   2215005        3045       3614        1016 2021-02-12 00:31:26   \n",
       "2229412   2215006        3045       3614        1016 2021-02-12 00:53:33   \n",
       "2229416   2215022        4304       1461        1003 2021-02-12 00:22:42   \n",
       "2229713   2215071        3045       3614        1016 2021-02-12 01:15:39   \n",
       "...           ...         ...        ...         ...                 ...   \n",
       "2215300   2219571        3033       4632        1016 2021-02-13 00:44:51   \n",
       "2215564   2219611        4309       4611        1006 2021-02-12 23:57:13   \n",
       "2215571   2219620        3033       4632        1006 2021-02-13 00:49:52   \n",
       "2215580   2219639        3033       4632        1016 2021-02-13 00:52:53   \n",
       "2215581   2219640        3033       4632        1016 2021-02-13 00:52:54   \n",
       "\n",
       "                 HM_DAT_STC  \\\n",
       "2229409 2021-02-12 00:06:35   \n",
       "2229411 2021-02-12 00:07:51   \n",
       "2229412 2021-02-12 00:07:51   \n",
       "2229416 2021-02-12 00:13:13   \n",
       "2229713 2021-02-12 00:21:26   \n",
       "...                     ...   \n",
       "2215300 2021-02-12 23:44:49   \n",
       "2215564 2021-02-12 23:48:47   \n",
       "2215571 2021-02-12 23:49:34   \n",
       "2215580 2021-02-12 23:52:24   \n",
       "2215581 2021-02-12 23:52:24   \n",
       "\n",
       "                                                HM_TXT_MSG HM_ENV_RCB  \\\n",
       "2229409  Rapport de Erreur  \\n  \\nType do Erreur: Génér...          E   \n",
       "2229411  information de Occupations  Au tour  \\n  \\nAct...          E   \n",
       "2229412  information de Occupations  Au tour  \\n  \\nAct...          E   \n",
       "2229416  Solicitation de Réduction de Autorisation  \\n ...          E   \n",
       "2229713  information de Occupations  Au tour  \\n  \\nAct...          E   \n",
       "...                                                    ...        ...   \n",
       "2215300  information de Occupations  Au tour  \\n  \\nAct...          E   \n",
       "2215564  Notificationde croisement du Train  \\n  \\nPréf...          E   \n",
       "2215571  Notificationde croisement du Train  \\n  \\nPréf...          E   \n",
       "2215580  information de Occupations  Au tour  \\n  \\nAct...          E   \n",
       "2215581  information de Occupations  Au tour  \\n  \\nAct...          E   \n",
       "\n",
       "        HM_MSG_VOZ  HM_NUM_FUN HM_SIT_ENV  MT_ID_MT  DELIVERY_TIME  GSM  SAT  \n",
       "2229409          F          18          E   1857155          910.0    0    1  \n",
       "2229411          F          41          F   1857160         1415.0    0    1  \n",
       "2229412          F          41          F   1857161         2742.0    0    1  \n",
       "2229416          F           5          E   1857177          569.0    0    1  \n",
       "2229713          F          41          F   1857226         3253.0    0    1  \n",
       "...            ...         ...        ...       ...            ...  ...  ...  \n",
       "2215300          F          41          F   1861379         3602.0    0    0  \n",
       "2215564          F          17          E   1861419          506.0    0    0  \n",
       "2215571          F          17          F   1861428         3618.0    0    0  \n",
       "2215580          F          41          F   1861448         3629.0    0    0  \n",
       "2215581          F          41          F   1861449         3630.0    0    0  \n",
       "\n",
       "[479 rows x 15 columns]"
      ],
      "text/html": "<div>\n<style scoped>\n    .dataframe tbody tr th:only-of-type {\n        vertical-align: middle;\n    }\n\n    .dataframe tbody tr th {\n        vertical-align: top;\n    }\n\n    .dataframe thead th {\n        text-align: right;\n    }\n</style>\n<table border=\"1\" class=\"dataframe\">\n  <thead>\n    <tr style=\"text-align: right;\">\n      <th></th>\n      <th>HM_ID_HM</th>\n      <th>HM_LOCO_MSG</th>\n      <th>HM_PRF_TRM</th>\n      <th>HM_NUM_MSG</th>\n      <th>HM_DAT_OBC</th>\n      <th>HM_DAT_STC</th>\n      <th>HM_TXT_MSG</th>\n      <th>HM_ENV_RCB</th>\n      <th>HM_MSG_VOZ</th>\n      <th>HM_NUM_FUN</th>\n      <th>HM_SIT_ENV</th>\n      <th>MT_ID_MT</th>\n      <th>DELIVERY_TIME</th>\n      <th>GSM</th>\n      <th>SAT</th>\n    </tr>\n  </thead>\n  <tbody>\n    <tr>\n      <th>2229409</th>\n      <td>2214999</td>\n      <td>4304</td>\n      <td>1461</td>\n      <td>1014</td>\n      <td>2021-02-12 00:21:45</td>\n      <td>2021-02-12 00:06:35</td>\n      <td>Rapport de Erreur  \\n  \\nType do Erreur: Génér...</td>\n      <td>E</td>\n      <td>F</td>\n      <td>18</td>\n      <td>E</td>\n      <td>1857155</td>\n      <td>910.0</td>\n      <td>0</td>\n      <td>1</td>\n    </tr>\n    <tr>\n      <th>2229411</th>\n      <td>2215005</td>\n      <td>3045</td>\n      <td>3614</td>\n      <td>1016</td>\n      <td>2021-02-12 00:31:26</td>\n      <td>2021-02-12 00:07:51</td>\n      <td>information de Occupations  Au tour  \\n  \\nAct...</td>\n      <td>E</td>\n      <td>F</td>\n      <td>41</td>\n      <td>F</td>\n      <td>1857160</td>\n      <td>1415.0</td>\n      <td>0</td>\n      <td>1</td>\n    </tr>\n    <tr>\n      <th>2229412</th>\n      <td>2215006</td>\n      <td>3045</td>\n      <td>3614</td>\n      <td>1016</td>\n      <td>2021-02-12 00:53:33</td>\n      <td>2021-02-12 00:07:51</td>\n      <td>information de Occupations  Au tour  \\n  \\nAct...</td>\n      <td>E</td>\n      <td>F</td>\n      <td>41</td>\n      <td>F</td>\n      <td>1857161</td>\n      <td>2742.0</td>\n      <td>0</td>\n      <td>1</td>\n    </tr>\n    <tr>\n      <th>2229416</th>\n      <td>2215022</td>\n      <td>4304</td>\n      <td>1461</td>\n      <td>1003</td>\n      <td>2021-02-12 00:22:42</td>\n      <td>2021-02-12 00:13:13</td>\n      <td>Solicitation de Réduction de Autorisation  \\n ...</td>\n      <td>E</td>\n      <td>F</td>\n      <td>5</td>\n      <td>E</td>\n      <td>1857177</td>\n      <td>569.0</td>\n      <td>0</td>\n      <td>1</td>\n    </tr>\n    <tr>\n      <th>2229713</th>\n      <td>2215071</td>\n      <td>3045</td>\n      <td>3614</td>\n      <td>1016</td>\n      <td>2021-02-12 01:15:39</td>\n      <td>2021-02-12 00:21:26</td>\n      <td>information de Occupations  Au tour  \\n  \\nAct...</td>\n      <td>E</td>\n      <td>F</td>\n      <td>41</td>\n      <td>F</td>\n      <td>1857226</td>\n      <td>3253.0</td>\n      <td>0</td>\n      <td>1</td>\n    </tr>\n    <tr>\n      <th>...</th>\n      <td>...</td>\n      <td>...</td>\n      <td>...</td>\n      <td>...</td>\n      <td>...</td>\n      <td>...</td>\n      <td>...</td>\n      <td>...</td>\n      <td>...</td>\n      <td>...</td>\n      <td>...</td>\n      <td>...</td>\n      <td>...</td>\n      <td>...</td>\n      <td>...</td>\n    </tr>\n    <tr>\n      <th>2215300</th>\n      <td>2219571</td>\n      <td>3033</td>\n      <td>4632</td>\n      <td>1016</td>\n      <td>2021-02-13 00:44:51</td>\n      <td>2021-02-12 23:44:49</td>\n      <td>information de Occupations  Au tour  \\n  \\nAct...</td>\n      <td>E</td>\n      <td>F</td>\n      <td>41</td>\n      <td>F</td>\n      <td>1861379</td>\n      <td>3602.0</td>\n      <td>0</td>\n      <td>0</td>\n    </tr>\n    <tr>\n      <th>2215564</th>\n      <td>2219611</td>\n      <td>4309</td>\n      <td>4611</td>\n      <td>1006</td>\n      <td>2021-02-12 23:57:13</td>\n      <td>2021-02-12 23:48:47</td>\n      <td>Notificationde croisement du Train  \\n  \\nPréf...</td>\n      <td>E</td>\n      <td>F</td>\n      <td>17</td>\n      <td>E</td>\n      <td>1861419</td>\n      <td>506.0</td>\n      <td>0</td>\n      <td>0</td>\n    </tr>\n    <tr>\n      <th>2215571</th>\n      <td>2219620</td>\n      <td>3033</td>\n      <td>4632</td>\n      <td>1006</td>\n      <td>2021-02-13 00:49:52</td>\n      <td>2021-02-12 23:49:34</td>\n      <td>Notificationde croisement du Train  \\n  \\nPréf...</td>\n      <td>E</td>\n      <td>F</td>\n      <td>17</td>\n      <td>F</td>\n      <td>1861428</td>\n      <td>3618.0</td>\n      <td>0</td>\n      <td>0</td>\n    </tr>\n    <tr>\n      <th>2215580</th>\n      <td>2219639</td>\n      <td>3033</td>\n      <td>4632</td>\n      <td>1016</td>\n      <td>2021-02-13 00:52:53</td>\n      <td>2021-02-12 23:52:24</td>\n      <td>information de Occupations  Au tour  \\n  \\nAct...</td>\n      <td>E</td>\n      <td>F</td>\n      <td>41</td>\n      <td>F</td>\n      <td>1861448</td>\n      <td>3629.0</td>\n      <td>0</td>\n      <td>0</td>\n    </tr>\n    <tr>\n      <th>2215581</th>\n      <td>2219640</td>\n      <td>3033</td>\n      <td>4632</td>\n      <td>1016</td>\n      <td>2021-02-13 00:52:54</td>\n      <td>2021-02-12 23:52:24</td>\n      <td>information de Occupations  Au tour  \\n  \\nAct...</td>\n      <td>E</td>\n      <td>F</td>\n      <td>41</td>\n      <td>F</td>\n      <td>1861449</td>\n      <td>3630.0</td>\n      <td>0</td>\n      <td>0</td>\n    </tr>\n  </tbody>\n</table>\n<p>479 rows × 15 columns</p>\n</div>"
     },
     "metadata": {},
     "execution_count": 25
    }
   ],
   "source": []
  }
 ]
}