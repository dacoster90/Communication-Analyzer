{
 "cells": [
  {
   "cell_type": "code",
   "execution_count": 6,
   "metadata": {},
   "outputs": [],
   "source": [
    "# Function for variables\n",
    "def variables_decl(month_par, year_par):\n",
    "    #Packages\n",
    "    from datetime import timedelta\n",
    "    from datetime import datetime\n",
    "    # Variable declaration\n",
    "    a = timedelta(seconds=300)\n",
    "    month = str(month_par)      # Cast to string in order to use it in image titles (does not accept int types)\n",
    "    year = str(year_par)    # Cast to string in order to use it in image titles (does not accept int types)\n",
    "\n",
    "    return (a, month,year)"
   ]
  },
  {
   "cell_type": "code",
   "execution_count": 7,
   "metadata": {},
   "outputs": [],
   "source": [
    "# Function for database import\n",
    "def db_import():\n",
    "    #Packages\n",
    "    import cx_Oracle\n",
    "    import pandas as pd\n",
    "    \n",
    "    # Initializing database connection\n",
    "    con = cx_Oracle.connect('STC_SETRAG/art@localhost/XE')\n",
    "    cur = con.cursor()\n",
    "\n",
    "    # First Query\n",
    "    query=cur.execute('select * from historico_mensagens')\n",
    "    df = pd.DataFrame(query)\n",
    "    # Second Query\n",
    "    query=cur.execute('select EV_NOM_MAC from ELEM_VIA where TE_ID_TP = 3')\n",
    "    df_sb = pd.DataFrame(query)\n",
    "\n",
    "    cur.close()\n",
    "    con.close()\n",
    "    \n",
    "    return (df,df_sb)"
   ]
  },
  {
   "cell_type": "code",
   "execution_count": 8,
   "metadata": {},
   "outputs": [],
   "source": [
    "# Function for formatting dataframe\n",
    "def df_format(df, df_sb):\n",
    "    # Adding names to the columns of the dataframes\n",
    "    df.columns=['HM_ID_HM','HM_LOCO_MSG','HM_PRF_TRM','HM_OBC_MSG','HM_NUM_MSG','HM_TP_MSG','HM_DAT_OBC','HM_DAT_STC',\n",
    "                'HM_TXT_MSG','HM_TXT_TW','HM_LAT_HM','HM_LON_HM','HM_ENV_RCB','HM_MSG_VOZ','HM_NUM_FUN','HM_ID_AUX','HM_SIT_ENV','MT_ID_MT']\n",
    "    df_sb.columns=['NAME']\n",
    "    # Dropping tables with no use\n",
    "    df = df.drop(['HM_TP_MSG','HM_TXT_TW','MT_ID_MT','HM_ID_AUX','HM_OBC_MSG','HM_LAT_HM','HM_LON_HM'], axis=1)\n",
    "    \n",
    "    return(df, df_sb)"
   ]
  },
  {
   "cell_type": "code",
   "execution_count": 9,
   "metadata": {},
   "outputs": [],
   "source": [
    "# Function for splitting dataframe in 'Sent' and 'Received' messages\n",
    "def df_split(df):\n",
    "    #Packages\n",
    "    import pandas as pd\n",
    "    \n",
    "    df_sent = df.loc[df['HM_ENV_RCB']=='E']\n",
    "    df_received = df.loc[df['HM_ENV_RCB']=='R']\n",
    "\n",
    "    # Removing the original dataframe\n",
    "    df = pd.DataFrame(None)\n",
    "    \n",
    "    return(df, df_sent, df_received)"
   ]
  },
  {
   "cell_type": "code",
   "execution_count": 10,
   "metadata": {},
   "outputs": [],
   "source": [
    "# Functing for first filtering (part I)\n",
    "def filter_I (df_sent,df_received):\n",
    "    # Sent DataFrame\n",
    "    # 1) Filter messages from january 2021\n",
    "    df_sent = df_sent.loc[df_sent['HM_DAT_STC']>='2021-01-01']\n",
    "    df_sent = df_sent.loc[df_sent['HM_DAT_STC']<='2021-01-31']\n",
    "    # 2) Filter all messages that contain OBC time\n",
    "    df_sent = df_sent.loc[df_sent['HM_DAT_OBC'].notnull()]\n",
    "\n",
    "    # Received DataFrame\n",
    "    # 1) Filter all messages that did not expired\n",
    "    df_received = df_received.loc[df_received['HM_SIT_ENV']=='E']\n",
    "    # 2) Filter messages from january 2021\n",
    "    df_received = df_received.loc[df_received['HM_DAT_STC']>='2021-01-01']\n",
    "    df_received = df_received.loc[df_received['HM_DAT_STC']<='2021-01-31']\n",
    "    # 3) Filter all messages that contain OBC time\n",
    "    df_received = df_received.loc[df_received['HM_DAT_OBC'].notnull()]\n",
    "    # 4) Filter all messages that have a date later than needed (avoiding future date messages)\n",
    "    df_received = df_received.loc[df_received['HM_DAT_OBC']<'2021-02-02']\n",
    "    \n",
    "    return(df_sent, df_received)"
   ]
  }
 ],
 "metadata": {
  "kernelspec": {
   "display_name": "Python 3",
   "language": "python",
   "name": "python3"
  },
  "language_info": {
   "codemirror_mode": {
    "name": "ipython",
    "version": 3
   },
   "file_extension": ".py",
   "mimetype": "text/x-python",
   "name": "python",
   "nbconvert_exporter": "python",
   "pygments_lexer": "ipython3",
   "version": "3.8.3"
  }
 },
 "nbformat": 4,
 "nbformat_minor": 4
}
