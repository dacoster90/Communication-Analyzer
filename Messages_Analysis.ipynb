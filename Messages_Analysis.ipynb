{
 "cells": [
  {
   "cell_type": "code",
   "execution_count": null,
   "metadata": {},
   "outputs": [],
   "source": [
    "# TO DO: Add GPRS, SAT and QUEUE to database (update query)\n",
    "# TO DO: Define a variable for the location of the log files (using month and year) and their directory!\n",
    "# TO DO: Fix block 6\n",
    "# TO DO: Create validation report for channel analysis\n",
    "# TO DO: Script to merge logs\n",
    "# TO DO: Define directory for data log\n",
    "# TO DO: Start thinking about Received messages analysis"
   ]
  },
  {
   "cell_type": "code",
   "execution_count": null,
   "metadata": {},
   "outputs": [],
   "source": [
    "# Importing packages\n",
    "from ipynb.fs.full.my_functions import *"
   ]
  },
  {
   "cell_type": "code",
   "execution_count": null,
   "metadata": {},
   "outputs": [],
   "source": [
    "# Call function for variables and logging\n",
    "(a) = variables_decl()  # variable 'a' represents the seconds that is considered a delay (300s = 5 min.)"
   ]
  },
  {
   "cell_type": "code",
   "execution_count": null,
   "metadata": {},
   "outputs": [],
   "source": [
    "# Call function to retrieve month and year variables from user\n",
    "(month, year) = period()"
   ]
  },
  {
   "cell_type": "code",
   "execution_count": null,
   "metadata": {},
   "outputs": [],
   "source": [
    "# Call function for database import (dataframes)\n",
    "(df, df_sb) = db_import()"
   ]
  },
  {
   "cell_type": "code",
   "execution_count": null,
   "metadata": {},
   "outputs": [],
   "source": [
    "# Call function for formatting dataframes - have to add those columns in the actual script, otherwise it gives problems with the accents\n",
    "df_sb.columns=['NAME'] \n",
    "for i in range(0,len(df_sb['NAME']),1):\n",
    "    df_sb['SECTION_DEBUT'] = \"Section Début: \" + df_sb.loc[:,'NAME'] + \" \"\n",
    "    df_sb['CANTON'] = \"Canton: \" + df_sb.loc[:,'NAME'] + \" \"\n",
    "    df_sb['SECTION_TETE'] = \"Section da Tête: \" + df_sb.loc[:,'NAME'] + \" \"\n",
    "(df, df_sb) = df_format(df, df_sb)"
   ]
  },
  {
   "cell_type": "code",
   "execution_count": null,
   "metadata": {},
   "outputs": [],
   "source": [
    "# Call function for splitting dataframes and dropping original dataframe\n",
    "(df, df_sent, df_received, df_loco) = df_split(df)"
   ]
  },
  {
   "cell_type": "code",
   "execution_count": null,
   "metadata": {},
   "outputs": [],
   "source": [
    "# Call function for dataframe filtering (part I)\n",
    "(df_sent, df_received) = filter_I(df_sent, df_received, month, year)"
   ]
  },
  {
   "cell_type": "code",
   "execution_count": null,
   "metadata": {},
   "outputs": [],
   "source": [
    "# Call function to get total number of sent messages, received messages and total messages (sent+received)\n",
    "(totalSentMessages, totalReceivedMessages, totalMessages) = count_messages(df_sent, df_received)"
   ]
  },
  {
   "cell_type": "code",
   "execution_count": null,
   "metadata": {},
   "outputs": [],
   "source": [
    "# Call function to get the number of sent, received and total messages for each locomotive\n",
    "(df_loco) = loco_count(df_loco, df_sent, df_received)"
   ]
  },
  {
   "cell_type": "code",
   "execution_count": null,
   "metadata": {},
   "outputs": [],
   "source": [
    "# Call function to return the average delivery of all sent and received messages\n",
    "(averageSentDelivery, averageReceivedDelivery, averageTotalDelivery) = average_delivery(df_sent,df_received, totalSentMessages, totalReceivedMessages)"
   ]
  },
  {
   "cell_type": "code",
   "execution_count": null,
   "metadata": {},
   "outputs": [],
   "source": [
    "# Call function to return the number of sent, received and total messages with delay per locomotive\n",
    "(df_loco) = loco_delay_count(df_loco, df_sent, df_received, a)"
   ]
  },
  {
   "cell_type": "code",
   "execution_count": null,
   "metadata": {},
   "outputs": [],
   "source": [
    "# Call function to create a density graph for sent and received messages\n",
    "dens_graph(df_sent, df_received, month, year)"
   ]
  },
  {
   "cell_type": "code",
   "execution_count": null,
   "metadata": {},
   "outputs": [],
   "source": [
    "# Call function to calculate % and total amount of messages that took more than 5min\n",
    "(percentageSentDelay, totalSentDelay, percentageReceivedDelay, totalReceivedDelay, percentageTotalDelay, totalDelay) = calc_delay(df_sent, df_received, totalSentMessages, totalReceivedMessages, a)"
   ]
  },
  {
   "cell_type": "code",
   "execution_count": null,
   "metadata": {},
   "outputs": [],
   "source": [
    "# Call function for dataframe filtering (part II)\n",
    "(df_sent, df_received) = filter_II(df_sent, df_received, a)"
   ]
  },
  {
   "cell_type": "code",
   "execution_count": null,
   "metadata": {},
   "outputs": [],
   "source": [
    "# Call function to prepare dataframe df_sent and df_received for time series\n",
    "(df_sent, df_received, ts_sent, ts_received) = ts_prep(df_sent, df_received)"
   ]
  },
  {
   "cell_type": "code",
   "execution_count": null,
   "metadata": {},
   "outputs": [],
   "source": [
    "# Call function to create time series graph for sent and receives messages\n",
    "ts_graph(ts_sent, ts_received, month, year)"
   ]
  },
  {
   "cell_type": "code",
   "execution_count": null,
   "metadata": {},
   "outputs": [],
   "source": [
    "# Call function to display time series' decompose (trend and seasonal)\n",
    "ts_decompose(ts_sent, ts_received, month, year)"
   ]
  },
  {
   "cell_type": "code",
   "execution_count": null,
   "metadata": {},
   "outputs": [],
   "source": [
    "# Call function for converting and formatting the new time series dataframe\n",
    "(ts_total) = time_series_conv(ts_sent, ts_received)"
   ]
  },
  {
   "cell_type": "code",
   "execution_count": null,
   "metadata": {},
   "outputs": [],
   "source": [
    "# Call function to prepare dataframe for channel information\n",
    "(df_sent) = df_prep_channel(df_sent)"
   ]
  },
  {
   "cell_type": "code",
   "execution_count": null,
   "metadata": {},
   "outputs": [],
   "source": [
    "# Call function to import log\n",
    "(mm_log, abr_log) = import_log()"
   ]
  },
  {
   "cell_type": "code",
   "execution_count": null,
   "metadata": {},
   "outputs": [],
   "source": [
    "# Call function to get the number of delays per channel\n",
    "(df_sent) = channel_analysis(df_sent, mm_log, abr_log, month, year)"
   ]
  },
  {
   "cell_type": "code",
   "execution_count": null,
   "metadata": {},
   "outputs": [],
   "source": [
    "# Call function to get total number of sent messages and received messages\n",
    "(totalSentMessageDelay, totalReceivedMessageDelay, no_use_variable) = count_messages(df_sent, df_received) \n",
    "del no_use_variable # deleting the variable with no use - The function is also used in other parts of codes and returns 3 results. For this block only 2 are needed."
   ]
  },
  {
   "cell_type": "code",
   "execution_count": null,
   "metadata": {},
   "outputs": [],
   "source": [
    "# Call function to get the % of delays per locomotive\n",
    "(df_loco) = perc_delay_loco(df_loco)"
   ]
  },
  {
   "cell_type": "code",
   "execution_count": null,
   "metadata": {},
   "outputs": [],
   "source": [
    "# Call function to display the top 10 locomotives with delay\n",
    "barplot_loco(df_loco, month, year)"
   ]
  },
  {
   "cell_type": "code",
   "execution_count": null,
   "metadata": {},
   "outputs": [],
   "source": [
    "# Call function to return the average delivery of all sent and received messages\n",
    "(averageSentDeliveryDelay, averageReceivedDeliveryDelay, averageDeliveryDelay) = average_delivery(df_sent,df_received, totalSentMessageDelay, totalReceivedMessageDelay)"
   ]
  },
  {
   "cell_type": "code",
   "execution_count": null,
   "metadata": {},
   "outputs": [],
   "source": [
    "# Call function for dataframe filtering (part II) - Preparing for df_sb calculations\n",
    "(df_sent, df_received) = filter_III(df_sent, df_received)"
   ]
  },
  {
   "cell_type": "code",
   "execution_count": null,
   "metadata": {},
   "outputs": [],
   "source": [
    "# Call function to return the average delivery of all sent and received messages after filtering part III\n",
    "(totalSentMessageDelay, totalReceivedMessageDelay, no_use_variable) = count_messages(df_sent, df_received) \n",
    "del no_use_variable # deleting the variable with no use - The function is also used in other parts of codes and returns 3 results. For this block only 2 are needed."
   ]
  },
  {
   "cell_type": "code",
   "execution_count": null,
   "metadata": {},
   "outputs": [],
   "source": [
    "# Call function to return the number of delays per SB and average delivery times per SB\n",
    "(df_sb,totalReceivedMessageDelay) = sb_calc(df_sb, df_sent, df_received, totalSentMessageDelay, totalReceivedMessageDelay)"
   ]
  },
  {
   "cell_type": "code",
   "execution_count": null,
   "metadata": {},
   "outputs": [],
   "source": [
    "# Call function to calculate the average delay per SB\n",
    "(df_sb) = aver_delay_sb(df_sb)"
   ]
  },
  {
   "cell_type": "code",
   "execution_count": null,
   "metadata": {},
   "outputs": [],
   "source": [
    "# Call function to calculate the % of delays per SB\n",
    "(df_sb) = perc_sb(df_sb, totalSentMessageDelay, totalReceivedMessageDelay)"
   ]
  },
  {
   "cell_type": "code",
   "execution_count": null,
   "metadata": {},
   "outputs": [],
   "source": [
    "# Call function to create a disperity graph for sent, received and total messages\n",
    "disp_all_graph(df_sb, month, year)"
   ]
  },
  {
   "cell_type": "code",
   "execution_count": null,
   "metadata": {},
   "outputs": [],
   "source": [
    "# Call function to create a disperity graph for sent and received combined\n",
    "disp_sent_received_graph(df_sb, month, year)"
   ]
  },
  {
   "cell_type": "code",
   "execution_count": null,
   "metadata": {},
   "outputs": [],
   "source": [
    "# Call function to create a disperity graph for total messages\n",
    "disp_total_graph(df_sb, month, year)"
   ]
  },
  {
   "cell_type": "code",
   "execution_count": null,
   "metadata": {},
   "outputs": [],
   "source": [
    "# Call function for creating variables to prepare the TOP 10 SB horizontal barplots\n",
    "(top10_Sent, top10_Received, top10_Total) = order_barplot(df_sb)"
   ]
  },
  {
   "cell_type": "code",
   "execution_count": null,
   "metadata": {},
   "outputs": [],
   "source": [
    "# Call function for creating horizontal barplot of sent, received and total SBs combined\n",
    "barplot_all(df_sb, top10_Sent, top10_Received, top10_Total, month, year)"
   ]
  },
  {
   "cell_type": "code",
   "execution_count": null,
   "metadata": {},
   "outputs": [],
   "source": [
    "# Call function for creating horizontal barplot of sent SBs\n",
    "barplot_sent(df_sb, top10_Sent, month, year)"
   ]
  },
  {
   "cell_type": "code",
   "execution_count": null,
   "metadata": {},
   "outputs": [],
   "source": [
    "# Call function for creating horizontal barplot of received SBs\n",
    "barplot_received(df_sb, top10_Received, month, year)"
   ]
  },
  {
   "cell_type": "code",
   "execution_count": null,
   "metadata": {},
   "outputs": [],
   "source": [
    "# Call function for creating horizontal barplot of total SBs (sent + received)\n",
    "barplot_total(df_sb, top10_Total, month, year)"
   ]
  },
  {
   "cell_type": "code",
   "execution_count": null,
   "metadata": {},
   "outputs": [],
   "source": [
    "# Call function to prepare images for database insertion\n",
    "(density, dispersion_all, dispersion_sent_received, dispersion_total, bar_all, bar_sent, bar_received, bar_total, bar_loco, time_series, time_series_decompose, month, year) = var_prep(month, year)"
   ]
  },
  {
   "cell_type": "code",
   "execution_count": null,
   "metadata": {},
   "outputs": [],
   "source": [
    "# Call function for database insertion\n",
    "db_insert(month, year, density, dispersion_all, dispersion_sent_received, dispersion_total, bar_all, bar_sent, bar_received, bar_total, bar_loco, time_series, time_series_decompose, totalSentMessages, averageSentDelivery, percentageSentDelay, totalSentDelay, totalSentMessageDelay, averageSentDeliveryDelay, totalReceivedMessages, averageReceivedDelivery, percentageReceivedDelay, totalReceivedDelay, totalReceivedMessageDelay, averageReceivedDeliveryDelay,totalMessages, averageTotalDelivery, percentageTotalDelay, totalDelay, averageDeliveryDelay, df_sb, df_loco, ts_total)"
   ]
  }
 ],
 "metadata": {
  "kernelspec": {
   "display_name": "Python 3",
   "language": "python",
   "name": "python3"
  },
  "language_info": {
   "codemirror_mode": {
    "name": "ipython",
    "version": 3
   },
   "file_extension": ".py",
   "mimetype": "text/x-python",
   "name": "python",
   "nbconvert_exporter": "python",
   "pygments_lexer": "ipython3",
   "version": "3.8.3"
  }
 },
 "nbformat": 4,
 "nbformat_minor": 4
}
