{
 "metadata": {
  "language_info": {
   "codemirror_mode": {
    "name": "ipython",
    "version": 3
   },
   "file_extension": ".py",
   "mimetype": "text/x-python",
   "name": "python",
   "nbconvert_exporter": "python",
   "pygments_lexer": "ipython3",
   "version": "3.8.1-final"
  },
  "orig_nbformat": 2,
  "kernelspec": {
   "name": "python3",
   "display_name": "Python 3.8.1 64-bit",
   "metadata": {
    "interpreter": {
     "hash": "82e4d6bc4303fa934e3418497c91e681f3d49f64519438e75761be396f2eaee1"
    }
   }
  }
 },
 "nbformat": 4,
 "nbformat_minor": 2,
 "cells": [
  {
   "cell_type": "code",
   "execution_count": 1,
   "metadata": {},
   "outputs": [],
   "source": [
    "import cx_Oracle\n",
    "import pandas as pd\n",
    "from datetime import timedelta\n",
    "from datetime import datetime   \n",
    "import numpy as np\n",
    "import os\n",
    "import re"
   ]
  },
  {
   "cell_type": "code",
   "execution_count": 2,
   "metadata": {},
   "outputs": [],
   "source": [
    "# Initializing database connection\n",
    "con = cx_Oracle.connect('STC_SETRAG/art@localhost/orcl.eng.engesis.com')\n",
    "cur = con.cursor()\n",
    "\n",
    "    # First Query\n",
    "query=cur.execute('select * from historico_mensagens')\n",
    "df = pd.DataFrame(query)\n",
    "    # Second Query\n",
    "\n",
    "cur.close()\n",
    "con.close()"
   ]
  },
  {
   "cell_type": "code",
   "execution_count": 3,
   "metadata": {},
   "outputs": [],
   "source": [
    "df.columns=['HM_ID_HM','HM_LOCO_MSG','HM_PRF_TRM','HM_OBC_MSG','HM_NUM_MSG','HM_TP_MSG','HM_DAT_OBC','HM_DAT_STC', 'HM_TXT_MSG','HM_TXT_TW','HM_LAT_HM','HM_LON_HM','HM_ENV_RCB','HM_MSG_VOZ','HM_NUM_FUN','HM_ID_AUX','HM_SIT_ENV','MT_ID_MT']\n",
    "df = df.drop(['HM_TP_MSG','HM_TXT_TW','HM_ID_AUX','HM_OBC_MSG','HM_LAT_HM','HM_LON_HM'], axis=1)\n",
    "\n",
    "df_sent = df.loc[df['HM_ENV_RCB']=='E']\n",
    "df_received = df.loc[df['HM_ENV_RCB']=='R']\n",
    "\n",
    "    # Removing the original dataframe\n",
    "df = pd.DataFrame(None)"
   ]
  },
  {
   "cell_type": "code",
   "execution_count": 4,
   "metadata": {},
   "outputs": [],
   "source": [
    "month = '2'\n",
    "year = '2021'\n",
    "a = timedelta(seconds=300)"
   ]
  },
  {
   "cell_type": "code",
   "execution_count": 5,
   "metadata": {},
   "outputs": [],
   "source": [
    "df_sent = df_sent.loc[df_sent['HM_DAT_STC']>= year + '-' + month +'-01']\n",
    "if(month == '12'):     # December\n",
    "    df_sent = df_sent.loc[df_sent['HM_DAT_STC']< str(int(year)+1) + '-1-01']\n",
    "else:                  # Other months\n",
    "    df_sent = df_sent.loc[df_sent['HM_DAT_STC']< year + '-' + str(int(month)+1) +'-01']\n",
    "    # 2) Filter all messages that contain OBC time\n",
    "df_sent = df_sent.loc[df_sent['HM_DAT_OBC'].notnull()]\n",
    "    # 3) Filter messages to ensure that the STC time is smaller (or igual) to the OBC time (avoid negative values)\n",
    "df_sent = df_sent.loc[df_sent['HM_DAT_STC']<=df_sent['HM_DAT_OBC']]\n",
    "    # 4) Filter messages that contain locomotive ID\n",
    "df_sent = df_sent[df_sent['HM_LOCO_MSG'].notnull()]\n",
    "\n",
    "    # Received DataFrame\n",
    "    # 1) Filter all messages that did not expired\n",
    "df_received = df_received.loc[df_received['HM_SIT_ENV']=='E']\n",
    "    # 2) Filter messages from within the date set by user\n",
    "df_received = df_received.loc[df_received['HM_DAT_STC']>= year + '-' + month +'-01']\n",
    "if(month == '12'):     # December\n",
    "    df_received = df_received.loc[df_received['HM_DAT_STC']< str(int(year)+1) + '-1-01']\n",
    "else:                  # Other months\n",
    "    df_received = df_received.loc[df_received['HM_DAT_STC']< year + '-' + str(int(month)+1) +'-01']\n",
    "    # 3) Filter all messages that contain OBC time\n",
    "df_received = df_received.loc[df_received['HM_DAT_OBC'].notnull()]\n",
    "    # 4) Filter all messages that have a date later than needed (avoiding future date messages)\n",
    "if(month == '12'):\n",
    "    df_received = df_received.loc[df_received['HM_DAT_OBC']< str(int(year)+1) +'-1-02']\n",
    "else:\n",
    "    df_received = df_received.loc[df_received['HM_DAT_OBC']< year + '-' + str(int(month)+1) +'-02']\n",
    "    # 5) Filter messages to ensure that the OBC time is smaller (or igual) to the STC time (avoid negative values)\n",
    "df_received = df_received.loc[df_received['HM_DAT_OBC']<=df_received['HM_DAT_STC']]\n",
    "    # 6) Filter messages that contain locomotive ID\n",
    "df_received = df_received[df_received['HM_LOCO_MSG'].notnull()]"
   ]
  },
  {
   "cell_type": "code",
   "execution_count": 6,
   "metadata": {},
   "outputs": [],
   "source": [
    "totalSentMessages = len(df_sent['HM_ID_HM'])\n",
    "    # Received\n",
    "totalReceivedMessages = len(df_received['HM_ID_HM'])\n",
    "    # Total\n",
    "totalMessages = totalSentMessages + totalReceivedMessages"
   ]
  },
  {
   "cell_type": "code",
   "execution_count": 7,
   "metadata": {},
   "outputs": [],
   "source": [
    "    # Sent\n",
    "df_sent['DELIVERY_TIME'] = df_sent['HM_DAT_OBC']-df_sent['HM_DAT_STC']\n",
    "    # Converting to string in order to execute a mathematic operation\n",
    "df_sent['DELIVERY_TIME'] = df_sent['DELIVERY_TIME']/np.timedelta64(1, 's')\n",
    "totalSent = sum(df_sent.iloc[:,11])\n",
    "averageSentDelivery = round(totalSent/totalSentMessages,0)\n",
    "    # Converting from float to mm:ss\n",
    "averageSentDelivery = timedelta(seconds=averageSentDelivery)\n",
    "averageSentDelivery=str(averageSentDelivery)\n",
    "\n",
    "    # Received\n",
    "df_received['DELIVERY_TIME'] = df_received['HM_DAT_STC']-df_received['HM_DAT_OBC']\n",
    "    # Converting to string in order to execute a mathematic operation\n",
    "df_received['DELIVERY_TIME'] = df_received['DELIVERY_TIME']/np.timedelta64(1, 's')\n",
    "totalReceived = sum(df_received.iloc[:,11])\n",
    "averageReceivedDelivery = round(totalReceived/totalReceivedMessages,0)\n"
   ]
  },
  {
   "cell_type": "code",
   "execution_count": 8,
   "metadata": {},
   "outputs": [],
   "source": [
    "    # Sent\n",
    "    # 3) Filter messages that took longer than 5 minutes\n",
    "df_sent = df_sent.loc[(df_sent['HM_DAT_OBC']-df_sent['HM_DAT_STC']) >= a]\n",
    "    # 4) Order the dataframe by HM_ID_HM\n",
    "df_sent = df_sent.sort_values(by=['HM_ID_HM'])\n",
    "\n",
    "    #Received\n",
    "    # 5) Filter messages that took longer than 5 minutes\n",
    "df_received = df_received.loc[(df_received['HM_DAT_STC']-df_received['HM_DAT_OBC']) >= a]\n",
    "    # 6) Order the dataframe by HM_ID_HM\n",
    "df_received = df_received.sort_values(by=['HM_ID_HM'])"
   ]
  },
  {
   "cell_type": "code",
   "execution_count": 9,
   "metadata": {},
   "outputs": [],
   "source": [
    "#converting it from float to INT\n",
    "df_sent['MT_ID_MT']=df_sent['MT_ID_MT'].astype('int')"
   ]
  },
  {
   "cell_type": "code",
   "execution_count": 10,
   "metadata": {},
   "outputs": [
    {
     "output_type": "execute_result",
     "data": {
      "text/plain": [
       "<function TextIOWrapper.close()>"
      ]
     },
     "metadata": {},
     "execution_count": 10
    }
   ],
   "source": [
    "myfile = open(\"D:\\\\kenneth\\\\Documents\\\\Clients\\\\SETRAG\\\\Tickets\\\\SDSTG_561_Server\\\\SDSTG_561\\\\app_STCROUTER.log\")\n",
    "log = myfile.read().splitlines()\n",
    "myfile.close"
   ]
  },
  {
   "cell_type": "code",
   "execution_count": 11,
   "metadata": {},
   "outputs": [
    {
     "output_type": "execute_result",
     "data": {
      "text/plain": [
       "12 00:15:20,201 [8] INFO  - Receive data[Data: 10-00-34-3F-44-00-02-00-00-00-5D-12-03-20-00-2D-14-00-00-00-00-00-00-00-00-00-00-00-00-00-00-00-00-00-00-00-00-00-00-00-00-00-00-00-00-00-00-00-00-00-00-00-00-00-00-00-00-00-00-01-01-BD-75]',\n",
       " '[6880] 2021-02-12 00:15:25,136 [6] INFO  - Looking for updates...',\n",
       " '[6880] 2021-02-12 00:15:25,138 [6] DEBUG - Nothing new.',\n",
       " '[6880] 2021-02-12 00:15:28,707 [11] DEBUG - KEEP-ALIVE - Sending keep-alive message.',\n",
       " '[6880] 2021-02-12 00:15:30,139 [6] INFO  - Looking for updates...',\n",
       " '[6880] 2021-02-12 00:15:30,141 [6] DEBUG - Nothing new.',\n",
       " '[6880] 2021-02-12 00:15:30,203 [8] INFO  - Receive data[Data: 10-00-34-3F-44-00-02-00-00-00-5D-12-03-20-00-2D-14-00-00-00-00-00-00-00-00-00-00-00-00-00-00-00-00-00-00-00-00-00-00-00-00-00-00-00-00-00-00-00-00-00-00-00-00-00-00-00-00-00-00-01-01-BD-75]',\n",
       " '[6880] 2021-02-12 00:15:35,143 [6] INFO  - Looking for updates...',\n",
       " '[6880] 2021-02-12 00:15:35,145 [6] DEBUG - Nothing new.',\n",
       " '[6880] 2021-02-12 00:15:40,147 [6] INFO  - Looking for updates...',\n",
       " '[6880] 2021-02-12 00:15:40,153 [6] DEBUG - Nothing new.',\n",
       " '[6880] 2021-02-12 00:15:40,205 [8] INFO  - Receive data[Data: 10-00-34-3F-44-00-02-00-00-00-5D-12-03-20-00-2D-14-00-00-00-00-00-00-00-00-00-00-00-00-00-00-00-00-00-00-00-00-00-00-00-00-00-00-00-00-00-00-00-00-00-00-00-00-00-00-00-00-00-00-01-01-BD-75]',\n",
       " '[6880] 2021-02-12 00:15:45,154 [6] INFO  - Looking for updates...',\n",
       " '[6880] 2021-02-12 00:15:45,156 [6] DEBUG - Nothing new.',\n",
       " '[6880] 2021-02-12 00:15:50,158 [6] INFO  - Looking for updates...',\n",
       " '[6880] 2021-02-12 00:15:50,160 [6] DEBUG - Nothing new.',\n",
       " '[6880] 2021-02-12 00:15:50,207 [8] INFO  - Receive data[Data: 10-00-34-3F-44-00-02-00-00-00-5D-12-03-20-00-2D-14-00-00-00-00-00-00-00-00-00-00-00-00-00-00-00-00-00-00-00-00-00-00-00-00-00-00-00-00-00-00-00-00-00-00-00-00-00-00-00-00-00-00-01-01-BD-75]',\n",
       " \"[6880] 2021-02-12 00:15:53,492 [101] INFO  - Locomotive: 3039 -> Updating STC message ID: 1857199 to 'S'\",\n",
       " '[6880] 2021-02-12 00:15:53,500 [101] INFO  - Read (1) messages from DB',\n",
       " '[6880] 2021-02-12 00:15:53,500 [101] INFO  - Locomotive: 3039 -> Preparing to send message from STC. LocalEndpoint: 32 RemoteSegment/Endpoint: 1.1.3039:32',\n",
       " \"[6880] 2021-02-12 00:15:53,959 [116] INFO  - Locomotive: 3044 -> Updating STC message ID: 1857201 to 'S'\",\n",
       " '[6880] 2021-02-12 00:15:53,969 [116] INFO  - Read (1) messages from DB',\n",
       " '[6880] 2021-02-12 00:15:53,969 [116] INFO  - Locomotive: 3044 -> Preparing to send message from STC. LocalEndpoint: 32 RemoteSegment/Endpoint: 1.1.3044:32',\n",
       " '[6880] 2021-02-12 00:15:55,162 [6] INFO  - Looking for updates...',\n",
       " '[6880] 2021-02-12 00:15:55,164 [6] DEBUG - Nothing new.',\n",
       " '[6880] 2021-02-12 00:15:56,714 [11] DEBUG - KEEP-ALIVE - Sending keep-alive message.',\n",
       " '[6880] 2021-02-12 00:16:00,166 [6] INFO  - Looking for updates...',\n",
       " '[6880] 2021-02-12 00:16:00,168 [6] DEBUG - Nothing new.',\n",
       " '[6880] 2021-02-12 00:16:00,209 [8] INFO  - Receive data[Data: 10-00-34-3F-44-00-02-00-00-00-5D-12-03-20-00-2D-14-00-00-00-00-00-00-00-00-00-00-00-00-00-00-00-00-00-00-00-00-00-00-00-00-00-00-00-00-00-00-00-00-00-00-00-00-00-00-00-00-00-00-01-01-BD-75]',\n",
       " '[6880] 2021-02-12 00:16:03,158 [8] INFO  - Receive data[Data: 10-00-30-02-24-10-D5-44-00-02-85-11-20-20-30-00-28-00-24-07-DC-60-25-BA-B2-00-00-12-23-04-34-36-31-31-00-00-00-00-00-06-4E-54-4F-41-4E-44-00-00-00-00-04-41-4E-44-44-67-79-05-23]',\n",
       " '[6880] 2021-02-12 00:16:03,229 [131] INFO  - Locomotive: 4309 -> Message Received. LocalEndpoint: 32 RemoteSegment/Endpoint: 1.1.4309:32 Data: 07-DC-60-25-BA-B2-00-00-12-23-04-34-36-31-31-00-00-00-00-00-06-4E-54-4F-41-4E-44-00-00-00-00-04-41-4E-44-44',\n",
       " '[6880] 2021-02-12 00:16:03,229 [131] INFO  - Locomotive: 4309 -> Inserting new message from ACSSocket into STC Database.',\n",
       " '[6880] 2021-02-12 00:16:03,992 [8] INFO  - Receive data[Data: 10-00-30-02-24-0B-DF-44-00-02-94-11-20-20-30-00-0E-00-24-07-DC-60-25-BA-1F-00-00-12-22-04-32-36-33-31-00-00-00-00-00-04-44-4F-55-45-00-00-00-00-06-44-4F-55-4C-49-46-C7-18-8E-D5]',\n",
       " '[6880] 2021-02-12 00:16:05,170 [6] INFO  - Looking for updates...',\n",
       " '[6880] 2021-02-12 00:16:05,174 [6] DEBUG - Nothing new.',\n",
       " '[6880] 2021-02-12 00:16:10,175 [6] INFO  - Looking for updates...',\n",
       " '[6880] 2021-02-12 00:16:10,177 [6] DEBUG - Nothing new.',\n",
       " '[6880] 2021-02-12 00:16:10,211 [8] INFO  - Receive data[Data: 10-00-34-3F-44-00-02-00-00-00-5D-12-03-20-00-2D-14-00-00-00-00-00-00-00-00-00-00-00-00-00-00-00-00-00-00-00-00-00-00-00-00-00-00-00-00-00-00-00-00-00-00-00-00-00-00-00-00-00-00-01-01-BD-75]',\n",
       " '[6880] 2021-02-12 00:16:14,228 [15] INFO  - Monitor Messages finished to update messages state, next check scheduled to run in 60 seconds.',\n",
       " '[6880] 2021-02-12 00:16:14,424 [8] INFO  - Receive data[Data: 10-00-0C-02-24-10-DB-44-00-02-B7-11-20-20-40-00-50-00-00-29-6D-A4-8F]',\n",
       " '[6880] 2021-02-12 00:16:14,481 [145] INFO  - Locomotive: 4315 -> Message Sent. LocalEndpoint: 32 RemoteSegment/Endpoint: 1.1.4315:32 Data: 03-F8-60-25-BA-82-02-01-03-34-33-33-00-00-00-00-06-41-42-41-4E-44-4A-00',\n",
       " \"[6880] 2021-02-12 00:16:14,481 [145] INFO  - Locomotive: 4315 -> Updating STC message ID: 1857198 to 'E'\",\n",
       " '[6880] 2021-02-12 00:16:15,006 [145] INFO  - Locomotive: 4315 -> The message has been marked as Sent. Message Id: 1857198 ',\n",
       " '[6880] 2021-02-12 00:16:15,179 [6] INFO  - Looking for updates...',\n",
       " '[6880] 2021-02-12 00:16:15,181 [6] DEBUG - Nothing new.',\n",
       " '[6880] 2021-02-12 00:16:16,912 [12] DEBUG - TEST CONNECTION - Sending Echo Request Message. Identication value: 363893769',\n",
       " '[6880] 2021-02-12 00:16:16,917 [8] INFO  - Receive data[Data: 10-00-0D-00-00-00-00-00-00-00-1D-12-01-01-00-06-01-04-15-B0-94-09-D4-7F]',\n",
       " '[6880] 2021-02-12 00:16:16,921 [10] DEBUG - TEST CONNECTION - Echo Response was received.',\n",
       " '[6880] 2021-02-12 00:16:16,926 [12] DEBUG - TEST CONNECTION - Waiting Echo Response message.',\n",
       " \"[6880] 2021-02-12 00:16:17,742 [132] INFO  - Locomotive: 4302 -> Updating STC message ID: 1857205 to 'S'\",\n",
       " '[6880] 2021-02-12 00:16:17,750 [132] INFO  - Read (1) messages from DB',\n",
       " '[6880] 2021-02-12 00:16:17,750 [132] INFO  - Locomotive: 4302 -> Preparing to send message from STC. LocalEndpoint: 32 RemoteSegment/Endpoint: 1.1.4302:32',\n",
       " '[6880] 2021-02-12 00:16:18,400 [8] INFO  - Receive data[Data: 10-00-0C-02-24-10-CE-44-00-02-A2-11-20-20-40-00-09-00-00-4A-00-B1-B0]',\n",
       " '[6880] 2021-02-12 00:16:18,466 [132] INFO  - Locomotive: 4302 -> Message Sent. LocalEndpoint: 32 RemoteSegment/Endpoint: 1.1.4302:32 Data: 03-EE-60-25-BA-BC-04-31-34-36-30-04-33-36-31-33-00-00-10-DB-00-00-00-00-00-03-4E-44-4A-00-00-00-00-04-41-42-41-44-60-24-DF-16-00-00-5B-DF',\n",
       " \"[6880] 2021-02-12 00:16:18,466 [132] INFO  - Locomotive: 4302 -> Updating STC message ID: 1857205 to 'E'\",\n",
       " '[6880] 2021-02-12 00:16:19,119 [132] INFO  - Locomotive: 4302 -> The message has been marked as Sent. Message Id: 1857205 ',\n",
       " \"[6880] 2021-02-12 00:16:20,009 [145] INFO  - Locomotive: 4315 -> Updating STC message ID: 1857203 to 'S'\",\n",
       " '[6880] 2021-02-12 00:16:20,016 [145] INFO  - Read (1) messages from DB',\n",
       " '[6880] 2021-02-12 00:16:20,016 [145] INFO  - Locomotive: 4315 -> Preparing to send message from STC. LocalEndpoint: 32 RemoteSegment/Endpoint: 1.1.4315:32',\n",
       " '[6880] 2021-02-12 00:16:20,187 [6] INFO  - Looking for updates...',\n",
       " '[6880] 2021-02-12 00:16:20,189 [6] DEBUG - Nothing new.',\n",
       " '[6880] 2021-02-12 00:16:20,213 [8] INFO  - Receive data[Data: 10-00-34-3F-44-00-02-00-00-00-5D-12-03-20-00-2D-14-00-00-00-00-00-00-00-00-00-00-00-00-00-00-00-00-00-00-00-00-00-00-00-00-00-00-00-00-00-00-00-00-00-00-00-00-00-00-00-00-00-00-01-01-BD-75]',\n",
       " '[6880] 2021-02-12 00:16:24,718 [11] DEBUG - KEEP-ALIVE - Sending keep-alive message.',\n",
       " '[6880] 2021-02-12 00:16:25,190 [6] INFO  - Looking for updates...',\n",
       " '[6880] 2021-02-12 00:16:25,193 [6] DEBUG - Nothing new.',\n",
       " '[6880] 2021-02-12 00:16:26,927 [12] DEBUG - TEST CONNECTION - Expected value: 363893769 | Received value: 363893769',\n",
       " '[6880] 2021-02-12 00:16:30,195 [6] INFO  - Looking for updates...',\n",
       " '[6880] 2021-02-12 00:16:30,197 [6] DEBUG - Nothing new.',\n",
       " '[6880] 2021-02-12 00:16:30,215 [8] INFO  - Receive data[Data: 10-00-34-3F-44-00-02-00-00-00-5D-12-03-20-00-2D-14-00-00-00-00-00-00-00-00-00-00-00-00-00-00-00-00-00-00-00-00-00-00-00-00-00-00-00-00-00-00-00-00-00-00-00-00-00-00-00-00-00-00-01-01-BD-75]',\n",
       " '[6880] 2021-02-12 00:16:30,266 [8] INFO  - Receive data[Data: 10-00-39-02-24-10-D5-44-00-02-8C-11-20-20-30-00-29-00-2D-07-DF-60-25-BA-CD-04-34-36-31-31-00-00-35-A1-00-05-49-96-15-00-00-4E-FF-00-03-C7-60-06-45-53-53-4E-54-4F-00-03-C7-4E-04-45-53-53-44-00-3D-D9-6B-B1]',\n",
       " '[6880] 2021-02-12 00:16:30,338 [131] INFO  - Locomotive: 4309 -> Message Received. LocalEndpoint: 32 RemoteSegment/Endpoint: 1.1.4309:32 Data: 07-DF-60-25-BA-CD-04-34-36-31-31-00-00-35-A1-00-05-49-96-15-00-00-4E-FF-00-03-C7-60-06-45-53-53-4E-54-4F-00-03-C7-4E-04-45-53-53-44-00',\n",
       " '[6880] 2021-02-12 00:16:30,338 [131] INFO  - Locomotive: 4309 -> Inserting new message from ACSSocket into STC Database.',\n",
       " '[6880] 2021-02-12 00:16:31,217 [8] INFO  - Receive data[Data: 10-00-39-02-24-10-D5-44-00-02-8C-11-20-20-30-00-2A-00-2D-07-DF-60-25-BA-CE-04-34-36-31-31-00-00-35-A1-00-05-49-96-15-00-00-4F-04-00-03-C7-60-06-45-53-53-4E-54-4F-00-03-C7-4E-04-45-53-53-44-00-EE-34-35-43]',\n",
       " '[6880] 2021-02-12 00:16:31,288 [131] INFO  - Locomotive: 4309 -> Message Received. LocalEndpoint: 32 RemoteSegment/Endpoint: 1.1.4309:32 Data: 07-DF-60-25-BA-CE-04-34-36-31-31-00-00-35-A1-00-05-49-96-15-00-00-4F-04-00-03-C7-60-06-45-53-53-4E-54-4F-00-03-C7-4E-04-45-53-53-44-00',\n",
       " '[6880] 2021-02-12 00:16:31,288 [131] INFO  - Locomotive: 4309 -> Inserting new message from ACSSocket into STC Database.',\n",
       " '[6880] 2021-02-12 00:16:35,198 [6] INFO  - Looking for updates...',\n",
       " '[6880] 2021-02-12 00:16:35,204 [6] DEBUG - Nothing new.',\n",
       " \"[6880] 2021-02-12 00:16:35,251 [4] INFO  - Locomotive: 4301 -> Updating STC message ID: 1857209 to 'S'\",\n",
       " '[6880] 2021-02-12 00:16:35,259 [4] INFO  - Read (1) messages from DB',\n",
       " '[6880] 2021-02-12 00:16:35,259 [4] INFO  - Locomotive: 4301 -> Preparing to send message from STC. LocalEndpoint: 32 RemoteSegment/Endpoint: 1.1.4301:32',\n",
       " '[6880] 2021-02-12 00:16:35,368 [8] INFO  - Receive data[Data: 10-00-0C-02-24-0B-DF-44-00-02-A8-11-20-20-40-00-0D-00-00-4D-09-19-6C]',\n",
       " '[6880] 2021-02-12 00:16:35,419 [8] INFO  - Receive data[Data: 10-00-1B-02-24-0B-DF-44-00-02-BF-11-20-20-30-00-0F-00-0F-07-DA-60-25-BA-A6-04-32-36-33-31-60-25-BA-A6-64-33-5E-D4]',\n",
       " '[6880] 2021-02-12 00:16:35,427 [101] INFO  - Locomotive: 3039 -> Message Sent. LocalEndpoint: 32 RemoteSegment/Endpoint: 1.1.3039:32 Data: 03-EA-60-25-BA-A5-00-00-12-25-04-32-36-33-31-00-00-00-00-00-00-06-44-4F-55-4C-49-46-00-00-00-00-04-4C-49-46-45-00-00-01-01-00-00-34-33-00-00-00-00-00-00-00-06-44-4F-55-4C-49-46-00-07-DC-1C-00-07-DC-80-0A-00-00-00-FF-00-00-00-00-00-00-07-43-59-52-49-4C-4C-45',\n",
       " \"[6880] 2021-02-12 00:16:35,427 [101] INFO  - Locomotive: 3039 -> Updating STC message ID: 1857199 to 'E'\",\n",
       " '[6880] 2021-02-12 00:16:35,490 [98] INFO  - Locomotive: 3039 -> Message Received. LocalEndpoint: 32 RemoteSegment/Endpoint: 1.1.3039:32 Data: 07-DA-60-25-BA-A6-04-32-36-33-31-60-25-BA-A6',\n",
       " '[6880] 2021-02-12 00:16:35,490 [98] INFO  - Locomotive: 3039 -> Inserting new message from ACSSocket into STC Database.',\n",
       " '[6880] 2021-02-12 00:16:36,040 [101] INFO  - Locomotive: 3039 -> The message has been marked as Sent. Message Id: 1857199 ',\n",
       " '[6880] 2021-02-12 00:16:36,042 [8] INFO  - Receive data[Data: 10-00-0C-02-24-10-CD-44-00-02-A1-11-20-20-40-00-1A-00-00-54-60-AC-99]',\n",
       " '[6880] 2021-02-12 00:16:36,099 [4] INFO  - Locomotive: 4301 -> Message Sent. LocalEndpoint: 32 RemoteSegment/Endpoint: 1.1.4301:32 Data: 03-F8-60-25-BA-CF-01-01-04-34-36-31-31-00-00-00-00-06-45-53-53-4E-54-4F-00',\n",
       " \"[6880] 2021-02-12 00:16:36,099 [4] INFO  - Locomotive: 4301 -> Updating STC message ID: 1857209 to 'E'\",\n",
       " '[6880] 2021-02-12 00:16:36,669 [4] INFO  - Locomotive: 4301 -> The message has been marked as Sent. Message Id: 1857209 ',\n",
       " '[6880] 2021-02-12 00:16:40,206 [6] INFO  - Looking for updates...',\n",
       " '[6880] 2021-02-12 00:16:40,217 [8] INFO  - Receive data[Data: 10-00-34-3F-44-00-02-00-00-00-5D-12-03-20-00-2D-14-00-00-00-00-00-00-00-00-00-00-00-00-00-00-00-00-00-00-00-00-00-00-00-00-00-00-00-00-00-00-00-00-00-00-00-00-00-00-00-00-00-00-01-01-BD-75]',\n",
       " '[6880] 2021-02-12 00:16:40,224 [6] DEBUG - Nothing new.',\n",
       " \"[6880] 2021-02-12 00:16:41,044 [101] INFO  - Locomotive: 3039 -> Updating STC message ID: 1857200 to 'S'\",\n",
       " '[6880] 2021-02-12 00:16:41,054 [101] INFO  - Read (1) messages from DB',\n",
       " '[6880] 2021-02-12 00:16:41,054 [101] INFO  - Locomotive: 3039 -> Preparing to send message from STC. LocalEndpoint: 32 RemoteSegment/Endpoint: 1.1.3039:32',\n",
       " \"[6880] 2021-02-12 00:16:41,673 [4] INFO  - Locomotive: 4301 -> Updating STC message ID: 1857210 to 'S'\",\n",
       " '[6880] 2021-02-12 00:16:41,681 [4] INFO  - Read (1) messages from DB',\n",
       " '[6880] 2021-02-12 00:16:41,681 [4] INFO  - Locomotive: 4301 -> Preparing to send message from STC. LocalEndpoint: 32 RemoteSegment/Endpoint: 1.1.4301:32',\n",
       " '[6880] 2021-02-12 00:16:42,317 [8] INFO  - Receive data[Data: 10-00-0C-02-24-10-CD-44-00-02-A1-11-20-20-40-00-1B-00-00-55-A2-C6-AE]',\n",
       " '[6880] 2021-02-12 00:16:42,378 [4] INFO  - Locomotive: 4301 -> Message Sent. LocalEndpoint: 32 RemoteSegment/Endpoint: 1.1.4301:32 Data: 03-F8-60-25-BA-CF-02-01-04-34-36-31-31-00-00-00-00-04-45-53-53-44-00',\n",
       " \"[6880] 2021-02-12 00:16:42,378 [4] INFO  - Locomotive: 4301 -> Updating STC message ID: 1857210 to 'E'\",\n",
       " '[6880] 2021-02-12 00:16:42,960 [4] INFO  - Locomotive: 4301 -> The message has been marked as Sent. Message Id: 1857210 ',\n",
       " '[6880] 2021-02-12 00:16:45,226 [6] INFO  - Looking for updates...',\n",
       " '[6880] 2021-02-12 00:16:45,228 [6] DEBUG - Nothing new.',\n",
       " '[6880] 2021-02-12 00:16:50,219 [8] INFO  - Receive data[Data: 10-00-34-3F-44-00-02-00-00-00-5D-12-03-20-00-2D-14-00-00-00-00-00-00-00-00-00-00-00-00-00-00-00-00-00-00-00-00-00-00-00-00-00-00-00-00-00-00-00-00-00-00-00-00-00-00-00-00-00-00-01-01-BD-75]',\n",
       " '[6880] 2021-02-12 00:16:50,230 [6] INFO  - Looking for updates...',\n",
       " '[6880] 2021-02-12 00:16:50,231 [6] DEBUG - Nothing new.',\n",
       " '[6880] 2021-02-12 00:16:52,722 [11] DEBUG - KEEP-ALIVE - Sending keep-alive message.',\n",
       " '[6880] 2021-02-12 00:16:55,233 [6] INFO  - Looking for updates...',\n",
       " '[6880] 2021-02-12 00:16:55,234 [6] DEBUG - Nothing new.',\n",
       " '[6880] 2021-02-12 00:16:56,636 [8] INFO  - Receive data[Data: 10-00-25-02-24-0B-C0-44-00-02-9E-11-20-20-30-00-D7-00-19-07-E1-60-25-BA-CC-04-32-31-30-32-00-03-C7-E0-04-49-56-49-44-00-00-05-B1-E4-CE-DB-D5-B9]',\n",
       " '[6880] 2021-02-12 00:16:56,687 [8] INFO  - Receive data[Data: 10-00-0C-02-24-0B-E4-44-00-02-93-11-20-20-40-00-1E-00-00-53-69-04-45]',\n",
       " '[6880] 2021-02-12 00:16:56,703 [184] INFO  - Locomotive: 3008 -> Message Received. LocalEndpoint: 32 RemoteSegment/Endpoint: 1.1.3008:32 Data: 07-E1-60-25-BA-CC-04-32-31-30-32-00-03-C7-E0-04-49-56-49-44-00-00-05-B1-E4',\n",
       " '[6880] 2021-02-12 00:16:56,703 [184] INFO  - Locomotive: 3008 -> Inserting new message from ACSSocket into STC Database.',\n",
       " '[6880] 2021-02-12 00:16:56,745 [116] INFO  - Locomotive: 3044 -> Message Sent. LocalEndpoint: 32 RemoteSegment/Endpoint: 1.1.3044:32 Data: 03-EE-60-25-BA-A5-04-34-36-31-34-04-32-36-33-31-00-00-0B-DF-00-00-00-00-00-03-4C-49-46-00-00-00-00-04-44-4F-55-45-60-25-B8-AF-00-00-5B-EE',\n",
       " \"[6880] 2021-02-12 00:16:56,745 [116] INFO  - Locomotive: 3044 -> Updating STC message ID: 1857201 to 'E'\",\n",
       " '[6880] 2021-02-12 00:16:57,344 [116] INFO  - Locomotive: 3044 -> The message has been marked as Sent. Message Id: 1857201 ',\n",
       " '[6880] 2021-02-12 00:17:00,220 [8] INFO  - Receive data[Data: 10-00-34-3F-44-00-02-00-00-00-5D-12-03-20-00-2D-14-00-00-00-00-00-00-00-00-00-00-00-00-00-00-00-00-00-00-00-00-00-00-00-00-00-00-00-00-00-00-00-00-00-00-00-00-00-00-00-00-00-00-01-01-BD-75]',\n",
       " '[6880] 2021-02-12 00:17:00,235 [6] INFO  - Looking for updates...',\n",
       " '[6880] 2021-02-12 00:17:00,240 [6] DEBUG - Nothing new.',\n",
       " '[6880] 2021-02-12 00:17:05,242 [6] INFO  - Looking for updates...',\n",
       " '[6880] 2021-02-12 00:17:05,244 [6] DEBUG - Nothing new.',\n",
       " '[6880] 2021-02-12 00:17:10,222 [8] INFO  - Receive data[Data: 10-00-34-3F-44-00-02-00-00-00-5D-12-03-20-00-2D-14-00-00-00-00-00-00-00-00-00-00-00-00-00-00-00-00-00-00-00-00-00-00-00-00-00-00-00-00-00-00-00-00-00-00-00-00-00-00-00-00-00-00-01-01-BD-75]',\n",
       " '[6880] 2021-02-12 00:17:10,245 [6] INFO  - Looking for updates...',\n",
       " '[6880] 2021-02-12 00:17:10,247 [6] DEBUG - Nothing new.',\n",
       " '[6880] 2021-02-12 00:17:14,445 [15] INFO  - Monitor Messages finished to update messages state, next check scheduled to run in 60 seconds.',\n",
       " '[6880] 2021-02-12 00:17:15,248 [6] INFO  - Looking for updates...',\n",
       " '[6880] 2021-02-12 00:17:15,252 [6] DEBUG - Nothing new.',\n",
       " '[6880] 2021-02-12 00:17:17,610 [8] INFO  - Receive data[Data: 10-00-0C-02-24-0B-DF-44-00-02-A8-11-20-20-40-00-0E-00-00-4F-4F-A7-35]',\n",
       " '[6880] 2021-02-12 00:17:17,670 [101] INFO  - Locomotive: 3039 -> Message Sent. LocalEndpoint: 32 RemoteSegment/Endpoint: 1.1.3039:32 Data: 03-EE-60-25-BA-A5-04-32-36-33-31-04-34-36-31-34-00-00-0B-E4-00-00-00-00-00-03-4C-49-46-00-00-00-00-04-4C-49-46-44-60-25-A5-7B-00-00-5B-F2',\n",
       " \"[6880] 2021-02-12 00:17:17,670 [101] INFO  - Locomotive: 3039 -> Updating STC message ID: 1857200 to 'E'\",\n",
       " '[6880] 2021-02-12 00:17:18,224 [101] INFO  - Locomotive: 3039 -> The message has been marked as Sent. Message Id: 1857200 ',\n",
       " '[6880] 2021-02-12 00:17:20,224 [8] INFO  - Receive data[Data: 10-00-34-3F-44-00-02-00-00-00-5D-12-03-20-00-2D-14-00-00-00-00-00-00-00-00-00-00-00-00-00-00-00-00-00-00-00-00-00-00-00-00-00-00-00-00-00-00-00-00-00-00-00-00-00-00-00-00-00-00-01-01-BD-75]',\n",
       " '[6880] 2021-02-12 00:17:20,253 [6] INFO  - Looking for updates...',\n",
       " '[6880] 2021-02-12 00:17:20,255 [6] DEBUG - Nothing new.',\n",
       " '[6880] 2021-02-12 00:17:20,726 [11] DEBUG - KEEP-ALIVE - Sending keep-alive message.',\n",
       " '[6880] 2021-02-12 00:17:25,256 [6] INFO  - Looking for updates...',\n",
       " '[6880] 2021-02-12 00:17:25,258 [6] DEBUG - Nothing new.',\n",
       " '[6880] 2021-02-12 00:17:28,378 [8] INFO  - Receive data[Data: 10-00-0C-02-24-10-DB-44-00-02-B7-11-20-20-40-00-51-00-00-28-AF-CE-B8]',\n",
       " '[6880] 2021-02-12 00:17:28,429 [8] INFO  - Receive data[Data: 10-00-30-02-24-0B-DF-44-00-02-94-11-20-20-30-00-10-00-24-07-DC-60-25-BA-C6-00-00-12-25-04-32-36-33-31-00-00-00-00-00-06-44-4F-55-4C-49-46-00-00-00-00-04-4C-49-46-45-0C-B0-A9-9A]',\n",
       " '[6880] 2021-02-12 00:17:28,437 [145] INFO  - Locomotive: 4315 -> Message Sent. LocalEndpoint: 32 RemoteSegment/Endpoint: 1.1.4315:32 Data: 03-EA-60-25-BA-BC-00-00-12-24-04-33-36-31-33-00-00-00-00-00-00-04-41-42-41-44-00-00-00-00-05-4E-44-4A-31-45-00-00-09-01-00-00-37-CA-00-00-00-00-00-00-00-04-41-42-41-44-00-02-44-DC-00-02-45-40-1E-00-00-01-00-00-30-B5-00-00-00-00-00-00-00-06-41-42-41-4E-44-4A-00-02-C4-34-00-02-C4-50-1E-00-00-01-00-00-2C-4A-00-00-00-00-00-00-00-06-41-42-41-4E-44-4A-00-02-A5-BC-00-02-A6-E8-1E-00-00-01-00-00-25-9E-00-00-00-00-00-00-00-06-41-42-41-4E-44-4A-00-02-52-EC-00-02-56-0C-0A-00-00-01-00-00-2A-BA-00-00-00-00-00-00-00-06-41-42-41-4E-44-4A-00-02-BF-20-00-02-C4-34-1E-00-00-01-00-00-2F-5F-00-00-00-00-00-00-00-06-41-42-41-4E-44-4A-00-02-61-C4-00-02-62-28-1E-00-00-01-00-00-33-BF-00-00-00-00-00-00-00-06-41-42-41-4E-44-4A-00-02-B2-3C-00-02-B2-A0-1E-00-00-01-00-00-36-9E-00-00-00-00-00-00-00-06-41-42-41-4E-44-4A-00-02-5E-A4-00-02-5F-08-1E-00-00-01-00-00-37-F5-00-00-00-00-00-00-00-06-41-42-41-4E-44-4A-00-02-49-F8-00-02-56-D4-1E-00-00-00-FF-00-00-00-00-00-00-07-47-41-53-54-49-45-4E',\n",
       " \"[6880] 2021-02-12 00:17:28,437 [145] INFO  - Locomotive: 4315 -> Updating STC message ID: 1857203 to 'E'\",\n",
       " '[6880] 2021-02-12 00:17:28,500 [98] INFO  - Locomotive: 3039 -> Message Received. LocalEndpoint: 32 RemoteSegment/Endpoint: 1.1.3039:32 Data: 07-DC-60-25-BA-C6-00-00-12-25-04-32-36-33-31-00-00-00-00-00-06-44-4F-55-4C-49-46-00-00-00-00-04-4C-49-46-45',\n",
       " '[6880] 2021-02-12 00:17:28,500 [98] INFO  - Locomotive: 3039 -> Inserting new message from ACSSocket into STC Database.',\n",
       " ...]"
      ]
     },
     "metadata": {},
     "execution_count": 11
    }
   ],
   "source": [
    "log"
   ]
  },
  {
   "cell_type": "code",
   "execution_count": 72,
   "metadata": {},
   "outputs": [
    {
     "output_type": "stream",
     "name": "stdout",
     "text": [
      "[6880] 2021-02-12 09:27:49,914 [144] INFO  - Locomotive: 4314 -> Updating STC message ID: 1858487 to 'E'\n\n"
     ]
    }
   ],
   "source": [
    "# Regex used to match relevant loglines \n",
    "line_regex = re.compile(\"Updating STC message ID: 1858487 to 'E'*\")\n",
    "\n",
    "# Output file, where the matched loglines will be copied to\n",
    "output_filename = os.path.normpath(\"parsed_lines.log\")\n",
    "# Overwrites the file, ensure we're starting out with a blank file\n",
    "with open(output_filename, \"w\") as out_file:\n",
    "    out_file.write(\"\")\n",
    "\n",
    "# Open output file in 'append' mode\n",
    "with open(output_filename, \"a\") as out_file:\n",
    "    # Open input file in 'read' mode\n",
    "    with open(\"app_STCROUTER.log\", \"r\") as in_file:\n",
    "        # Loop over each log line\n",
    "        for line in in_file:\n",
    "            # If log line matches our regex, print to console, and output file\n",
    "            if (line_regex.search(line)):\n",
    "                print (line)\n",
    "                file_line = line\n",
    "                out_file.write(line)"
   ]
  },
  {
   "cell_type": "code",
   "execution_count": 80,
   "metadata": {},
   "outputs": [
    {
     "output_type": "execute_result",
     "data": {
      "text/plain": [
       "27943"
      ]
     },
     "metadata": {},
     "execution_count": 80
    }
   ],
   "source": [
    "file_line = file_line.rstrip()\n",
    "line_number = log.index(file_line)\n",
    "line_number"
   ]
  },
  {
   "cell_type": "code",
   "execution_count": 81,
   "metadata": {},
   "outputs": [
    {
     "output_type": "execute_result",
     "data": {
      "text/plain": [
       "'[6880] 2021-02-12 09:27:49,853 [8] INFO  - Receive data[Data: 10-00-0C-02-24-10-DA-44-00-02-B6-11-20-20-40-00-0F-00-00-4E-8D-CD-02]'"
      ]
     },
     "metadata": {},
     "execution_count": 81
    }
   ],
   "source": [
    "log[line_number-2]"
   ]
  }
 ]
}