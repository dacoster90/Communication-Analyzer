{
 "metadata": {
  "language_info": {
   "codemirror_mode": {
    "name": "ipython",
    "version": 3
   },
   "file_extension": ".py",
   "mimetype": "text/x-python",
   "name": "python",
   "nbconvert_exporter": "python",
   "pygments_lexer": "ipython3",
   "version": "3.8.1-final"
  },
  "orig_nbformat": 2,
  "kernelspec": {
   "name": "python3",
   "display_name": "Python 3.8.1 64-bit",
   "metadata": {
    "interpreter": {
     "hash": "82e4d6bc4303fa934e3418497c91e681f3d49f64519438e75761be396f2eaee1"
    }
   }
  }
 },
 "nbformat": 4,
 "nbformat_minor": 2,
 "cells": [
  {
   "cell_type": "code",
   "execution_count": 1,
   "metadata": {},
   "outputs": [],
   "source": [
    "import cx_Oracle\n",
    "import pandas as pd\n",
    "from datetime import timedelta\n",
    "from datetime import datetime   \n",
    "import numpy as np\n",
    "import os\n",
    "import re"
   ]
  },
  {
   "cell_type": "code",
   "execution_count": 2,
   "metadata": {},
   "outputs": [],
   "source": [
    "# Initializing database connection\n",
    "con = cx_Oracle.connect('STC_SETRAG/art@localhost/orcl.eng.engesis.com')\n",
    "cur = con.cursor()\n",
    "\n",
    "    # First Query\n",
    "query=cur.execute('select * from historico_mensagens')\n",
    "df = pd.DataFrame(query)\n",
    "    # Second Query\n",
    "\n",
    "cur.close()\n",
    "con.close()"
   ]
  },
  {
   "cell_type": "code",
   "execution_count": 3,
   "metadata": {},
   "outputs": [],
   "source": [
    "df.columns=['HM_ID_HM','HM_LOCO_MSG','HM_PRF_TRM','HM_OBC_MSG','HM_NUM_MSG','HM_TP_MSG','HM_DAT_OBC','HM_DAT_STC', 'HM_TXT_MSG','HM_TXT_TW','HM_LAT_HM','HM_LON_HM','HM_ENV_RCB','HM_MSG_VOZ','HM_NUM_FUN','HM_ID_AUX','HM_SIT_ENV','MT_ID_MT']\n",
    "df = df.drop(['HM_TP_MSG','HM_TXT_TW','HM_ID_AUX','HM_OBC_MSG','HM_LAT_HM','HM_LON_HM'], axis=1)\n",
    "\n",
    "df_sent = df.loc[df['HM_ENV_RCB']=='E']\n",
    "df_received = df.loc[df['HM_ENV_RCB']=='R']\n",
    "\n",
    "    # Removing the original dataframe\n",
    "df = pd.DataFrame(None)"
   ]
  },
  {
   "cell_type": "code",
   "execution_count": 4,
   "metadata": {},
   "outputs": [],
   "source": [
    "month = '2'\n",
    "year = '2021'\n",
    "a = timedelta(seconds=300)"
   ]
  },
  {
   "cell_type": "code",
   "execution_count": 5,
   "metadata": {},
   "outputs": [],
   "source": [
    "df_sent = df_sent.loc[df_sent['HM_DAT_STC']>= year + '-' + month +'-01']\n",
    "if(month == '12'):     # December\n",
    "    df_sent = df_sent.loc[df_sent['HM_DAT_STC']< str(int(year)+1) + '-1-01']\n",
    "else:                  # Other months\n",
    "    df_sent = df_sent.loc[df_sent['HM_DAT_STC']< year + '-' + str(int(month)+1) +'-01']\n",
    "    # 2) Filter all messages that contain OBC time\n",
    "df_sent = df_sent.loc[df_sent['HM_DAT_OBC'].notnull()]\n",
    "    # 3) Filter messages to ensure that the STC time is smaller (or igual) to the OBC time (avoid negative values)\n",
    "df_sent = df_sent.loc[df_sent['HM_DAT_STC']<=df_sent['HM_DAT_OBC']]\n",
    "    # 4) Filter messages that contain locomotive ID\n",
    "df_sent = df_sent[df_sent['HM_LOCO_MSG'].notnull()]\n",
    "\n",
    "    # Received DataFrame\n",
    "    # 1) Filter all messages that did not expired\n",
    "df_received = df_received.loc[df_received['HM_SIT_ENV']=='E']\n",
    "    # 2) Filter messages from within the date set by user\n",
    "df_received = df_received.loc[df_received['HM_DAT_STC']>= year + '-' + month +'-01']\n",
    "if(month == '12'):     # December\n",
    "    df_received = df_received.loc[df_received['HM_DAT_STC']< str(int(year)+1) + '-1-01']\n",
    "else:                  # Other months\n",
    "    df_received = df_received.loc[df_received['HM_DAT_STC']< year + '-' + str(int(month)+1) +'-01']\n",
    "    # 3) Filter all messages that contain OBC time\n",
    "df_received = df_received.loc[df_received['HM_DAT_OBC'].notnull()]\n",
    "    # 4) Filter all messages that have a date later than needed (avoiding future date messages)\n",
    "if(month == '12'):\n",
    "    df_received = df_received.loc[df_received['HM_DAT_OBC']< str(int(year)+1) +'-1-02']\n",
    "else:\n",
    "    df_received = df_received.loc[df_received['HM_DAT_OBC']< year + '-' + str(int(month)+1) +'-02']\n",
    "    # 5) Filter messages to ensure that the OBC time is smaller (or igual) to the STC time (avoid negative values)\n",
    "df_received = df_received.loc[df_received['HM_DAT_OBC']<=df_received['HM_DAT_STC']]\n",
    "    # 6) Filter messages that contain locomotive ID\n",
    "df_received = df_received[df_received['HM_LOCO_MSG'].notnull()]"
   ]
  },
  {
   "cell_type": "code",
   "execution_count": 6,
   "metadata": {},
   "outputs": [],
   "source": [
    "totalSentMessages = len(df_sent['HM_ID_HM'])\n",
    "    # Received\n",
    "totalReceivedMessages = len(df_received['HM_ID_HM'])\n",
    "    # Total\n",
    "totalMessages = totalSentMessages + totalReceivedMessages"
   ]
  },
  {
   "cell_type": "code",
   "execution_count": 7,
   "metadata": {},
   "outputs": [],
   "source": [
    "    # Sent\n",
    "df_sent['DELIVERY_TIME'] = df_sent['HM_DAT_OBC']-df_sent['HM_DAT_STC']\n",
    "    # Converting to string in order to execute a mathematic operation\n",
    "df_sent['DELIVERY_TIME'] = df_sent['DELIVERY_TIME']/np.timedelta64(1, 's')\n",
    "totalSent = sum(df_sent.iloc[:,12])\n",
    "averageSentDelivery = round(totalSent/totalSentMessages,0)\n",
    "    # Converting from float to mm:ss\n",
    "averageSentDelivery = timedelta(seconds=averageSentDelivery)\n",
    "averageSentDelivery=str(averageSentDelivery)\n",
    "\n",
    "    # Received\n",
    "df_received['DELIVERY_TIME'] = df_received['HM_DAT_STC']-df_received['HM_DAT_OBC']\n",
    "    # Converting to string in order to execute a mathematic operation\n",
    "df_received['DELIVERY_TIME'] = df_received['DELIVERY_TIME']/np.timedelta64(1, 's')\n",
    "totalReceived = sum(df_received.iloc[:,12])\n",
    "averageReceivedDelivery = round(totalReceived/totalReceivedMessages,0)\n"
   ]
  },
  {
   "cell_type": "code",
   "execution_count": 8,
   "metadata": {},
   "outputs": [],
   "source": [
    "    # Sent\n",
    "    # 3) Filter messages that took longer than 5 minutes\n",
    "df_sent = df_sent.loc[(df_sent['HM_DAT_OBC']-df_sent['HM_DAT_STC']) >= a]\n",
    "    # 4) Order the dataframe by HM_ID_HM\n",
    "df_sent = df_sent.sort_values(by=['HM_ID_HM'])\n",
    "\n",
    "    #Received\n",
    "    # 5) Filter messages that took longer than 5 minutes\n",
    "df_received = df_received.loc[(df_received['HM_DAT_STC']-df_received['HM_DAT_OBC']) >= a]\n",
    "    # 6) Order the dataframe by HM_ID_HM\n",
    "df_received = df_received.sort_values(by=['HM_ID_HM'])"
   ]
  },
  {
   "cell_type": "code",
   "execution_count": null,
   "metadata": {},
   "outputs": [],
   "source": []
  },
  {
   "cell_type": "code",
   "execution_count": null,
   "metadata": {},
   "outputs": [],
   "source": []
  },
  {
   "cell_type": "code",
   "execution_count": null,
   "metadata": {},
   "outputs": [],
   "source": []
  },
  {
   "cell_type": "code",
   "execution_count": null,
   "metadata": {},
   "outputs": [],
   "source": []
  },
  {
   "cell_type": "code",
   "execution_count": null,
   "metadata": {},
   "outputs": [],
   "source": []
  },
  {
   "cell_type": "code",
   "execution_count": null,
   "metadata": {},
   "outputs": [],
   "source": []
  },
  {
   "cell_type": "code",
   "execution_count": null,
   "metadata": {},
   "outputs": [],
   "source": []
  },
  {
   "cell_type": "code",
   "execution_count": 9,
   "metadata": {},
   "outputs": [],
   "source": [
    "# Adding new columns to count channels\n",
    "df_sent['GSM'] = 0\n",
    "df_sent['SAT'] = 0\n",
    "\n",
    "df_received['GSM'] = 0\n",
    "df_received['SAT'] = 0"
   ]
  },
  {
   "cell_type": "code",
   "execution_count": 10,
   "metadata": {},
   "outputs": [],
   "source": [
    "#converting it from float to INT\n",
    "df_sent['MT_ID_MT']=df_sent['MT_ID_MT'].astype('int')"
   ]
  },
  {
   "cell_type": "code",
   "execution_count": 11,
   "metadata": {},
   "outputs": [],
   "source": [
    "# Importing files\n",
    "myfile = open(\"D:\\\\kenneth\\\\Documents\\\\Clients\\\\SETRAG\\\\Tickets\\\\SDSTG_561_Server\\\\SDSTG_561\\\\app_STCROUTER.log\")\n",
    "stc_router_log = myfile.read().splitlines()\n",
    "myfile.close()\n",
    "\n",
    "myfile = open(\"D:\\\\kenneth\\\\Documents\\\\Clients\\\\SETRAG\\\\Tickets\\\\SDSTG_561_Server\\\\SDSTG_561\\\\app_ABR.log\")\n",
    "abr_log = myfile.read().splitlines()\n",
    "myfile.close()"
   ]
  },
  {
   "cell_type": "code",
   "execution_count": 12,
   "metadata": {},
   "outputs": [
    {
     "output_type": "stream",
     "name": "stdout",
     "text": [
      "[6880] 2021-02-12 01:28:00,306 [18] INFO  - Locomotive: 318 -> Updating STC message ID: 1857325 to 'E'\n"
     ]
    }
   ],
   "source": [
    "# Regex used to match relevant loglines \n",
    "line_regex = re.compile(\"Updating STC message ID: \"+str(df_sent.iloc[1468,11])+\" to 'E'*\")\n",
    "\n",
    "for line in stc_router_log:\n",
    "    # If log line matches our regex, print to console, and output file\n",
    "    if (line_regex.search(line)):\n",
    "        print (line)\n",
    "        file_line = line"
   ]
  },
  {
   "cell_type": "code",
   "execution_count": 13,
   "metadata": {},
   "outputs": [
    {
     "output_type": "execute_result",
     "data": {
      "text/plain": [
       "4682"
      ]
     },
     "metadata": {},
     "execution_count": 13
    }
   ],
   "source": [
    "# Get the line number in the STC Router log\n",
    "line_number = stc_router_log.index(file_line)\n",
    "line_number"
   ]
  },
  {
   "cell_type": "code",
   "execution_count": 14,
   "metadata": {},
   "outputs": [],
   "source": [
    "# Transform the prefix from decimal to hexadecimal\n",
    "prefix = hex(int(df_sent.iloc[1468,1]))\n",
    "prefix = prefix[2:10]\n",
    "prefix = prefix.upper()\n",
    "temp = ''              #empty string delcaration for temporary variable\n",
    "\n",
    "if len(prefix) == 2:\n",
    "    prefix_hex = '-' + prefix + '-'\n",
    "elif len(prefix) == 1:\n",
    "    prefix_hex = '-0' + prefix + '-'\n",
    "\n",
    "while len(prefix) > 2:     \n",
    "    if len(prefix)%2 == 1:\n",
    "        temp = temp + '-0' +  prefix[0] # take first character\n",
    "        prefix = prefix[1:10] # take the rest\n",
    "        prefix_hex =  temp + '-' + prefix + '-'\n",
    "    elif len(prefix)%2 == 0:\n",
    "        temp = temp + '-' + prefix[0:2] # take first two characters\n",
    "        prefix = prefix[2:10] # take the rest\n",
    "        prefix_hex = temp + '-' + prefix + '-'\n"
   ]
  },
  {
   "cell_type": "code",
   "execution_count": 15,
   "metadata": {},
   "outputs": [
    {
     "output_type": "execute_result",
     "data": {
      "text/plain": [
       "'-01-3E-'"
      ]
     },
     "metadata": {},
     "execution_count": 15
    }
   ],
   "source": [
    "prefix_hex"
   ]
  },
  {
   "cell_type": "code",
   "execution_count": 16,
   "metadata": {},
   "outputs": [
    {
     "output_type": "execute_result",
     "data": {
      "text/plain": [
       "'[6880] 2021-02-12 01:28:00,241 [8] INFO  - Receive data[Data: 10-00-0C-02-24-01-3E-44-00-02-43-11-20-20-40-00-02-00-00-46-55-5E-51]'"
      ]
     },
     "metadata": {},
     "execution_count": 16
    }
   ],
   "source": [
    "# Find the line that contains the ACK\n",
    "for i in range(0,50):\n",
    "    if '-11-20-20-40-' in stc_router_log[line_number-i] and prefix_hex in stc_router_log[line_number-i]: \n",
    "        stcrouter_line = stc_router_log[line_number-i]       \n",
    "        break\n",
    "stcrouter_line"
   ]
  },
  {
   "cell_type": "code",
   "execution_count": 17,
   "metadata": {},
   "outputs": [],
   "source": [
    "# Slicing the string that contains the timestamp - important to avoid duplicated lines\n",
    "date_hour = stcrouter_line[stcrouter_line.find(' ')+1:stcrouter_line.find(',')-2]\n",
    "# Slicing the string that contains the hexadecimal\n",
    "stcrouter_line = stcrouter_line[stcrouter_line.find('[Data: ')+7:] # the value '7' is so it wouldn't include he '[Data: ' part"
   ]
  },
  {
   "cell_type": "code",
   "execution_count": 19,
   "metadata": {},
   "outputs": [
    {
     "output_type": "stream",
     "name": "stdout",
     "text": [
      "2021-02-12 01:28:00,240 [94] DEBUG - TCP CHANNEL CONNECTION - New packet was received [Socket: 154.0.186.195:49785][Data: 10-00-0C-02-24-01-3E-44-00-02-43-11-20-20-40-00-02-00-00-46-55-5E-51]\n"
     ]
    }
   ],
   "source": [
    "# Regex used to match relevant loglines \n",
    "line_regex = re.compile(date_hour + r'.*?' + 'New packet was received' + r'.*?' + stcrouter_line)\n",
    "\n",
    "# Loop over each log line\n",
    "for line in abr_log:\n",
    "# If log line matches our regex\n",
    "    if (line_regex.search(line)):\n",
    "        print (line)\n",
    "        abr_line = line"
   ]
  },
  {
   "cell_type": "code",
   "execution_count": 20,
   "metadata": {},
   "outputs": [
    {
     "output_type": "execute_result",
     "data": {
      "text/plain": [
       "'2021-02-12 01:28:00,240 [94] DEBUG - TCP CHANNEL CONNECTION - New packet was received [Socket: 154.0.186.195:49785][Data: 10-00-0C-02-24-01-3E-44-00-02-43-11-20-20-40-00-02-00-00-46-55-5E-51]'"
      ]
     },
     "metadata": {},
     "execution_count": 20
    }
   ],
   "source": [
    "abr_line"
   ]
  },
  {
   "cell_type": "code",
   "execution_count": 21,
   "metadata": {},
   "outputs": [],
   "source": [
    "if 'TCP CHANNEL CONNECTION' in abr_line:\n",
    "    df_sent.iloc[1468,13] += 1\n",
    "elif 'INMARSAT CHANNEL' in abr_line: \n",
    "    df_sent.iloc[1468,14] += 1"
   ]
  },
  {
   "cell_type": "code",
   "execution_count": 22,
   "metadata": {},
   "outputs": [
    {
     "output_type": "execute_result",
     "data": {
      "text/plain": [
       "HM_ID_HM                                                   2215170\n",
       "HM_LOCO_MSG                                                    318\n",
       "HM_PRF_TRM                                                    2470\n",
       "HM_NUM_MSG                                                    1016\n",
       "HM_DAT_OBC                                     2021-02-12 01:28:00\n",
       "HM_DAT_STC                                     2021-02-12 00:44:37\n",
       "HM_TXT_MSG       information de Occupations  Au tour  \\n  \\nAct...\n",
       "HM_ENV_RCB                                                       E\n",
       "HM_MSG_VOZ                                                       F\n",
       "HM_NUM_FUN                                                      41\n",
       "HM_SIT_ENV                                                       E\n",
       "MT_ID_MT                                                   1857325\n",
       "DELIVERY_TIME                                               2603.0\n",
       "GSM                                                              1\n",
       "SAT                                                              0\n",
       "Name: 2230320, dtype: object"
      ]
     },
     "metadata": {},
     "execution_count": 22
    }
   ],
   "source": [
    "df_sent.iloc[1468,]"
   ]
  }
 ]
}